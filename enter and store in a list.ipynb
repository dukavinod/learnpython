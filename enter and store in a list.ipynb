{
 "cells": [
  {
   "cell_type": "markdown",
   "id": "f3f1b67e-20e4-43f1-8953-ce556a086dae",
   "metadata": {},
   "source": []
  },
  {
   "cell_type": "code",
   "execution_count": 19,
   "id": "531fc803-67bc-4722-acaa-72b0baa944e5",
   "metadata": {},
   "outputs": [
    {
     "name": "stdin",
     "output_type": "stream",
     "text": [
      "enter the number of elements to enter 4\n",
      "enter the values 3\n",
      "enter the values 4\n",
      "enter the values 5\n"
     ]
    },
    {
     "name": "stdout",
     "output_type": "stream",
     "text": [
      "['5', '4']\n"
     ]
    }
   ],
   "source": [
    "number = int(input(\"enter the number of elements to enter\"))\n",
    "list_0 = []\n",
    "for i in range(1,number):\n",
    "    list_1 = list(input(\"enter the values\"))\n",
    "    list_2 = \n",
    "    \n",
    "    \n",
    "print(list_2)"
   ]
  },
  {
   "cell_type": "code",
   "execution_count": 34,
   "id": "d43b644f-3b7a-489a-81fb-926bf4186a52",
   "metadata": {},
   "outputs": [
    {
     "name": "stdin",
     "output_type": "stream",
     "text": [
      "enter the number 4\n",
      "enter the number 5\n",
      "enter the number 6\n",
      "enter the number 7\n",
      "enter the number 6\n",
      "enter the number 7\n",
      "enter the number 8\n",
      "enter the number 9\n",
      "enter the number 0\n",
      "enter the number 2\n"
     ]
    },
    {
     "name": "stdout",
     "output_type": "stream",
     "text": [
      "[4, 5, 6, 7, 6, 7, 8, 9, 0, 2]\n"
     ]
    }
   ],
   "source": [
    "\n",
    "list_1 = []\n",
    "for i in range(10):\n",
    "    number = int(input(\"enter the number\"))\n",
    "    list_1.append(number)\n",
    "print(list_1)\n"
   ]
  },
  {
   "cell_type": "code",
   "execution_count": null,
   "id": "57283b45-2f23-407b-aa0e-257537f0a833",
   "metadata": {},
   "outputs": [],
   "source": [
    "num_input = int(input(\"Enter the number of elements: \"))\n",
    "my_list = []\n",
    "\n",
    "for i in range(num_input):\n",
    "    num = int(input(\"Enter a number: \"))\n",
    "    my_list.append(num)\n",
    "    \n",
    "print(f\"The entered list of number is:{my_list}\")"
   ]
  },
  {
   "cell_type": "code",
   "execution_count": null,
   "id": "af90647e-9e74-4e36-8d7c-ec3862ae4fa9",
   "metadata": {},
   "outputs": [],
   "source": []
  }
 ],
 "metadata": {
  "kernelspec": {
   "display_name": "Python 3 (ipykernel)",
   "language": "python",
   "name": "python3"
  },
  "language_info": {
   "codemirror_mode": {
    "name": "ipython",
    "version": 3
   },
   "file_extension": ".py",
   "mimetype": "text/x-python",
   "name": "python",
   "nbconvert_exporter": "python",
   "pygments_lexer": "ipython3",
   "version": "3.8.12"
  }
 },
 "nbformat": 4,
 "nbformat_minor": 5
}
