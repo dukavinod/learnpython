{
 "cells": [
  {
   "cell_type": "code",
   "execution_count": 22,
   "id": "9f06ba0e-e48b-4b35-b1a7-3bddaeb4c1d6",
   "metadata": {},
   "outputs": [
    {
     "name": "stdout",
     "output_type": "stream",
     "text": [
      "a            1\n",
      "another      1\n",
      "are          2\n",
      "first        1\n",
      "going        2\n",
      "in           2\n",
      "is           2\n",
      "line         2\n",
      "linethis     1\n",
      "of           1\n",
      "sample       2\n",
      "second       1\n",
      "text         2\n",
      "that         2\n",
      "the          3\n",
      "this         1\n",
      "to           2\n",
      "use          2\n",
      "we           2\n"
     ]
    }
   ],
   "source": [
    "\n",
    "from collections import Counter\n",
    "\n",
    "text = ('this is a sample text that we are going to use in the first line'\n",
    "        'this is the another line of sample text that we are going to use in the second line')\n",
    "\n",
    "counter = Counter(text.split())\n",
    "counter\n",
    "\n",
    "for word, count in sorted(counter.items()):\n",
    "    print(f'{word:<12} {count}')"
   ]
  }
 ],
 "metadata": {
  "kernelspec": {
   "display_name": "Python 3 (ipykernel)",
   "language": "python",
   "name": "python3"
  },
  "language_info": {
   "codemirror_mode": {
    "name": "ipython",
    "version": 3
   },
   "file_extension": ".py",
   "mimetype": "text/x-python",
   "name": "python",
   "nbconvert_exporter": "python",
   "pygments_lexer": "ipython3",
   "version": "3.8.12"
  }
 },
 "nbformat": 4,
 "nbformat_minor": 5
}
