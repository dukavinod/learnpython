{
 "cells": [
  {
   "cell_type": "code",
   "execution_count": 17,
   "id": "6b8b8e5e-3662-4976-912a-2724a639cebc",
   "metadata": {},
   "outputs": [
    {
     "name": "stdout",
     "output_type": "stream",
     "text": [
      "['arkam', 'bairstow', 'cairy', 'darpan']\n",
      "['arkam', 'bairstow', 'cairy', 'darpan', 'dhoni', 'sachin']\n",
      "['arkam', 'bairstow', 'cheteshwar', 'dinesh']\n"
     ]
    },
    {
     "data": {
      "text/plain": [
       "['arkam', 'bairstow']"
      ]
     },
     "execution_count": 17,
     "metadata": {},
     "output_type": "execute_result"
    }
   ],
   "source": [
    "l1 = ['Arkam', 'Bairstow', 'Cairy', 'Darpan'] \n",
    "\n",
    "l2 = ['ARKAM', 'Bairstow', 'Cairy', 'Darpan', 'Dhoni', 'Sachin']\n",
    "\n",
    "l3 = ['arkam', 'bairstow', 'Cheteshwar', 'Dinesh']\n",
    "\n",
    "f = lambda x: x.lower()\n",
    "l1lower = list(map(f,l1))\n",
    "l2lower = list(map(f,l2))\n",
    "l3lower = list(map(f,l3))\n",
    "\n",
    "l4 = list(filter(lambda x: x in (l2lower and l3lower),l1lower))\n",
    "l4\n",
    "    "
   ]
  },
  {
   "cell_type": "code",
   "execution_count": null,
   "id": "eb2591fb-d942-4deb-aa74-4a9d49e1f15f",
   "metadata": {},
   "outputs": [],
   "source": []
  }
 ],
 "metadata": {
  "kernelspec": {
   "display_name": "Python 3 (ipykernel)",
   "language": "python",
   "name": "python3"
  },
  "language_info": {
   "codemirror_mode": {
    "name": "ipython",
    "version": 3
   },
   "file_extension": ".py",
   "mimetype": "text/x-python",
   "name": "python",
   "nbconvert_exporter": "python",
   "pygments_lexer": "ipython3",
   "version": "3.8.12"
  }
 },
 "nbformat": 4,
 "nbformat_minor": 5
}
