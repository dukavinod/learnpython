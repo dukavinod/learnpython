{
 "cells": [
  {
   "cell_type": "code",
   "execution_count": 2,
   "id": "094cccd2-b970-4325-8584-d5ffe036b0ae",
   "metadata": {},
   "outputs": [
    {
     "name": "stdin",
     "output_type": "stream",
     "text": [
      " 4\n"
     ]
    },
    {
     "name": "stdout",
     "output_type": "stream",
     "text": [
      "3\n",
      "5\n"
     ]
    },
    {
     "data": {
      "text/plain": [
       "str"
      ]
     },
     "execution_count": 2,
     "metadata": {},
     "output_type": "execute_result"
    }
   ],
   "source": [
    "x= ord(input())\n",
    "next_char = chr(x+1)\n",
    "previous_char = chr(x-1)\n",
    "print(previous_char)\n",
    "print(next_char)\n",
    "type(next_char)"
   ]
  },
  {
   "cell_type": "code",
   "execution_count": 14,
   "id": "c94dab34-905d-4dee-a299-92e2c352ae8d",
   "metadata": {},
   "outputs": [
    {
     "name": "stdin",
     "output_type": "stream",
     "text": [
      " g\n"
     ]
    },
    {
     "name": "stdout",
     "output_type": "stream",
     "text": [
      "h\n",
      "f\n"
     ]
    }
   ],
   "source": [
    "a=input()\n",
    "if(a.isdigit()):\n",
    "    print(int(a)+1)\n",
    "    print(int(a)-1)\n",
    "elif(a.isascii()):\n",
    "    print(chr(ord(a)+1))\n",
    "    print(chr(ord(a)-1))"
   ]
  },
  {
   "cell_type": "code",
   "execution_count": 30,
   "id": "78ac2684-e839-4e3b-b792-3bc92804e62d",
   "metadata": {},
   "outputs": [
    {
     "name": "stdin",
     "output_type": "stream",
     "text": [
      " ASCII is a 7-bit code, representing 128 different characters. When an ascii character is stored in a byte the most significant bit is always zero. Sometimes the extra bit is used to indicate that the byte is not an ASCII character, but is a graphics symbol, however this is not defined by ASCII.ASCII is a 7-bit code, representing 128 different characters. When an ascii character is stored in a byte the most significant bit is always zero. Sometimes the extra bit is used to indicate that the byte is not an ASCII character, but is a graphics symbol, however this is not defined by ASCII.ASCII is a 7-bit code, representing 128 different characters. When an ascii character is stored in a byte the most significant bit is always zero. Sometimes the extra bit is used to indicate that the byte is not an ASCII character, but is a graphics symbol, however this is not defined by ASCII.ASCII is a 7-bit code, representing 128 different characters. When an ascii character is stored in a byte the most significant bit is always zero. Sometimes the extra bit is used to indicate that the byte is not an ASCII character, but is a graphics symbol, however ASCII is a 7-bit code, representing 128 different characters. When an ascii character is stored in a byte the most significant bit is always zero. Sometimes the extra bit is used to indicate that the byte is not an ASCII character, but is a graphics symbol, however this is not defined by ASCII. this is not defined by ASCII.\n"
     ]
    },
    {
     "name": "stdout",
     "output_type": "stream",
     "text": [
      "Hello\n"
     ]
    }
   ],
   "source": [
    "a=input()\n",
    "if a.isascii():\n",
    "    print('Hello')\n",
    "else:\n",
    "    print('bye')\n"
   ]
  },
  {
   "cell_type": "code",
   "execution_count": null,
   "id": "ec836177-fd7a-42c1-9861-5547af22f40f",
   "metadata": {},
   "outputs": [],
   "source": [
    "\n",
    "\n"
   ]
  },
  {
   "cell_type": "code",
   "execution_count": 31,
   "id": "2963c595-d1ff-4a04-a0c5-b948c1dcadfb",
   "metadata": {},
   "outputs": [
    {
     "name": "stdout",
     "output_type": "stream",
     "text": [
      "(3, 4, 5)\n"
     ]
    }
   ],
   "source": [
    "t=(1,2,3,4,5,6,7,8,9,10,11,12,13,14)\n",
    "len(t)\n",
    "print(t[2:14-9]) "
   ]
  },
  {
   "cell_type": "markdown",
   "id": "f959feb4-dd88-40c5-b5a7-9eac42024cad",
   "metadata": {},
   "source": [
    "### Happy and Sad Number      "
   ]
  },
  {
   "cell_type": "code",
   "execution_count": 3,
   "id": "d9cdb3f5-cf13-4e8c-bb6b-fb6e96029dcd",
   "metadata": {},
   "outputs": [
    {
     "name": "stdin",
     "output_type": "stream",
     "text": [
      "enter any number: 2,128\n"
     ]
    },
    {
     "name": "stdout",
     "output_type": "stream",
     "text": [
      "Happy Number\n"
     ]
    }
   ],
   "source": [
    "\n",
    "string = input(\"enter any number:\")\n",
    "string1 = string.replace(',','')\n",
    "x = int(string1)\n",
    "flag = False\n",
    "for i in string1:\n",
    "    if (int(i)!=0) and (x%int(i) == 0):\n",
    "        flag = True\n",
    "    else:\n",
    "        flag = False\n",
    "        break\n",
    "\n",
    "if flag == False:\n",
    "    print(\"Sad Number\")\n",
    "if flag == True:\n",
    "    print(\"Happy Number\")"
   ]
  },
  {
   "cell_type": "code",
   "execution_count": null,
   "id": "c4e3e56c-d8d2-425b-9fa6-424e3e5d72b5",
   "metadata": {},
   "outputs": [],
   "source": []
  }
 ],
 "metadata": {
  "kernelspec": {
   "display_name": "Python 3 (ipykernel)",
   "language": "python",
   "name": "python3"
  },
  "language_info": {
   "codemirror_mode": {
    "name": "ipython",
    "version": 3
   },
   "file_extension": ".py",
   "mimetype": "text/x-python",
   "name": "python",
   "nbconvert_exporter": "python",
   "pygments_lexer": "ipython3",
   "version": "3.8.12"
  }
 },
 "nbformat": 4,
 "nbformat_minor": 5
}
