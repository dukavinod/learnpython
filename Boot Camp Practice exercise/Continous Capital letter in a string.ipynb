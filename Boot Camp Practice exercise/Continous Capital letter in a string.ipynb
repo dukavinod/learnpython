{
 "cells": [
  {
   "cell_type": "code",
   "execution_count": 16,
   "id": "2e8295a0-0d1a-48df-8f9e-1310f650e9bd",
   "metadata": {},
   "outputs": [
    {
     "name": "stdout",
     "output_type": "stream",
     "text": [
      "CUP\n",
      "3\n"
     ]
    }
   ],
   "source": [
    "msg = 'India WOn the WOrLD CUP'\n",
    "msg1 = msg.replace(' ','#')\n",
    "msg2 = ''\n",
    "for char in msg:\n",
    "    \n",
    "    if char.islower():\n",
    "        msg2 = msg2+'#'\n",
    "    if char.isupper():\n",
    "        msg2 = msg2+char\n",
    "    if char == ' ':\n",
    "        msg2 = msg2+'#'\n",
    "        \n",
    "list_1 = msg2.split('#')\n",
    "dict1 = {}\n",
    "for word in list_1:\n",
    "    dict1[word] = len(word)\n",
    "\n",
    "maximum = max(dict1.values())\n",
    "\n",
    "for k,v in dict1.items():\n",
    "    if (v==maximum):\n",
    "        print(k)\n",
    "        print(len(k))\n",
    "    \n",
    "\n"
   ]
  },
  {
   "cell_type": "code",
   "execution_count": null,
   "id": "7ff98cde-a2d9-4eb3-8f14-b6f91b4a3b7c",
   "metadata": {},
   "outputs": [],
   "source": [
    "for i in list_1:\n",
    "    len(i)"
   ]
  }
 ],
 "metadata": {
  "kernelspec": {
   "display_name": "Python 3 (ipykernel)",
   "language": "python",
   "name": "python3"
  },
  "language_info": {
   "codemirror_mode": {
    "name": "ipython",
    "version": 3
   },
   "file_extension": ".py",
   "mimetype": "text/x-python",
   "name": "python",
   "nbconvert_exporter": "python",
   "pygments_lexer": "ipython3",
   "version": "3.8.12"
  }
 },
 "nbformat": 4,
 "nbformat_minor": 5
}
