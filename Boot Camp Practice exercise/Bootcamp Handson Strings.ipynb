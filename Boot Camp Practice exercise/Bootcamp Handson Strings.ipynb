{
 "cells": [
  {
   "cell_type": "code",
   "execution_count": 1,
   "id": "9ef396c1-77a7-4589-be68-a1b3b7f4403f",
   "metadata": {},
   "outputs": [],
   "source": [
    "msg = 'amazon'"
   ]
  },
  {
   "cell_type": "code",
   "execution_count": 2,
   "id": "fe48228f-ae81-44f8-83b0-861c2adf90d9",
   "metadata": {},
   "outputs": [
    {
     "data": {
      "text/plain": [
       "'mazo'"
      ]
     },
     "execution_count": 2,
     "metadata": {},
     "output_type": "execute_result"
    }
   ],
   "source": [
    "msg[1:5]"
   ]
  },
  {
   "cell_type": "code",
   "execution_count": 3,
   "id": "2de485ad-21f4-407c-a42a-14140e0ddc4c",
   "metadata": {},
   "outputs": [],
   "source": [
    "msg = 'crocodile'"
   ]
  },
  {
   "cell_type": "code",
   "execution_count": 4,
   "id": "17bf3369-a392-4362-bc07-d008bc0154ff",
   "metadata": {},
   "outputs": [
    {
     "data": {
      "text/plain": [
       "'croc'"
      ]
     },
     "execution_count": 4,
     "metadata": {},
     "output_type": "execute_result"
    }
   ],
   "source": [
    "msg[:4]"
   ]
  },
  {
   "cell_type": "code",
   "execution_count": 5,
   "id": "67fa2fe3-c18a-4c76-a353-589e811e4bf0",
   "metadata": {},
   "outputs": [
    {
     "data": {
      "text/plain": [
       "'croc'"
      ]
     },
     "execution_count": 5,
     "metadata": {},
     "output_type": "execute_result"
    }
   ],
   "source": [
    "msg[-9:-5]"
   ]
  },
  {
   "cell_type": "code",
   "execution_count": 6,
   "id": "e83018a3-d363-4d45-ba6d-19e71eb05810",
   "metadata": {},
   "outputs": [
    {
     "data": {
      "text/plain": [
       "'dile'"
      ]
     },
     "execution_count": 6,
     "metadata": {},
     "output_type": "execute_result"
    }
   ],
   "source": [
    "msg[5:]"
   ]
  },
  {
   "cell_type": "code",
   "execution_count": 7,
   "id": "eb086fb7-c720-46ad-92ef-51c7cb88af2f",
   "metadata": {},
   "outputs": [
    {
     "data": {
      "text/plain": [
       "True"
      ]
     },
     "execution_count": 7,
     "metadata": {},
     "output_type": "execute_result"
    }
   ],
   "source": [
    "msg = 'crocodile'\n",
    "msg.startswith('c')"
   ]
  },
  {
   "cell_type": "code",
   "execution_count": 8,
   "id": "eeceac1a-a0ff-4f7a-8cdc-c709eee8a3e2",
   "metadata": {},
   "outputs": [],
   "source": [
    "msg = 'avacado is very good for health'"
   ]
  },
  {
   "cell_type": "code",
   "execution_count": 9,
   "id": "beea61cf-2c62-4ecb-b870-10ab8432e86e",
   "metadata": {},
   "outputs": [
    {
     "data": {
      "text/plain": [
       "['avacado', 'is', 'very', 'good', 'for', 'health']"
      ]
     },
     "execution_count": 9,
     "metadata": {},
     "output_type": "execute_result"
    }
   ],
   "source": [
    "msg.split(' ')\n",
    "# space is the delimiter"
   ]
  },
  {
   "cell_type": "code",
   "execution_count": 11,
   "id": "c046efdd-1ded-4438-b613-369689483ea1",
   "metadata": {},
   "outputs": [
    {
     "name": "stdout",
     "output_type": "stream",
     "text": [
      "the diameter of Earth is 12734\n"
     ]
    }
   ],
   "source": [
    "planet='Earth'\n",
    "\n",
    "diameter=12734\n",
    "\n",
    "print(f'the Diameter of {planet} is {diameter}')\n",
    "\n"
   ]
  },
  {
   "cell_type": "code",
   "execution_count": 23,
   "id": "78e4fbfc-ec21-469a-9e75-045e2476e8d7",
   "metadata": {},
   "outputs": [
    {
     "name": "stdout",
     "output_type": "stream",
     "text": [
      "#purpose\n",
      "#life\n",
      "#happy\n"
     ]
    }
   ],
   "source": [
    "#Targets: String Manipulation\n",
    "tweet =\"The #purpose of #life is to be #happy\"\n",
    "\n",
    "#Objective: extract the hashtags from the tweet\n",
    "\n",
    "#expected output : #purpose #life #happy\n",
    "\n",
    "#hint: split() , startswith()\n",
    "\n",
    "a = tweet.split(' ')\n",
    "for x in a:\n",
    "    if x.startswith('#'):\n",
    "        print(x)\n",
    "    "
   ]
  },
  {
   "cell_type": "code",
   "execution_count": 40,
   "id": "15466307-1e9c-4b02-aaa9-012ad9a5bf08",
   "metadata": {},
   "outputs": [
    {
     "name": "stdout",
     "output_type": "stream",
     "text": [
      "240\n",
      "80.0\n"
     ]
    }
   ],
   "source": [
    "#Targets: String Manipulation\n",
    "marks = \"English 70 Science 90 Maths 80\"\n",
    "\n",
    "#Find 👉 Total Score (sum) 👉 Avg Score\n",
    "\n",
    "#hint : split() , isdigit()\n",
    "total=0\n",
    "marks_list = list(marks.split(' '))\n",
    "numbers = []\n",
    "for x in marks_list:\n",
    "    if x.isdigit():\n",
    "        total = total+int(x)\n",
    "        numbers.append(int(x))\n",
    "print(total)\n",
    "average = total/(len(numbers))\n",
    "print(average)\n"
   ]
  },
  {
   "cell_type": "code",
   "execution_count": 42,
   "id": "c7f67979-5fc8-4300-865f-b792c75c1a82",
   "metadata": {},
   "outputs": [
    {
     "data": {
      "text/plain": [
       "['hello']"
      ]
     },
     "execution_count": 42,
     "metadata": {},
     "output_type": "execute_result"
    }
   ],
   "source": [
    "#Objective: Given the nested list grab the word hello using indexes\n",
    "\n",
    "lst =[1,2,[3,4],[5,[100,200,['hello']],23,11],1,7]\n",
    "lst[3][1][2]"
   ]
  },
  {
   "cell_type": "code",
   "execution_count": 43,
   "id": "8fd5a657-08de-4c82-b92b-0b5df0e3e517",
   "metadata": {},
   "outputs": [],
   "source": [
    "#Objective: Grab the word hello from the nested dictionary given\n",
    "\n",
    "d = {'k1': [1,2,3,{'tricky':['oh','man','inception',{'target':[1,2,3,'hello']}]}]}"
   ]
  },
  {
   "cell_type": "code",
   "execution_count": 46,
   "id": "0fc05ee9-dade-4865-aff2-35b109b828c4",
   "metadata": {},
   "outputs": [
    {
     "data": {
      "text/plain": [
       "[1,\n",
       " 2,\n",
       " 3,\n",
       " {'tricky': ['oh', 'man', 'inception', {'target': [1, 2, 3, 'hello']}]}]"
      ]
     },
     "execution_count": 46,
     "metadata": {},
     "output_type": "execute_result"
    }
   ],
   "source": [
    "d['k1']"
   ]
  },
  {
   "cell_type": "code",
   "execution_count": 51,
   "id": "0e5c04b3-6cb5-428f-b969-16e2e85437d0",
   "metadata": {},
   "outputs": [
    {
     "data": {
      "text/plain": [
       "'hello'"
      ]
     },
     "execution_count": 51,
     "metadata": {},
     "output_type": "execute_result"
    }
   ],
   "source": [
    "d['k1'][3]['tricky'][3]['target'][3]"
   ]
  },
  {
   "cell_type": "code",
   "execution_count": 73,
   "id": "743838de-7605-4b42-b96e-60ecdc6da672",
   "metadata": {},
   "outputs": [
    {
     "name": "stdin",
     "output_type": "stream",
     "text": [
      " apple\n"
     ]
    },
    {
     "data": {
      "text/plain": [
       "'1lpp0aca'"
      ]
     },
     "execution_count": 73,
     "metadata": {},
     "output_type": "execute_result"
    }
   ],
   "source": [
    "#Step1: Ask the user to enter a text lets say 'apple'🍎\n",
    "string_1 = str(input())\n",
    "#Step2: Reverse the Given Input i.e 'elppa'\n",
    "string_2 = string_1[::-1]\n",
    "string_2\n",
    "#Step3: Replace Vowels using the values given below\n",
    "    \n",
    "#'a' 👉 '0'\n",
    "#'e' 👉 '1'\n",
    "#'i' 👉 '2'\n",
    "#'o' 👉 '3'\n",
    "#'u' 👉 '4'\n",
    "dict_1 = {'a':'0','e':'1','i':'2','o':'3','u':'4'}\n",
    "for x in dict_1.keys():\n",
    "    string_2 = string_2.replace(x,dict_1[x])\n",
    "string_2\n",
    "#Step4 : add 'aca' at the end of string \n",
    "string_3 = string_2 +'aca'\n",
    "string_3"
   ]
  },
  {
   "cell_type": "code",
   "execution_count": 70,
   "id": "c8fe1ff8-b55c-4a6e-95d6-8e21a0cc5b2f",
   "metadata": {},
   "outputs": [],
   "source": []
  },
  {
   "cell_type": "code",
   "execution_count": 71,
   "id": "f384e282-793a-424e-9745-c6e57a5b105a",
   "metadata": {},
   "outputs": [
    {
     "data": {
      "text/plain": [
       "{'a': '0', 'e': '1', 'i': '2', 'o': '3', 'u': '4'}"
      ]
     },
     "execution_count": 71,
     "metadata": {},
     "output_type": "execute_result"
    }
   ],
   "source": [
    "dict_1"
   ]
  },
  {
   "cell_type": "code",
   "execution_count": null,
   "id": "8700ae1f-864d-4172-a173-fa292eb4ab41",
   "metadata": {},
   "outputs": [],
   "source": [
    "msg = 'India WOn the WOrLD CUP'\n",
    "msg1 = msg.replace(' ','#')\n",
    "msg2 = ''\n",
    "for char in msg:\n",
    "    \n",
    "    if char.islower():\n",
    "        msg2 = msg2+'#'\n",
    "    if char.isupper():\n",
    "        msg2 = msg2+char\n",
    "    if char == ' ':\n",
    "        msg2 = msg2+'#'\n",
    "        \n",
    "list_1 = msg2.split('#')\n",
    "dict1 = {}\n",
    "for word in list_1:\n",
    "    dict1[word] = len(word)\n",
    "\n",
    "maximum = max(dict1.values())\n",
    "\n",
    "for k,v in dict1.items():\n",
    "    if (v==maximum):\n",
    "        print(k)\n",
    "        print(len(k))"
   ]
  },
  {
   "cell_type": "code",
   "execution_count": null,
   "id": "4c83017b-1040-4eeb-8237-bb120265fd04",
   "metadata": {},
   "outputs": [],
   "source": [
    "# Upgrad solution\n",
    "#read the string : \n",
    "#msg = 'India WOn the WOrLD CUP'\n",
    "test_str = input()\n",
    "\n",
    "# when a character in the string is a uppercase, cnt will count the number of #continuous uppercase characters from that index\n",
    "cnt=0\n",
    "# max_run stores the final maximum count which is to be displayed as answer\n",
    "max_run=0\n",
    "\n",
    "for i in range(0,len(test_str)):\n",
    "    # updating run count on uppercase \n",
    "    if test_str[i].isupper():\n",
    "        cnt=cnt+1\n",
    "    # on encountering lowercase, update the cnt with 0 and start counting the continuous uppercase run again. max_run  already has the count of this run stored.\n",
    "    #updating the value of max_run with cnt, if the current ‘cnt’ is greater than the previous ‘max_run’\n",
    "    else:\n",
    "        if cnt>=max_run:\n",
    "            max_run=cnt\n",
    "        cnt=0\n",
    "#for boundary cases - when there is a potential longest substring at the end of the string        \n",
    "if cnt>=max_run:\n",
    "    max_run=cnt\n",
    "    \n",
    "# printing result \n",
    "print(max_run)\n"
   ]
  }
 ],
 "metadata": {
  "kernelspec": {
   "display_name": "Python 3 (ipykernel)",
   "language": "python",
   "name": "python3"
  },
  "language_info": {
   "codemirror_mode": {
    "name": "ipython",
    "version": 3
   },
   "file_extension": ".py",
   "mimetype": "text/x-python",
   "name": "python",
   "nbconvert_exporter": "python",
   "pygments_lexer": "ipython3",
   "version": "3.8.12"
  }
 },
 "nbformat": 4,
 "nbformat_minor": 5
}
