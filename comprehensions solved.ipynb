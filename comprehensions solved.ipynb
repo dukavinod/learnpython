{
 "cells": [
  {
   "cell_type": "code",
   "execution_count": 2,
   "id": "f473076f-f77f-454a-a92f-221197d43733",
   "metadata": {},
   "outputs": [
    {
     "data": {
      "text/plain": [
       "[1, 4, 9, 16, 25, 36, 49, 64, 81, 100]"
      ]
     },
     "execution_count": 2,
     "metadata": {},
     "output_type": "execute_result"
    }
   ],
   "source": [
    "squarednumbers = [x**2 for x in range(1,11)]\n",
    "squarednumbers"
   ]
  },
  {
   "cell_type": "code",
   "execution_count": 12,
   "id": "bbdfc3a9-357b-45e5-9422-932f443bdefc",
   "metadata": {},
   "outputs": [
    {
     "data": {
      "text/plain": [
       "['id_1',\n",
       " 'id_2',\n",
       " 'id_3',\n",
       " 'id_4',\n",
       " 'id_5',\n",
       " 'id_6',\n",
       " 'id_7',\n",
       " 'id_8',\n",
       " 'id_9',\n",
       " 'id_10']"
      ]
     },
     "execution_count": 12,
     "metadata": {},
     "output_type": "execute_result"
    }
   ],
   "source": [
    "stringofid = ['id_'+ str(x) for x in range(1,11)]\n",
    "stringofid"
   ]
  },
  {
   "cell_type": "code",
   "execution_count": 18,
   "id": "196970e6-abab-4389-97a6-62ec7afdbdb8",
   "metadata": {},
   "outputs": [
    {
     "data": {
      "text/plain": [
       "['square_of 1 _is_ 1',\n",
       " 'square_of 2 _is_ 4',\n",
       " 'square_of 3 _is_ 9',\n",
       " 'square_of 4 _is_ 16',\n",
       " 'square_of 5 _is_ 25',\n",
       " 'square_of 6 _is_ 36',\n",
       " 'square_of 7 _is_ 49',\n",
       " 'square_of 8 _is_ 64',\n",
       " 'square_of 9 _is_ 81',\n",
       " 'square_of 10 _is_ 100']"
      ]
     },
     "execution_count": 18,
     "metadata": {},
     "output_type": "execute_result"
    }
   ],
   "source": [
    "#[sqaure_of 1_is_1, sqaure_of 2_is_4.....]\n",
    "\n",
    "squaresofnum = ['square_of ' +str(x)+' _is_ '+str(x**2) for x in range(1,11)]\n",
    "squaresofnum"
   ]
  },
  {
   "cell_type": "code",
   "execution_count": 22,
   "id": "835ace66-2fc7-4f6a-8c4a-862e12fc3193",
   "metadata": {},
   "outputs": [
    {
     "name": "stdin",
     "output_type": "stream",
     "text": [
      " 20\n"
     ]
    },
    {
     "data": {
      "text/plain": [
       "[2, 4, 6, 8, 10, 12, 14, 16, 18]"
      ]
     },
     "execution_count": 22,
     "metadata": {},
     "output_type": "execute_result"
    }
   ],
   "source": [
    "#print even and odd number lists\n",
    "number = int(input())\n",
    "evennum = [x for x in range(1,number) if x%2==0]\n",
    "evennum\n"
   ]
  },
  {
   "cell_type": "code",
   "execution_count": 23,
   "id": "ce2c3e72-c545-4e82-ba5c-8f7fb1495e24",
   "metadata": {},
   "outputs": [
    {
     "name": "stdin",
     "output_type": "stream",
     "text": [
      " 20\n"
     ]
    },
    {
     "data": {
      "text/plain": [
       "[1, 3, 5, 7, 9, 11, 13, 15, 17, 19]"
      ]
     },
     "execution_count": 23,
     "metadata": {},
     "output_type": "execute_result"
    }
   ],
   "source": [
    "number = int(input())\n",
    "oddnum= [x for x in range(1,number) if x%2!=0]\n",
    "oddnum"
   ]
  },
  {
   "cell_type": "code",
   "execution_count": 25,
   "id": "ad717b60-4bf6-4ec5-b632-92cf739bfc6e",
   "metadata": {},
   "outputs": [
    {
     "name": "stdin",
     "output_type": "stream",
     "text": [
      " 20\n"
     ]
    },
    {
     "data": {
      "text/plain": [
       "[1, 2, 3, 4, 5, 6, 7]"
      ]
     },
     "execution_count": 25,
     "metadata": {},
     "output_type": "execute_result"
    }
   ],
   "source": [
    "number = int(input())\n",
    "numlessthan8= [x for x in range(1,number) if x<8]\n",
    "numlessthan8"
   ]
  },
  {
   "cell_type": "code",
   "execution_count": 27,
   "id": "897271fb-a1d6-4e28-a85c-4c2524f51147",
   "metadata": {},
   "outputs": [
    {
     "ename": "SyntaxError",
     "evalue": "invalid syntax (Temp/ipykernel_12164/2786761442.py, line 1)",
     "output_type": "error",
     "traceback": [
      "\u001b[1;36m  File \u001b[1;32m\"C:\\Users\\dukav\\AppData\\Local\\Temp/ipykernel_12164/2786761442.py\"\u001b[1;36m, line \u001b[1;32m1\u001b[0m\n\u001b[1;33m    (x if x%2==0 for x in range(1,11))\u001b[0m\n\u001b[1;37m                 ^\u001b[0m\n\u001b[1;31mSyntaxError\u001b[0m\u001b[1;31m:\u001b[0m invalid syntax\n"
     ]
    }
   ],
   "source": []
  },
  {
   "cell_type": "code",
   "execution_count": 4,
   "id": "0c6dc094-7676-4727-861e-1c3349b4b164",
   "metadata": {},
   "outputs": [
    {
     "data": {
      "text/plain": [
       "[5, 7, 9]"
      ]
     },
     "execution_count": 4,
     "metadata": {},
     "output_type": "execute_result"
    }
   ],
   "source": [
    "# Add two lists using map and lambda\n",
    "  \n",
    "numbers1 = [1, 2, 3]\n",
    "\n",
    "numbers2 = [4, 5, 6]\n",
    "\n",
    "numbers3 = list(map((lambda x,y : x+y),numbers1,numbers2))\n",
    "numbers3\n"
   ]
  },
  {
   "cell_type": "code",
   "execution_count": 43,
   "id": "defefd0a-95f4-4bac-937e-fc5f83ba5046",
   "metadata": {},
   "outputs": [
    {
     "data": {
      "text/plain": [
       "[0, 2, 8]"
      ]
     },
     "execution_count": 43,
     "metadata": {},
     "output_type": "execute_result"
    }
   ],
   "source": [
    "# a list contains both even and odd numbers. \n",
    "seq = [0, 1, 2, 3, 5, 8, 13]\n",
    "evennum = list(filter(lambda x:x%2==0,seq))\n",
    "evennum"
   ]
  },
  {
   "cell_type": "code",
   "execution_count": 44,
   "id": "c6ce7657-cf7d-4c76-8091-2ff01a6b6040",
   "metadata": {},
   "outputs": [
    {
     "data": {
      "text/plain": [
       "[1, 3, 5, 13]"
      ]
     },
     "execution_count": 44,
     "metadata": {},
     "output_type": "execute_result"
    }
   ],
   "source": [
    "seq = [0, 1, 2, 3, 5, 8, 13]\n",
    "oddnum = list(filter(lambda x:x%2!=0,seq))\n",
    "oddnum"
   ]
  },
  {
   "cell_type": "code",
   "execution_count": null,
   "id": "fc43008e-909b-4b22-9684-8ffb2559f014",
   "metadata": {},
   "outputs": [],
   "source": []
  }
 ],
 "metadata": {
  "kernelspec": {
   "display_name": "Python 3 (ipykernel)",
   "language": "python",
   "name": "python3"
  },
  "language_info": {
   "codemirror_mode": {
    "name": "ipython",
    "version": 3
   },
   "file_extension": ".py",
   "mimetype": "text/x-python",
   "name": "python",
   "nbconvert_exporter": "python",
   "pygments_lexer": "ipython3",
   "version": "3.8.12"
  }
 },
 "nbformat": 4,
 "nbformat_minor": 5
}
