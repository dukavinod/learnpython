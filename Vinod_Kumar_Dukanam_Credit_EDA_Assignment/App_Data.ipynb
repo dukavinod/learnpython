{
 "cells": [
  {
   "cell_type": "code",
   "execution_count": 93,
   "id": "969a4b03-af34-4f67-957a-6ef3e98cfb1d",
   "metadata": {},
   "outputs": [],
   "source": [
    "import warnings\n",
    "warnings.filterwarnings('ignore')"
   ]
  },
  {
   "cell_type": "code",
   "execution_count": 94,
   "id": "878f9e91-9e7f-40f3-a215-4d47be08dd4d",
   "metadata": {},
   "outputs": [],
   "source": [
    "import pandas as pd\n",
    "import numpy as np\n",
    "import matplotlib.pyplot as plt\n",
    "import seaborn as sns\n",
    "%matplotlib inline"
   ]
  },
  {
   "cell_type": "code",
   "execution_count": 95,
   "id": "04ae5be9-4c7b-49ff-bf38-41ebf4d5d3c3",
   "metadata": {},
   "outputs": [],
   "source": [
    "AD = pd.read_csv('application_data.csv')"
   ]
  },
  {
   "cell_type": "code",
   "execution_count": 96,
   "id": "b04500c2-c34d-4c48-8ab1-5e6682c6d52b",
   "metadata": {},
   "outputs": [],
   "source": [
    "pd.set_option('display.max_columns',122)\n",
    "pd.set_option('display.max_rows',100)"
   ]
  },
  {
   "cell_type": "markdown",
   "id": "ec6853f5-11ba-41b4-9557-1e0f9101eb9b",
   "metadata": {},
   "source": [
    "### Data Inspection"
   ]
  },
  {
   "cell_type": "code",
   "execution_count": 97,
   "id": "e879bb56-1fd9-4ab2-bdbe-b7eb0ba0174a",
   "metadata": {},
   "outputs": [
    {
     "name": "stdout",
     "output_type": "stream",
     "text": [
      "SK_ID_CURR\n",
      "count    307511.000000\n",
      "mean     278180.518577\n",
      "std      102790.175348\n",
      "min      100002.000000\n",
      "25%      189145.500000\n",
      "50%      278202.000000\n",
      "75%      367142.500000\n",
      "max      456255.000000\n",
      "Name: SK_ID_CURR, dtype: float64\n",
      "--------------\n",
      "TARGET\n",
      "count    307511.000000\n",
      "mean          0.080729\n",
      "std           0.272419\n",
      "min           0.000000\n",
      "25%           0.000000\n",
      "50%           0.000000\n",
      "75%           0.000000\n",
      "max           1.000000\n",
      "Name: TARGET, dtype: float64\n",
      "--------------\n",
      "NAME_CONTRACT_TYPE\n",
      "count         307511\n",
      "unique             2\n",
      "top       Cash loans\n",
      "freq          278232\n",
      "Name: NAME_CONTRACT_TYPE, dtype: object\n",
      "--------------\n",
      "CODE_GENDER\n",
      "count     307511\n",
      "unique         3\n",
      "top            F\n",
      "freq      202448\n",
      "Name: CODE_GENDER, dtype: object\n",
      "--------------\n",
      "FLAG_OWN_CAR\n",
      "count     307511\n",
      "unique         2\n",
      "top            N\n",
      "freq      202924\n",
      "Name: FLAG_OWN_CAR, dtype: object\n",
      "--------------\n",
      "FLAG_OWN_REALTY\n",
      "count     307511\n",
      "unique         2\n",
      "top            Y\n",
      "freq      213312\n",
      "Name: FLAG_OWN_REALTY, dtype: object\n",
      "--------------\n",
      "CNT_CHILDREN\n",
      "count    307511.000000\n",
      "mean          0.417052\n",
      "std           0.722121\n",
      "min           0.000000\n",
      "25%           0.000000\n",
      "50%           0.000000\n",
      "75%           1.000000\n",
      "max          19.000000\n",
      "Name: CNT_CHILDREN, dtype: float64\n",
      "--------------\n",
      "AMT_INCOME_TOTAL\n",
      "count    3.075110e+05\n",
      "mean     1.687979e+05\n",
      "std      2.371231e+05\n",
      "min      2.565000e+04\n",
      "25%      1.125000e+05\n",
      "50%      1.471500e+05\n",
      "75%      2.025000e+05\n",
      "max      1.170000e+08\n",
      "Name: AMT_INCOME_TOTAL, dtype: float64\n",
      "--------------\n",
      "AMT_CREDIT\n",
      "count    3.075110e+05\n",
      "mean     5.990260e+05\n",
      "std      4.024908e+05\n",
      "min      4.500000e+04\n",
      "25%      2.700000e+05\n",
      "50%      5.135310e+05\n",
      "75%      8.086500e+05\n",
      "max      4.050000e+06\n",
      "Name: AMT_CREDIT, dtype: float64\n",
      "--------------\n",
      "AMT_ANNUITY\n",
      "count    307499.000000\n",
      "mean      27108.573909\n",
      "std       14493.737315\n",
      "min        1615.500000\n",
      "25%       16524.000000\n",
      "50%       24903.000000\n",
      "75%       34596.000000\n",
      "max      258025.500000\n",
      "Name: AMT_ANNUITY, dtype: float64\n",
      "--------------\n",
      "AMT_GOODS_PRICE\n",
      "count    3.072330e+05\n",
      "mean     5.383962e+05\n",
      "std      3.694465e+05\n",
      "min      4.050000e+04\n",
      "25%      2.385000e+05\n",
      "50%      4.500000e+05\n",
      "75%      6.795000e+05\n",
      "max      4.050000e+06\n",
      "Name: AMT_GOODS_PRICE, dtype: float64\n",
      "--------------\n",
      "NAME_TYPE_SUITE\n",
      "count            306219\n",
      "unique                7\n",
      "top       Unaccompanied\n",
      "freq             248526\n",
      "Name: NAME_TYPE_SUITE, dtype: object\n",
      "--------------\n",
      "NAME_INCOME_TYPE\n",
      "count      307511\n",
      "unique          8\n",
      "top       Working\n",
      "freq       158774\n",
      "Name: NAME_INCOME_TYPE, dtype: object\n",
      "--------------\n",
      "NAME_EDUCATION_TYPE\n",
      "count                            307511\n",
      "unique                                5\n",
      "top       Secondary / secondary special\n",
      "freq                             218391\n",
      "Name: NAME_EDUCATION_TYPE, dtype: object\n",
      "--------------\n",
      "NAME_FAMILY_STATUS\n",
      "count      307511\n",
      "unique          6\n",
      "top       Married\n",
      "freq       196432\n",
      "Name: NAME_FAMILY_STATUS, dtype: object\n",
      "--------------\n",
      "NAME_HOUSING_TYPE\n",
      "count                307511\n",
      "unique                    6\n",
      "top       House / apartment\n",
      "freq                 272868\n",
      "Name: NAME_HOUSING_TYPE, dtype: object\n",
      "--------------\n",
      "REGION_POPULATION_RELATIVE\n",
      "count    307511.000000\n",
      "mean          0.020868\n",
      "std           0.013831\n",
      "min           0.000290\n",
      "25%           0.010006\n",
      "50%           0.018850\n",
      "75%           0.028663\n",
      "max           0.072508\n",
      "Name: REGION_POPULATION_RELATIVE, dtype: float64\n",
      "--------------\n",
      "DAYS_BIRTH\n",
      "count    307511.000000\n",
      "mean     -16036.995067\n",
      "std        4363.988632\n",
      "min      -25229.000000\n",
      "25%      -19682.000000\n",
      "50%      -15750.000000\n",
      "75%      -12413.000000\n",
      "max       -7489.000000\n",
      "Name: DAYS_BIRTH, dtype: float64\n",
      "--------------\n",
      "DAYS_EMPLOYED\n",
      "count    307511.000000\n",
      "mean      63815.045904\n",
      "std      141275.766519\n",
      "min      -17912.000000\n",
      "25%       -2760.000000\n",
      "50%       -1213.000000\n",
      "75%        -289.000000\n",
      "max      365243.000000\n",
      "Name: DAYS_EMPLOYED, dtype: float64\n",
      "--------------\n",
      "DAYS_REGISTRATION\n",
      "count    307511.000000\n",
      "mean      -4986.120328\n",
      "std        3522.886321\n",
      "min      -24672.000000\n",
      "25%       -7479.500000\n",
      "50%       -4504.000000\n",
      "75%       -2010.000000\n",
      "max           0.000000\n",
      "Name: DAYS_REGISTRATION, dtype: float64\n",
      "--------------\n",
      "DAYS_ID_PUBLISH\n",
      "count    307511.000000\n",
      "mean      -2994.202373\n",
      "std        1509.450419\n",
      "min       -7197.000000\n",
      "25%       -4299.000000\n",
      "50%       -3254.000000\n",
      "75%       -1720.000000\n",
      "max           0.000000\n",
      "Name: DAYS_ID_PUBLISH, dtype: float64\n",
      "--------------\n",
      "OWN_CAR_AGE\n",
      "count    104582.000000\n",
      "mean         12.061091\n",
      "std          11.944812\n",
      "min           0.000000\n",
      "25%           5.000000\n",
      "50%           9.000000\n",
      "75%          15.000000\n",
      "max          91.000000\n",
      "Name: OWN_CAR_AGE, dtype: float64\n",
      "--------------\n",
      "FLAG_MOBIL\n",
      "count    307511.000000\n",
      "mean          0.999997\n",
      "std           0.001803\n",
      "min           0.000000\n",
      "25%           1.000000\n",
      "50%           1.000000\n",
      "75%           1.000000\n",
      "max           1.000000\n",
      "Name: FLAG_MOBIL, dtype: float64\n",
      "--------------\n",
      "FLAG_EMP_PHONE\n",
      "count    307511.000000\n",
      "mean          0.819889\n",
      "std           0.384280\n",
      "min           0.000000\n",
      "25%           1.000000\n",
      "50%           1.000000\n",
      "75%           1.000000\n",
      "max           1.000000\n",
      "Name: FLAG_EMP_PHONE, dtype: float64\n",
      "--------------\n",
      "FLAG_WORK_PHONE\n",
      "count    307511.000000\n",
      "mean          0.199368\n",
      "std           0.399526\n",
      "min           0.000000\n",
      "25%           0.000000\n",
      "50%           0.000000\n",
      "75%           0.000000\n",
      "max           1.000000\n",
      "Name: FLAG_WORK_PHONE, dtype: float64\n",
      "--------------\n",
      "FLAG_CONT_MOBILE\n",
      "count    307511.000000\n",
      "mean          0.998133\n",
      "std           0.043164\n",
      "min           0.000000\n",
      "25%           1.000000\n",
      "50%           1.000000\n",
      "75%           1.000000\n",
      "max           1.000000\n",
      "Name: FLAG_CONT_MOBILE, dtype: float64\n",
      "--------------\n",
      "FLAG_PHONE\n",
      "count    307511.000000\n",
      "mean          0.281066\n",
      "std           0.449521\n",
      "min           0.000000\n",
      "25%           0.000000\n",
      "50%           0.000000\n",
      "75%           1.000000\n",
      "max           1.000000\n",
      "Name: FLAG_PHONE, dtype: float64\n",
      "--------------\n",
      "FLAG_EMAIL\n",
      "count    307511.000000\n",
      "mean          0.056720\n",
      "std           0.231307\n",
      "min           0.000000\n",
      "25%           0.000000\n",
      "50%           0.000000\n",
      "75%           0.000000\n",
      "max           1.000000\n",
      "Name: FLAG_EMAIL, dtype: float64\n",
      "--------------\n",
      "OCCUPATION_TYPE\n",
      "count       211120\n",
      "unique          18\n",
      "top       Laborers\n",
      "freq         55186\n",
      "Name: OCCUPATION_TYPE, dtype: object\n",
      "--------------\n",
      "CNT_FAM_MEMBERS\n",
      "count    307509.000000\n",
      "mean          2.152665\n",
      "std           0.910682\n",
      "min           1.000000\n",
      "25%           2.000000\n",
      "50%           2.000000\n",
      "75%           3.000000\n",
      "max          20.000000\n",
      "Name: CNT_FAM_MEMBERS, dtype: float64\n",
      "--------------\n",
      "REGION_RATING_CLIENT\n",
      "count    307511.000000\n",
      "mean          2.052463\n",
      "std           0.509034\n",
      "min           1.000000\n",
      "25%           2.000000\n",
      "50%           2.000000\n",
      "75%           2.000000\n",
      "max           3.000000\n",
      "Name: REGION_RATING_CLIENT, dtype: float64\n",
      "--------------\n",
      "REGION_RATING_CLIENT_W_CITY\n",
      "count    307511.000000\n",
      "mean          2.031521\n",
      "std           0.502737\n",
      "min           1.000000\n",
      "25%           2.000000\n",
      "50%           2.000000\n",
      "75%           2.000000\n",
      "max           3.000000\n",
      "Name: REGION_RATING_CLIENT_W_CITY, dtype: float64\n",
      "--------------\n",
      "WEEKDAY_APPR_PROCESS_START\n",
      "count      307511\n",
      "unique          7\n",
      "top       TUESDAY\n",
      "freq        53901\n",
      "Name: WEEKDAY_APPR_PROCESS_START, dtype: object\n",
      "--------------\n",
      "HOUR_APPR_PROCESS_START\n",
      "count    307511.000000\n",
      "mean         12.063419\n",
      "std           3.265832\n",
      "min           0.000000\n",
      "25%          10.000000\n",
      "50%          12.000000\n",
      "75%          14.000000\n",
      "max          23.000000\n",
      "Name: HOUR_APPR_PROCESS_START, dtype: float64\n",
      "--------------\n",
      "REG_REGION_NOT_LIVE_REGION\n",
      "count    307511.000000\n",
      "mean          0.015144\n",
      "std           0.122126\n",
      "min           0.000000\n",
      "25%           0.000000\n",
      "50%           0.000000\n",
      "75%           0.000000\n",
      "max           1.000000\n",
      "Name: REG_REGION_NOT_LIVE_REGION, dtype: float64\n",
      "--------------\n",
      "REG_REGION_NOT_WORK_REGION\n",
      "count    307511.000000\n",
      "mean          0.050769\n",
      "std           0.219526\n",
      "min           0.000000\n",
      "25%           0.000000\n",
      "50%           0.000000\n",
      "75%           0.000000\n",
      "max           1.000000\n",
      "Name: REG_REGION_NOT_WORK_REGION, dtype: float64\n",
      "--------------\n",
      "LIVE_REGION_NOT_WORK_REGION\n",
      "count    307511.000000\n",
      "mean          0.040659\n",
      "std           0.197499\n",
      "min           0.000000\n",
      "25%           0.000000\n",
      "50%           0.000000\n",
      "75%           0.000000\n",
      "max           1.000000\n",
      "Name: LIVE_REGION_NOT_WORK_REGION, dtype: float64\n",
      "--------------\n",
      "REG_CITY_NOT_LIVE_CITY\n",
      "count    307511.000000\n",
      "mean          0.078173\n",
      "std           0.268444\n",
      "min           0.000000\n",
      "25%           0.000000\n",
      "50%           0.000000\n",
      "75%           0.000000\n",
      "max           1.000000\n",
      "Name: REG_CITY_NOT_LIVE_CITY, dtype: float64\n",
      "--------------\n",
      "REG_CITY_NOT_WORK_CITY\n",
      "count    307511.000000\n",
      "mean          0.230454\n",
      "std           0.421124\n",
      "min           0.000000\n",
      "25%           0.000000\n",
      "50%           0.000000\n",
      "75%           0.000000\n",
      "max           1.000000\n",
      "Name: REG_CITY_NOT_WORK_CITY, dtype: float64\n",
      "--------------\n",
      "LIVE_CITY_NOT_WORK_CITY\n",
      "count    307511.000000\n",
      "mean          0.179555\n",
      "std           0.383817\n",
      "min           0.000000\n",
      "25%           0.000000\n",
      "50%           0.000000\n",
      "75%           0.000000\n",
      "max           1.000000\n",
      "Name: LIVE_CITY_NOT_WORK_CITY, dtype: float64\n",
      "--------------\n",
      "ORGANIZATION_TYPE\n",
      "count                     307511\n",
      "unique                        58\n",
      "top       Business Entity Type 3\n",
      "freq                       67992\n",
      "Name: ORGANIZATION_TYPE, dtype: object\n",
      "--------------\n",
      "EXT_SOURCE_1\n",
      "count    134133.000000\n",
      "mean          0.502130\n",
      "std           0.211062\n",
      "min           0.014568\n",
      "25%           0.334007\n",
      "50%           0.505998\n",
      "75%           0.675053\n",
      "max           0.962693\n",
      "Name: EXT_SOURCE_1, dtype: float64\n",
      "--------------\n",
      "EXT_SOURCE_2\n",
      "count    3.068510e+05\n",
      "mean     5.143927e-01\n",
      "std      1.910602e-01\n",
      "min      8.173617e-08\n",
      "25%      3.924574e-01\n",
      "50%      5.659614e-01\n",
      "75%      6.636171e-01\n",
      "max      8.549997e-01\n",
      "Name: EXT_SOURCE_2, dtype: float64\n",
      "--------------\n",
      "EXT_SOURCE_3\n",
      "count    246546.000000\n",
      "mean          0.510853\n",
      "std           0.194844\n",
      "min           0.000527\n",
      "25%           0.370650\n",
      "50%           0.535276\n",
      "75%           0.669057\n",
      "max           0.896010\n",
      "Name: EXT_SOURCE_3, dtype: float64\n",
      "--------------\n",
      "APARTMENTS_AVG\n",
      "count    151450.00000\n",
      "mean          0.11744\n",
      "std           0.10824\n",
      "min           0.00000\n",
      "25%           0.05770\n",
      "50%           0.08760\n",
      "75%           0.14850\n",
      "max           1.00000\n",
      "Name: APARTMENTS_AVG, dtype: float64\n",
      "--------------\n",
      "BASEMENTAREA_AVG\n",
      "count    127568.000000\n",
      "mean          0.088442\n",
      "std           0.082438\n",
      "min           0.000000\n",
      "25%           0.044200\n",
      "50%           0.076300\n",
      "75%           0.112200\n",
      "max           1.000000\n",
      "Name: BASEMENTAREA_AVG, dtype: float64\n",
      "--------------\n",
      "YEARS_BEGINEXPLUATATION_AVG\n",
      "count    157504.000000\n",
      "mean          0.977735\n",
      "std           0.059223\n",
      "min           0.000000\n",
      "25%           0.976700\n",
      "50%           0.981600\n",
      "75%           0.986600\n",
      "max           1.000000\n",
      "Name: YEARS_BEGINEXPLUATATION_AVG, dtype: float64\n",
      "--------------\n",
      "YEARS_BUILD_AVG\n",
      "count    103023.000000\n",
      "mean          0.752471\n",
      "std           0.113280\n",
      "min           0.000000\n",
      "25%           0.687200\n",
      "50%           0.755200\n",
      "75%           0.823200\n",
      "max           1.000000\n",
      "Name: YEARS_BUILD_AVG, dtype: float64\n",
      "--------------\n",
      "COMMONAREA_AVG\n",
      "count    92646.000000\n",
      "mean         0.044621\n",
      "std          0.076036\n",
      "min          0.000000\n",
      "25%          0.007800\n",
      "50%          0.021100\n",
      "75%          0.051500\n",
      "max          1.000000\n",
      "Name: COMMONAREA_AVG, dtype: float64\n",
      "--------------\n",
      "ELEVATORS_AVG\n",
      "count    143620.000000\n",
      "mean          0.078942\n",
      "std           0.134576\n",
      "min           0.000000\n",
      "25%           0.000000\n",
      "50%           0.000000\n",
      "75%           0.120000\n",
      "max           1.000000\n",
      "Name: ELEVATORS_AVG, dtype: float64\n",
      "--------------\n",
      "ENTRANCES_AVG\n",
      "count    152683.000000\n",
      "mean          0.149725\n",
      "std           0.100049\n",
      "min           0.000000\n",
      "25%           0.069000\n",
      "50%           0.137900\n",
      "75%           0.206900\n",
      "max           1.000000\n",
      "Name: ENTRANCES_AVG, dtype: float64\n",
      "--------------\n",
      "FLOORSMAX_AVG\n",
      "count    154491.000000\n",
      "mean          0.226282\n",
      "std           0.144641\n",
      "min           0.000000\n",
      "25%           0.166700\n",
      "50%           0.166700\n",
      "75%           0.333300\n",
      "max           1.000000\n",
      "Name: FLOORSMAX_AVG, dtype: float64\n",
      "--------------\n",
      "FLOORSMIN_AVG\n",
      "count    98869.000000\n",
      "mean         0.231894\n",
      "std          0.161380\n",
      "min          0.000000\n",
      "25%          0.083300\n",
      "50%          0.208300\n",
      "75%          0.375000\n",
      "max          1.000000\n",
      "Name: FLOORSMIN_AVG, dtype: float64\n",
      "--------------\n",
      "LANDAREA_AVG\n",
      "count    124921.000000\n",
      "mean          0.066333\n",
      "std           0.081184\n",
      "min           0.000000\n",
      "25%           0.018700\n",
      "50%           0.048100\n",
      "75%           0.085600\n",
      "max           1.000000\n",
      "Name: LANDAREA_AVG, dtype: float64\n",
      "--------------\n",
      "LIVINGAPARTMENTS_AVG\n",
      "count    97312.000000\n",
      "mean         0.100775\n",
      "std          0.092576\n",
      "min          0.000000\n",
      "25%          0.050400\n",
      "50%          0.075600\n",
      "75%          0.121000\n",
      "max          1.000000\n",
      "Name: LIVINGAPARTMENTS_AVG, dtype: float64\n",
      "--------------\n",
      "LIVINGAREA_AVG\n",
      "count    153161.000000\n",
      "mean          0.107399\n",
      "std           0.110565\n",
      "min           0.000000\n",
      "25%           0.045300\n",
      "50%           0.074500\n",
      "75%           0.129900\n",
      "max           1.000000\n",
      "Name: LIVINGAREA_AVG, dtype: float64\n",
      "--------------\n",
      "NONLIVINGAPARTMENTS_AVG\n",
      "count    93997.000000\n",
      "mean         0.008809\n",
      "std          0.047732\n",
      "min          0.000000\n",
      "25%          0.000000\n",
      "50%          0.000000\n",
      "75%          0.003900\n",
      "max          1.000000\n",
      "Name: NONLIVINGAPARTMENTS_AVG, dtype: float64\n",
      "--------------\n",
      "NONLIVINGAREA_AVG\n",
      "count    137829.000000\n",
      "mean          0.028358\n",
      "std           0.069523\n",
      "min           0.000000\n",
      "25%           0.000000\n",
      "50%           0.003600\n",
      "75%           0.027700\n",
      "max           1.000000\n",
      "Name: NONLIVINGAREA_AVG, dtype: float64\n",
      "--------------\n",
      "APARTMENTS_MODE\n",
      "count    151450.000000\n",
      "mean          0.114231\n",
      "std           0.107936\n",
      "min           0.000000\n",
      "25%           0.052500\n",
      "50%           0.084000\n",
      "75%           0.143900\n",
      "max           1.000000\n",
      "Name: APARTMENTS_MODE, dtype: float64\n",
      "--------------\n",
      "BASEMENTAREA_MODE\n",
      "count    127568.000000\n",
      "mean          0.087543\n",
      "std           0.084307\n",
      "min           0.000000\n",
      "25%           0.040700\n",
      "50%           0.074600\n",
      "75%           0.112400\n",
      "max           1.000000\n",
      "Name: BASEMENTAREA_MODE, dtype: float64\n",
      "--------------\n",
      "YEARS_BEGINEXPLUATATION_MODE\n",
      "count    157504.000000\n",
      "mean          0.977065\n",
      "std           0.064575\n",
      "min           0.000000\n",
      "25%           0.976700\n",
      "50%           0.981600\n",
      "75%           0.986600\n",
      "max           1.000000\n",
      "Name: YEARS_BEGINEXPLUATATION_MODE, dtype: float64\n",
      "--------------\n",
      "YEARS_BUILD_MODE\n",
      "count    103023.000000\n",
      "mean          0.759637\n",
      "std           0.110111\n",
      "min           0.000000\n",
      "25%           0.699400\n",
      "50%           0.764800\n",
      "75%           0.823600\n",
      "max           1.000000\n",
      "Name: YEARS_BUILD_MODE, dtype: float64\n",
      "--------------\n",
      "COMMONAREA_MODE\n",
      "count    92646.000000\n",
      "mean         0.042553\n",
      "std          0.074445\n",
      "min          0.000000\n",
      "25%          0.007200\n",
      "50%          0.019000\n",
      "75%          0.049000\n",
      "max          1.000000\n",
      "Name: COMMONAREA_MODE, dtype: float64\n",
      "--------------\n",
      "ELEVATORS_MODE\n",
      "count    143620.000000\n",
      "mean          0.074490\n",
      "std           0.132256\n",
      "min           0.000000\n",
      "25%           0.000000\n",
      "50%           0.000000\n",
      "75%           0.120800\n",
      "max           1.000000\n",
      "Name: ELEVATORS_MODE, dtype: float64\n",
      "--------------\n",
      "ENTRANCES_MODE\n",
      "count    152683.000000\n",
      "mean          0.145193\n",
      "std           0.100977\n",
      "min           0.000000\n",
      "25%           0.069000\n",
      "50%           0.137900\n",
      "75%           0.206900\n",
      "max           1.000000\n",
      "Name: ENTRANCES_MODE, dtype: float64\n",
      "--------------\n",
      "FLOORSMAX_MODE\n",
      "count    154491.000000\n",
      "mean          0.222315\n",
      "std           0.143709\n",
      "min           0.000000\n",
      "25%           0.166700\n",
      "50%           0.166700\n",
      "75%           0.333300\n",
      "max           1.000000\n",
      "Name: FLOORSMAX_MODE, dtype: float64\n",
      "--------------\n",
      "FLOORSMIN_MODE\n",
      "count    98869.000000\n",
      "mean         0.228058\n",
      "std          0.161160\n",
      "min          0.000000\n",
      "25%          0.083300\n",
      "50%          0.208300\n",
      "75%          0.375000\n",
      "max          1.000000\n",
      "Name: FLOORSMIN_MODE, dtype: float64\n",
      "--------------\n",
      "LANDAREA_MODE\n",
      "count    124921.000000\n",
      "mean          0.064958\n",
      "std           0.081750\n",
      "min           0.000000\n",
      "25%           0.016600\n",
      "50%           0.045800\n",
      "75%           0.084100\n",
      "max           1.000000\n",
      "Name: LANDAREA_MODE, dtype: float64\n",
      "--------------\n",
      "LIVINGAPARTMENTS_MODE\n",
      "count    97312.000000\n",
      "mean         0.105645\n",
      "std          0.097880\n",
      "min          0.000000\n",
      "25%          0.054200\n",
      "50%          0.077100\n",
      "75%          0.131300\n",
      "max          1.000000\n",
      "Name: LIVINGAPARTMENTS_MODE, dtype: float64\n",
      "--------------\n",
      "LIVINGAREA_MODE\n",
      "count    153161.000000\n",
      "mean          0.105975\n",
      "std           0.111845\n",
      "min           0.000000\n",
      "25%           0.042700\n",
      "50%           0.073100\n",
      "75%           0.125200\n",
      "max           1.000000\n",
      "Name: LIVINGAREA_MODE, dtype: float64\n",
      "--------------\n",
      "NONLIVINGAPARTMENTS_MODE\n",
      "count    93997.000000\n",
      "mean         0.008076\n",
      "std          0.046276\n",
      "min          0.000000\n",
      "25%          0.000000\n",
      "50%          0.000000\n",
      "75%          0.003900\n",
      "max          1.000000\n",
      "Name: NONLIVINGAPARTMENTS_MODE, dtype: float64\n",
      "--------------\n",
      "NONLIVINGAREA_MODE\n",
      "count    137829.000000\n",
      "mean          0.027022\n",
      "std           0.070254\n",
      "min           0.000000\n",
      "25%           0.000000\n",
      "50%           0.001100\n",
      "75%           0.023100\n",
      "max           1.000000\n",
      "Name: NONLIVINGAREA_MODE, dtype: float64\n",
      "--------------\n",
      "APARTMENTS_MEDI\n",
      "count    151450.000000\n",
      "mean          0.117850\n",
      "std           0.109076\n",
      "min           0.000000\n",
      "25%           0.058300\n",
      "50%           0.086400\n",
      "75%           0.148900\n",
      "max           1.000000\n",
      "Name: APARTMENTS_MEDI, dtype: float64\n",
      "--------------\n",
      "BASEMENTAREA_MEDI\n",
      "count    127568.000000\n",
      "mean          0.087955\n",
      "std           0.082179\n",
      "min           0.000000\n",
      "25%           0.043700\n",
      "50%           0.075800\n",
      "75%           0.111600\n",
      "max           1.000000\n",
      "Name: BASEMENTAREA_MEDI, dtype: float64\n",
      "--------------\n",
      "YEARS_BEGINEXPLUATATION_MEDI\n",
      "count    157504.000000\n",
      "mean          0.977752\n",
      "std           0.059897\n",
      "min           0.000000\n",
      "25%           0.976700\n",
      "50%           0.981600\n",
      "75%           0.986600\n",
      "max           1.000000\n",
      "Name: YEARS_BEGINEXPLUATATION_MEDI, dtype: float64\n",
      "--------------\n",
      "YEARS_BUILD_MEDI\n",
      "count    103023.000000\n",
      "mean          0.755746\n",
      "std           0.112066\n",
      "min           0.000000\n",
      "25%           0.691400\n",
      "50%           0.758500\n",
      "75%           0.825600\n",
      "max           1.000000\n",
      "Name: YEARS_BUILD_MEDI, dtype: float64\n",
      "--------------\n",
      "COMMONAREA_MEDI\n",
      "count    92646.000000\n",
      "mean         0.044595\n",
      "std          0.076144\n",
      "min          0.000000\n",
      "25%          0.007900\n",
      "50%          0.020800\n",
      "75%          0.051300\n",
      "max          1.000000\n",
      "Name: COMMONAREA_MEDI, dtype: float64\n",
      "--------------\n",
      "ELEVATORS_MEDI\n",
      "count    143620.000000\n",
      "mean          0.078078\n",
      "std           0.134467\n",
      "min           0.000000\n",
      "25%           0.000000\n",
      "50%           0.000000\n",
      "75%           0.120000\n",
      "max           1.000000\n",
      "Name: ELEVATORS_MEDI, dtype: float64\n",
      "--------------\n",
      "ENTRANCES_MEDI\n",
      "count    152683.000000\n",
      "mean          0.149213\n",
      "std           0.100368\n",
      "min           0.000000\n",
      "25%           0.069000\n",
      "50%           0.137900\n",
      "75%           0.206900\n",
      "max           1.000000\n",
      "Name: ENTRANCES_MEDI, dtype: float64\n",
      "--------------\n",
      "FLOORSMAX_MEDI\n",
      "count    154491.000000\n",
      "mean          0.225897\n",
      "std           0.145067\n",
      "min           0.000000\n",
      "25%           0.166700\n",
      "50%           0.166700\n",
      "75%           0.333300\n",
      "max           1.000000\n",
      "Name: FLOORSMAX_MEDI, dtype: float64\n",
      "--------------\n",
      "FLOORSMIN_MEDI\n",
      "count    98869.000000\n",
      "mean         0.231625\n",
      "std          0.161934\n",
      "min          0.000000\n",
      "25%          0.083300\n",
      "50%          0.208300\n",
      "75%          0.375000\n",
      "max          1.000000\n",
      "Name: FLOORSMIN_MEDI, dtype: float64\n",
      "--------------\n",
      "LANDAREA_MEDI\n",
      "count    124921.000000\n",
      "mean          0.067169\n",
      "std           0.082167\n",
      "min           0.000000\n",
      "25%           0.018700\n",
      "50%           0.048700\n",
      "75%           0.086800\n",
      "max           1.000000\n",
      "Name: LANDAREA_MEDI, dtype: float64\n",
      "--------------\n",
      "LIVINGAPARTMENTS_MEDI\n",
      "count    97312.000000\n",
      "mean         0.101954\n",
      "std          0.093642\n",
      "min          0.000000\n",
      "25%          0.051300\n",
      "50%          0.076100\n",
      "75%          0.123100\n",
      "max          1.000000\n",
      "Name: LIVINGAPARTMENTS_MEDI, dtype: float64\n",
      "--------------\n",
      "LIVINGAREA_MEDI\n",
      "count    153161.000000\n",
      "mean          0.108607\n",
      "std           0.112260\n",
      "min           0.000000\n",
      "25%           0.045700\n",
      "50%           0.074900\n",
      "75%           0.130300\n",
      "max           1.000000\n",
      "Name: LIVINGAREA_MEDI, dtype: float64\n",
      "--------------\n",
      "NONLIVINGAPARTMENTS_MEDI\n",
      "count    93997.000000\n",
      "mean         0.008651\n",
      "std          0.047415\n",
      "min          0.000000\n",
      "25%          0.000000\n",
      "50%          0.000000\n",
      "75%          0.003900\n",
      "max          1.000000\n",
      "Name: NONLIVINGAPARTMENTS_MEDI, dtype: float64\n",
      "--------------\n",
      "NONLIVINGAREA_MEDI\n",
      "count    137829.000000\n",
      "mean          0.028236\n",
      "std           0.070166\n",
      "min           0.000000\n",
      "25%           0.000000\n",
      "50%           0.003100\n",
      "75%           0.026600\n",
      "max           1.000000\n",
      "Name: NONLIVINGAREA_MEDI, dtype: float64\n",
      "--------------\n",
      "FONDKAPREMONT_MODE\n",
      "count                97216\n",
      "unique                   4\n",
      "top       reg oper account\n",
      "freq                 73830\n",
      "Name: FONDKAPREMONT_MODE, dtype: object\n",
      "--------------\n",
      "HOUSETYPE_MODE\n",
      "count             153214\n",
      "unique                 3\n",
      "top       block of flats\n",
      "freq              150503\n",
      "Name: HOUSETYPE_MODE, dtype: object\n",
      "--------------\n",
      "TOTALAREA_MODE\n",
      "count    159080.000000\n",
      "mean          0.102547\n",
      "std           0.107462\n",
      "min           0.000000\n",
      "25%           0.041200\n",
      "50%           0.068800\n",
      "75%           0.127600\n",
      "max           1.000000\n",
      "Name: TOTALAREA_MODE, dtype: float64\n",
      "--------------\n",
      "WALLSMATERIAL_MODE\n",
      "count     151170\n",
      "unique         7\n",
      "top        Panel\n",
      "freq       66040\n",
      "Name: WALLSMATERIAL_MODE, dtype: object\n",
      "--------------\n",
      "EMERGENCYSTATE_MODE\n",
      "count     161756\n",
      "unique         2\n",
      "top           No\n",
      "freq      159428\n",
      "Name: EMERGENCYSTATE_MODE, dtype: object\n",
      "--------------\n",
      "OBS_30_CNT_SOCIAL_CIRCLE\n",
      "count    306490.000000\n",
      "mean          1.422245\n",
      "std           2.400989\n",
      "min           0.000000\n",
      "25%           0.000000\n",
      "50%           0.000000\n",
      "75%           2.000000\n",
      "max         348.000000\n",
      "Name: OBS_30_CNT_SOCIAL_CIRCLE, dtype: float64\n",
      "--------------\n",
      "DEF_30_CNT_SOCIAL_CIRCLE\n",
      "count    306490.000000\n",
      "mean          0.143421\n",
      "std           0.446698\n",
      "min           0.000000\n",
      "25%           0.000000\n",
      "50%           0.000000\n",
      "75%           0.000000\n",
      "max          34.000000\n",
      "Name: DEF_30_CNT_SOCIAL_CIRCLE, dtype: float64\n",
      "--------------\n",
      "OBS_60_CNT_SOCIAL_CIRCLE\n",
      "count    306490.000000\n",
      "mean          1.405292\n",
      "std           2.379803\n",
      "min           0.000000\n",
      "25%           0.000000\n",
      "50%           0.000000\n",
      "75%           2.000000\n",
      "max         344.000000\n",
      "Name: OBS_60_CNT_SOCIAL_CIRCLE, dtype: float64\n",
      "--------------\n",
      "DEF_60_CNT_SOCIAL_CIRCLE\n",
      "count    306490.000000\n",
      "mean          0.100049\n",
      "std           0.362291\n",
      "min           0.000000\n",
      "25%           0.000000\n",
      "50%           0.000000\n",
      "75%           0.000000\n",
      "max          24.000000\n",
      "Name: DEF_60_CNT_SOCIAL_CIRCLE, dtype: float64\n",
      "--------------\n",
      "DAYS_LAST_PHONE_CHANGE\n",
      "count    307510.000000\n",
      "mean       -962.858788\n",
      "std         826.808487\n",
      "min       -4292.000000\n",
      "25%       -1570.000000\n",
      "50%        -757.000000\n",
      "75%        -274.000000\n",
      "max           0.000000\n",
      "Name: DAYS_LAST_PHONE_CHANGE, dtype: float64\n",
      "--------------\n",
      "FLAG_DOCUMENT_2\n",
      "count    307511.000000\n",
      "mean          0.000042\n",
      "std           0.006502\n",
      "min           0.000000\n",
      "25%           0.000000\n",
      "50%           0.000000\n",
      "75%           0.000000\n",
      "max           1.000000\n",
      "Name: FLAG_DOCUMENT_2, dtype: float64\n",
      "--------------\n",
      "FLAG_DOCUMENT_3\n",
      "count    307511.000000\n",
      "mean          0.710023\n",
      "std           0.453752\n",
      "min           0.000000\n",
      "25%           0.000000\n",
      "50%           1.000000\n",
      "75%           1.000000\n",
      "max           1.000000\n",
      "Name: FLAG_DOCUMENT_3, dtype: float64\n",
      "--------------\n",
      "FLAG_DOCUMENT_4\n",
      "count    307511.000000\n",
      "mean          0.000081\n",
      "std           0.009016\n",
      "min           0.000000\n",
      "25%           0.000000\n",
      "50%           0.000000\n",
      "75%           0.000000\n",
      "max           1.000000\n",
      "Name: FLAG_DOCUMENT_4, dtype: float64\n",
      "--------------\n",
      "FLAG_DOCUMENT_5\n",
      "count    307511.000000\n",
      "mean          0.015115\n",
      "std           0.122010\n",
      "min           0.000000\n",
      "25%           0.000000\n",
      "50%           0.000000\n",
      "75%           0.000000\n",
      "max           1.000000\n",
      "Name: FLAG_DOCUMENT_5, dtype: float64\n",
      "--------------\n",
      "FLAG_DOCUMENT_6\n",
      "count    307511.000000\n",
      "mean          0.088055\n",
      "std           0.283376\n",
      "min           0.000000\n",
      "25%           0.000000\n",
      "50%           0.000000\n",
      "75%           0.000000\n",
      "max           1.000000\n",
      "Name: FLAG_DOCUMENT_6, dtype: float64\n",
      "--------------\n",
      "FLAG_DOCUMENT_7\n",
      "count    307511.000000\n",
      "mean          0.000192\n",
      "std           0.013850\n",
      "min           0.000000\n",
      "25%           0.000000\n",
      "50%           0.000000\n",
      "75%           0.000000\n",
      "max           1.000000\n",
      "Name: FLAG_DOCUMENT_7, dtype: float64\n",
      "--------------\n",
      "FLAG_DOCUMENT_8\n",
      "count    307511.000000\n",
      "mean          0.081376\n",
      "std           0.273412\n",
      "min           0.000000\n",
      "25%           0.000000\n",
      "50%           0.000000\n",
      "75%           0.000000\n",
      "max           1.000000\n",
      "Name: FLAG_DOCUMENT_8, dtype: float64\n",
      "--------------\n",
      "FLAG_DOCUMENT_9\n",
      "count    307511.000000\n",
      "mean          0.003896\n",
      "std           0.062295\n",
      "min           0.000000\n",
      "25%           0.000000\n",
      "50%           0.000000\n",
      "75%           0.000000\n",
      "max           1.000000\n",
      "Name: FLAG_DOCUMENT_9, dtype: float64\n",
      "--------------\n",
      "FLAG_DOCUMENT_10\n",
      "count    307511.000000\n",
      "mean          0.000023\n",
      "std           0.004771\n",
      "min           0.000000\n",
      "25%           0.000000\n",
      "50%           0.000000\n",
      "75%           0.000000\n",
      "max           1.000000\n",
      "Name: FLAG_DOCUMENT_10, dtype: float64\n",
      "--------------\n",
      "FLAG_DOCUMENT_11\n",
      "count    307511.000000\n",
      "mean          0.003912\n",
      "std           0.062424\n",
      "min           0.000000\n",
      "25%           0.000000\n",
      "50%           0.000000\n",
      "75%           0.000000\n",
      "max           1.000000\n",
      "Name: FLAG_DOCUMENT_11, dtype: float64\n",
      "--------------\n",
      "FLAG_DOCUMENT_12\n",
      "count    307511.000000\n",
      "mean          0.000007\n",
      "std           0.002550\n",
      "min           0.000000\n",
      "25%           0.000000\n",
      "50%           0.000000\n",
      "75%           0.000000\n",
      "max           1.000000\n",
      "Name: FLAG_DOCUMENT_12, dtype: float64\n",
      "--------------\n",
      "FLAG_DOCUMENT_13\n",
      "count    307511.000000\n",
      "mean          0.003525\n",
      "std           0.059268\n",
      "min           0.000000\n",
      "25%           0.000000\n",
      "50%           0.000000\n",
      "75%           0.000000\n",
      "max           1.000000\n",
      "Name: FLAG_DOCUMENT_13, dtype: float64\n",
      "--------------\n",
      "FLAG_DOCUMENT_14\n",
      "count    307511.000000\n",
      "mean          0.002936\n",
      "std           0.054110\n",
      "min           0.000000\n",
      "25%           0.000000\n",
      "50%           0.000000\n",
      "75%           0.000000\n",
      "max           1.000000\n",
      "Name: FLAG_DOCUMENT_14, dtype: float64\n",
      "--------------\n",
      "FLAG_DOCUMENT_15\n",
      "count    307511.00000\n",
      "mean          0.00121\n",
      "std           0.03476\n",
      "min           0.00000\n",
      "25%           0.00000\n",
      "50%           0.00000\n",
      "75%           0.00000\n",
      "max           1.00000\n",
      "Name: FLAG_DOCUMENT_15, dtype: float64\n",
      "--------------\n",
      "FLAG_DOCUMENT_16\n",
      "count    307511.000000\n",
      "mean          0.009928\n",
      "std           0.099144\n",
      "min           0.000000\n",
      "25%           0.000000\n",
      "50%           0.000000\n",
      "75%           0.000000\n",
      "max           1.000000\n",
      "Name: FLAG_DOCUMENT_16, dtype: float64\n",
      "--------------\n",
      "FLAG_DOCUMENT_17\n",
      "count    307511.000000\n",
      "mean          0.000267\n",
      "std           0.016327\n",
      "min           0.000000\n",
      "25%           0.000000\n",
      "50%           0.000000\n",
      "75%           0.000000\n",
      "max           1.000000\n",
      "Name: FLAG_DOCUMENT_17, dtype: float64\n",
      "--------------\n",
      "FLAG_DOCUMENT_18\n",
      "count    307511.000000\n",
      "mean          0.008130\n",
      "std           0.089798\n",
      "min           0.000000\n",
      "25%           0.000000\n",
      "50%           0.000000\n",
      "75%           0.000000\n",
      "max           1.000000\n",
      "Name: FLAG_DOCUMENT_18, dtype: float64\n",
      "--------------\n",
      "FLAG_DOCUMENT_19\n",
      "count    307511.000000\n",
      "mean          0.000595\n",
      "std           0.024387\n",
      "min           0.000000\n",
      "25%           0.000000\n",
      "50%           0.000000\n",
      "75%           0.000000\n",
      "max           1.000000\n",
      "Name: FLAG_DOCUMENT_19, dtype: float64\n",
      "--------------\n",
      "FLAG_DOCUMENT_20\n",
      "count    307511.000000\n",
      "mean          0.000507\n",
      "std           0.022518\n",
      "min           0.000000\n",
      "25%           0.000000\n",
      "50%           0.000000\n",
      "75%           0.000000\n",
      "max           1.000000\n",
      "Name: FLAG_DOCUMENT_20, dtype: float64\n",
      "--------------\n",
      "FLAG_DOCUMENT_21\n",
      "count    307511.000000\n",
      "mean          0.000335\n",
      "std           0.018299\n",
      "min           0.000000\n",
      "25%           0.000000\n",
      "50%           0.000000\n",
      "75%           0.000000\n",
      "max           1.000000\n",
      "Name: FLAG_DOCUMENT_21, dtype: float64\n",
      "--------------\n",
      "AMT_REQ_CREDIT_BUREAU_HOUR\n",
      "count    265992.000000\n",
      "mean          0.006402\n",
      "std           0.083849\n",
      "min           0.000000\n",
      "25%           0.000000\n",
      "50%           0.000000\n",
      "75%           0.000000\n",
      "max           4.000000\n",
      "Name: AMT_REQ_CREDIT_BUREAU_HOUR, dtype: float64\n",
      "--------------\n",
      "AMT_REQ_CREDIT_BUREAU_DAY\n",
      "count    265992.000000\n",
      "mean          0.007000\n",
      "std           0.110757\n",
      "min           0.000000\n",
      "25%           0.000000\n",
      "50%           0.000000\n",
      "75%           0.000000\n",
      "max           9.000000\n",
      "Name: AMT_REQ_CREDIT_BUREAU_DAY, dtype: float64\n",
      "--------------\n",
      "AMT_REQ_CREDIT_BUREAU_WEEK\n",
      "count    265992.000000\n",
      "mean          0.034362\n",
      "std           0.204685\n",
      "min           0.000000\n",
      "25%           0.000000\n",
      "50%           0.000000\n",
      "75%           0.000000\n",
      "max           8.000000\n",
      "Name: AMT_REQ_CREDIT_BUREAU_WEEK, dtype: float64\n",
      "--------------\n",
      "AMT_REQ_CREDIT_BUREAU_MON\n",
      "count    265992.000000\n",
      "mean          0.267395\n",
      "std           0.916002\n",
      "min           0.000000\n",
      "25%           0.000000\n",
      "50%           0.000000\n",
      "75%           0.000000\n",
      "max          27.000000\n",
      "Name: AMT_REQ_CREDIT_BUREAU_MON, dtype: float64\n",
      "--------------\n",
      "AMT_REQ_CREDIT_BUREAU_QRT\n",
      "count    265992.000000\n",
      "mean          0.265474\n",
      "std           0.794056\n",
      "min           0.000000\n",
      "25%           0.000000\n",
      "50%           0.000000\n",
      "75%           0.000000\n",
      "max         261.000000\n",
      "Name: AMT_REQ_CREDIT_BUREAU_QRT, dtype: float64\n",
      "--------------\n",
      "AMT_REQ_CREDIT_BUREAU_YEAR\n",
      "count    265992.000000\n",
      "mean          1.899974\n",
      "std           1.869295\n",
      "min           0.000000\n",
      "25%           0.000000\n",
      "50%           1.000000\n",
      "75%           3.000000\n",
      "max          25.000000\n",
      "Name: AMT_REQ_CREDIT_BUREAU_YEAR, dtype: float64\n",
      "--------------\n"
     ]
    }
   ],
   "source": [
    "for x in AD.columns:\n",
    "    print(x)\n",
    "    print(AD[x].describe())\n",
    "    print('--------------')"
   ]
  },
  {
   "cell_type": "markdown",
   "id": "2d890165-a9e2-4409-a847-8ef5d528cdd5",
   "metadata": {},
   "source": [
    "### Impute/ Remove missing Values"
   ]
  },
  {
   "cell_type": "code",
   "execution_count": 98,
   "id": "b024bf7c-a049-4d73-8a9e-324391224000",
   "metadata": {},
   "outputs": [
    {
     "data": {
      "text/plain": [
       "COMMONAREA_MEDI             69.872297\n",
       "COMMONAREA_AVG              69.872297\n",
       "COMMONAREA_MODE             69.872297\n",
       "NONLIVINGAPARTMENTS_MODE    69.432963\n",
       "NONLIVINGAPARTMENTS_AVG     69.432963\n",
       "                              ...    \n",
       "NAME_HOUSING_TYPE            0.000000\n",
       "NAME_FAMILY_STATUS           0.000000\n",
       "NAME_EDUCATION_TYPE          0.000000\n",
       "NAME_INCOME_TYPE             0.000000\n",
       "SK_ID_CURR                   0.000000\n",
       "Length: 122, dtype: float64"
      ]
     },
     "execution_count": 98,
     "metadata": {},
     "output_type": "execute_result"
    }
   ],
   "source": [
    "# Percentage of missing values in each column of application_data dataset\n",
    "AD_missing = AD.isna().mean().sort_values(ascending = False)\n",
    "AD_missing = AD_missing*100\n",
    "AD_missing"
   ]
  },
  {
   "cell_type": "code",
   "execution_count": 99,
   "id": "1b287d36-364c-4cf4-b0c7-7d99f1708fa7",
   "metadata": {},
   "outputs": [
    {
     "name": "stdout",
     "output_type": "stream",
     "text": [
      "['COMMONAREA_MEDI', 'COMMONAREA_AVG', 'COMMONAREA_MODE', 'NONLIVINGAPARTMENTS_MODE', 'NONLIVINGAPARTMENTS_AVG', 'NONLIVINGAPARTMENTS_MEDI', 'FONDKAPREMONT_MODE', 'LIVINGAPARTMENTS_MODE', 'LIVINGAPARTMENTS_AVG', 'LIVINGAPARTMENTS_MEDI', 'FLOORSMIN_AVG', 'FLOORSMIN_MODE', 'FLOORSMIN_MEDI', 'YEARS_BUILD_MEDI', 'YEARS_BUILD_MODE', 'YEARS_BUILD_AVG', 'OWN_CAR_AGE', 'LANDAREA_MEDI', 'LANDAREA_MODE', 'LANDAREA_AVG', 'BASEMENTAREA_MEDI', 'BASEMENTAREA_AVG', 'BASEMENTAREA_MODE', 'EXT_SOURCE_1', 'NONLIVINGAREA_MODE', 'NONLIVINGAREA_AVG', 'NONLIVINGAREA_MEDI', 'ELEVATORS_MEDI', 'ELEVATORS_AVG', 'ELEVATORS_MODE', 'WALLSMATERIAL_MODE', 'APARTMENTS_MEDI', 'APARTMENTS_AVG', 'APARTMENTS_MODE', 'ENTRANCES_MEDI', 'ENTRANCES_AVG', 'ENTRANCES_MODE', 'LIVINGAREA_AVG', 'LIVINGAREA_MODE', 'LIVINGAREA_MEDI', 'HOUSETYPE_MODE', 'FLOORSMAX_MODE', 'FLOORSMAX_MEDI', 'FLOORSMAX_AVG', 'YEARS_BEGINEXPLUATATION_MODE', 'YEARS_BEGINEXPLUATATION_MEDI', 'YEARS_BEGINEXPLUATATION_AVG', 'TOTALAREA_MODE', 'EMERGENCYSTATE_MODE']\n"
     ]
    }
   ],
   "source": [
    "# columns to be dropped with missing values greater than 47% in the application data \n",
    "col_drop = list(AD_missing[AD_missing.values>47].index)\n",
    "print(col_drop)"
   ]
  },
  {
   "cell_type": "code",
   "execution_count": 100,
   "id": "2861cc5c-e056-4896-931d-6a7e059fadec",
   "metadata": {},
   "outputs": [],
   "source": [
    "AD.drop(col_drop,axis = 1,inplace = True)"
   ]
  },
  {
   "cell_type": "code",
   "execution_count": 101,
   "id": "4efa71e5-e578-46dd-8daa-ca7724770341",
   "metadata": {},
   "outputs": [
    {
     "data": {
      "text/plain": [
       "OCCUPATION_TYPE                0.313455\n",
       "EXT_SOURCE_3                   0.198253\n",
       "AMT_REQ_CREDIT_BUREAU_YEAR     0.135016\n",
       "AMT_REQ_CREDIT_BUREAU_QRT      0.135016\n",
       "AMT_REQ_CREDIT_BUREAU_MON      0.135016\n",
       "AMT_REQ_CREDIT_BUREAU_WEEK     0.135016\n",
       "AMT_REQ_CREDIT_BUREAU_DAY      0.135016\n",
       "AMT_REQ_CREDIT_BUREAU_HOUR     0.135016\n",
       "NAME_TYPE_SUITE                0.004201\n",
       "OBS_30_CNT_SOCIAL_CIRCLE       0.003320\n",
       "DEF_30_CNT_SOCIAL_CIRCLE       0.003320\n",
       "OBS_60_CNT_SOCIAL_CIRCLE       0.003320\n",
       "DEF_60_CNT_SOCIAL_CIRCLE       0.003320\n",
       "EXT_SOURCE_2                   0.002146\n",
       "AMT_GOODS_PRICE                0.000904\n",
       "AMT_ANNUITY                    0.000039\n",
       "CNT_FAM_MEMBERS                0.000007\n",
       "DAYS_LAST_PHONE_CHANGE         0.000003\n",
       "FLAG_DOCUMENT_17               0.000000\n",
       "FLAG_DOCUMENT_18               0.000000\n",
       "FLAG_DOCUMENT_21               0.000000\n",
       "FLAG_DOCUMENT_20               0.000000\n",
       "FLAG_DOCUMENT_19               0.000000\n",
       "FLAG_DOCUMENT_2                0.000000\n",
       "FLAG_DOCUMENT_3                0.000000\n",
       "FLAG_DOCUMENT_4                0.000000\n",
       "FLAG_DOCUMENT_5                0.000000\n",
       "FLAG_DOCUMENT_16               0.000000\n",
       "FLAG_DOCUMENT_6                0.000000\n",
       "FLAG_DOCUMENT_7                0.000000\n",
       "FLAG_DOCUMENT_8                0.000000\n",
       "FLAG_DOCUMENT_9                0.000000\n",
       "FLAG_DOCUMENT_10               0.000000\n",
       "FLAG_DOCUMENT_11               0.000000\n",
       "ORGANIZATION_TYPE              0.000000\n",
       "FLAG_DOCUMENT_13               0.000000\n",
       "FLAG_DOCUMENT_14               0.000000\n",
       "FLAG_DOCUMENT_15               0.000000\n",
       "FLAG_DOCUMENT_12               0.000000\n",
       "SK_ID_CURR                     0.000000\n",
       "LIVE_CITY_NOT_WORK_CITY        0.000000\n",
       "DAYS_REGISTRATION              0.000000\n",
       "NAME_CONTRACT_TYPE             0.000000\n",
       "CODE_GENDER                    0.000000\n",
       "FLAG_OWN_CAR                   0.000000\n",
       "FLAG_OWN_REALTY                0.000000\n",
       "CNT_CHILDREN                   0.000000\n",
       "AMT_INCOME_TOTAL               0.000000\n",
       "AMT_CREDIT                     0.000000\n",
       "NAME_INCOME_TYPE               0.000000\n",
       "NAME_EDUCATION_TYPE            0.000000\n",
       "NAME_FAMILY_STATUS             0.000000\n",
       "NAME_HOUSING_TYPE              0.000000\n",
       "REGION_POPULATION_RELATIVE     0.000000\n",
       "DAYS_BIRTH                     0.000000\n",
       "DAYS_EMPLOYED                  0.000000\n",
       "DAYS_ID_PUBLISH                0.000000\n",
       "REG_CITY_NOT_WORK_CITY         0.000000\n",
       "FLAG_MOBIL                     0.000000\n",
       "FLAG_EMP_PHONE                 0.000000\n",
       "FLAG_WORK_PHONE                0.000000\n",
       "FLAG_CONT_MOBILE               0.000000\n",
       "FLAG_PHONE                     0.000000\n",
       "FLAG_EMAIL                     0.000000\n",
       "REGION_RATING_CLIENT           0.000000\n",
       "REGION_RATING_CLIENT_W_CITY    0.000000\n",
       "WEEKDAY_APPR_PROCESS_START     0.000000\n",
       "HOUR_APPR_PROCESS_START        0.000000\n",
       "REG_REGION_NOT_LIVE_REGION     0.000000\n",
       "REG_REGION_NOT_WORK_REGION     0.000000\n",
       "LIVE_REGION_NOT_WORK_REGION    0.000000\n",
       "TARGET                         0.000000\n",
       "REG_CITY_NOT_LIVE_CITY         0.000000\n",
       "dtype: float64"
      ]
     },
     "execution_count": 101,
     "metadata": {},
     "output_type": "execute_result"
    }
   ],
   "source": [
    "# Recalculating the Percentage of missing values in each column of application_data dataset\n",
    "AD.isna().mean().sort_values(ascending = False)"
   ]
  },
  {
   "cell_type": "markdown",
   "id": "788d0e68-54ad-4967-bf2b-a6243009c397",
   "metadata": {},
   "source": [
    "### Handling Missing values in OCCUPATION_TYPE categorical column "
   ]
  },
  {
   "cell_type": "code",
   "execution_count": 102,
   "id": "7828e292-90d9-4da5-a4bb-99a8715f7d54",
   "metadata": {},
   "outputs": [],
   "source": [
    "# handling categorical column with missing values >13 % we impute them as 'Others'\n",
    "AD.OCCUPATION_TYPE = AD.OCCUPATION_TYPE.fillna('Others')\n"
   ]
  },
  {
   "cell_type": "markdown",
   "id": "be2693a3-691b-4224-b407-bb9305384d34",
   "metadata": {},
   "source": [
    "### Handling Missing values in NAME_TYPE_SUITE Categorical column"
   ]
  },
  {
   "cell_type": "code",
   "execution_count": 103,
   "id": "d0c7fc3e-5078-437b-9cc9-a0c4b0d59f15",
   "metadata": {},
   "outputs": [],
   "source": [
    "# handling categorical columns with missing values <13 % we impute them with mode\n",
    "AD.NAME_TYPE_SUITE= AD.NAME_TYPE_SUITE.fillna(AD.NAME_TYPE_SUITE.mode()[0])"
   ]
  },
  {
   "cell_type": "markdown",
   "id": "e0900b77-5198-40b9-9713-303310f913d9",
   "metadata": {},
   "source": [
    "### Handling CODE_GENDER category Column"
   ]
  },
  {
   "cell_type": "code",
   "execution_count": 104,
   "id": "0f6bd8ea-a1b1-4876-905d-aa873a6f2f72",
   "metadata": {},
   "outputs": [
    {
     "data": {
      "text/plain": [
       "array(['M', 'F', 'XNA'], dtype=object)"
      ]
     },
     "execution_count": 104,
     "metadata": {},
     "output_type": "execute_result"
    }
   ],
   "source": [
    "AD.CODE_GENDER.unique()"
   ]
  },
  {
   "cell_type": "code",
   "execution_count": 105,
   "id": "a43ff010-8b1b-435e-af3f-11fea574be01",
   "metadata": {},
   "outputs": [],
   "source": [
    "# percentage of XNA is CODE_GENDER is 0.0013 we can impute the XNA values with mode as it is categorical column\n",
    "AD.CODE_GENDER.replace('XNA',AD.CODE_GENDER.mode()[0],inplace = True)"
   ]
  },
  {
   "cell_type": "code",
   "execution_count": 106,
   "id": "cc111edb-686c-40c1-b098-47a3f5536611",
   "metadata": {},
   "outputs": [
    {
     "data": {
      "text/plain": [
       "array(['M', 'F'], dtype=object)"
      ]
     },
     "execution_count": 106,
     "metadata": {},
     "output_type": "execute_result"
    }
   ],
   "source": [
    "AD.CODE_GENDER.unique()"
   ]
  },
  {
   "cell_type": "code",
   "execution_count": 107,
   "id": "f055f5e8-39f3-41cf-8e71-6d9e8c3e21f2",
   "metadata": {},
   "outputs": [
    {
     "data": {
      "text/plain": [
       "F    0.658357\n",
       "M    0.341643\n",
       "Name: CODE_GENDER, dtype: float64"
      ]
     },
     "execution_count": 107,
     "metadata": {},
     "output_type": "execute_result"
    }
   ],
   "source": [
    "AD.CODE_GENDER.value_counts(normalize = True)"
   ]
  },
  {
   "cell_type": "markdown",
   "id": "c998b545-9790-4569-b5d6-bb7303287105",
   "metadata": {},
   "source": [
    "### Data Standardization"
   ]
  },
  {
   "cell_type": "code",
   "execution_count": 108,
   "id": "b8db6ec5-c174-4244-bff9-ab1e540cf46b",
   "metadata": {},
   "outputs": [],
   "source": [
    "# We see that DAYS_BIRTH and DAYS_EMPLOYED are AGE column and WORK EXPERIENCE column given in \n",
    "# negative integers and we convert them into AGE in years and WORK EXPERIENCE in Years\n",
    "AD.DAYS_BIRTH = abs((AD.DAYS_BIRTH)/ 365.25)\n",
    "AD.DAYS_EMPLOYED = abs((AD.DAYS_EMPLOYED)/ 365.25)"
   ]
  },
  {
   "cell_type": "code",
   "execution_count": 109,
   "id": "31bbbcf9-9a87-49d6-beb8-e47b3ba80f3f",
   "metadata": {},
   "outputs": [],
   "source": [
    "# We convert the data types of AGE and WORK EXPERIENCE columns as Integer type\n",
    "AD.DAYS_BIRTH = AD.DAYS_BIRTH.astype(int)\n",
    "AD.DAYS_EMPLOYED = AD.DAYS_EMPLOYED.astype(int)"
   ]
  },
  {
   "cell_type": "code",
   "execution_count": 110,
   "id": "7d92d181-6cbf-405e-aeb5-369468f45642",
   "metadata": {},
   "outputs": [],
   "source": [
    "# We rename the columns as AGE and WORK EXPERIENCE \n",
    "AD.rename(columns = {'DAYS_BIRTH' : 'AGE','DAYS_EMPLOYED' : 'WORK_EXPERIENCE'},inplace =True)"
   ]
  },
  {
   "cell_type": "markdown",
   "id": "f7dd21b7-0855-4e3b-b45e-14b79b8016d4",
   "metadata": {},
   "source": [
    "## List of all categorical and numerical columns "
   ]
  },
  {
   "cell_type": "code",
   "execution_count": 111,
   "id": "166d389e-24a7-41a9-be80-386de7e544d1",
   "metadata": {},
   "outputs": [],
   "source": [
    "categorical_column_APP = []\n",
    "for x in AD.columns:\n",
    "    if AD[x].dtype == 'object':\n",
    "        categorical_column_APP.append(x)"
   ]
  },
  {
   "cell_type": "code",
   "execution_count": 112,
   "id": "4a4bc1c1-7cd5-40ff-acc9-03f121c9b7fe",
   "metadata": {},
   "outputs": [
    {
     "data": {
      "text/plain": [
       "['NAME_CONTRACT_TYPE',\n",
       " 'CODE_GENDER',\n",
       " 'FLAG_OWN_CAR',\n",
       " 'FLAG_OWN_REALTY',\n",
       " 'NAME_TYPE_SUITE',\n",
       " 'NAME_INCOME_TYPE',\n",
       " 'NAME_EDUCATION_TYPE',\n",
       " 'NAME_FAMILY_STATUS',\n",
       " 'NAME_HOUSING_TYPE',\n",
       " 'OCCUPATION_TYPE',\n",
       " 'WEEKDAY_APPR_PROCESS_START',\n",
       " 'ORGANIZATION_TYPE']"
      ]
     },
     "execution_count": 112,
     "metadata": {},
     "output_type": "execute_result"
    }
   ],
   "source": [
    "categorical_column_APP"
   ]
  },
  {
   "cell_type": "code",
   "execution_count": 113,
   "id": "26ff98a3-5701-4cf8-afa3-822a3449da75",
   "metadata": {},
   "outputs": [],
   "source": [
    "numerical_column_APP = []\n",
    "for x in AD.columns:\n",
    "    if AD[x].dtype != 'object':\n",
    "        numerical_column_APP.append(x)\n"
   ]
  },
  {
   "cell_type": "code",
   "execution_count": 114,
   "id": "e8f753cc-d789-4606-a17f-f1a318b21815",
   "metadata": {},
   "outputs": [
    {
     "data": {
      "text/plain": [
       "['SK_ID_CURR',\n",
       " 'TARGET',\n",
       " 'CNT_CHILDREN',\n",
       " 'AMT_INCOME_TOTAL',\n",
       " 'AMT_CREDIT',\n",
       " 'AMT_ANNUITY',\n",
       " 'AMT_GOODS_PRICE',\n",
       " 'REGION_POPULATION_RELATIVE',\n",
       " 'AGE',\n",
       " 'WORK_EXPERIENCE',\n",
       " 'DAYS_REGISTRATION',\n",
       " 'DAYS_ID_PUBLISH',\n",
       " 'FLAG_MOBIL',\n",
       " 'FLAG_EMP_PHONE',\n",
       " 'FLAG_WORK_PHONE',\n",
       " 'FLAG_CONT_MOBILE',\n",
       " 'FLAG_PHONE',\n",
       " 'FLAG_EMAIL',\n",
       " 'CNT_FAM_MEMBERS',\n",
       " 'REGION_RATING_CLIENT',\n",
       " 'REGION_RATING_CLIENT_W_CITY',\n",
       " 'HOUR_APPR_PROCESS_START',\n",
       " 'REG_REGION_NOT_LIVE_REGION',\n",
       " 'REG_REGION_NOT_WORK_REGION',\n",
       " 'LIVE_REGION_NOT_WORK_REGION',\n",
       " 'REG_CITY_NOT_LIVE_CITY',\n",
       " 'REG_CITY_NOT_WORK_CITY',\n",
       " 'LIVE_CITY_NOT_WORK_CITY',\n",
       " 'EXT_SOURCE_2',\n",
       " 'EXT_SOURCE_3',\n",
       " 'OBS_30_CNT_SOCIAL_CIRCLE',\n",
       " 'DEF_30_CNT_SOCIAL_CIRCLE',\n",
       " 'OBS_60_CNT_SOCIAL_CIRCLE',\n",
       " 'DEF_60_CNT_SOCIAL_CIRCLE',\n",
       " 'DAYS_LAST_PHONE_CHANGE',\n",
       " 'FLAG_DOCUMENT_2',\n",
       " 'FLAG_DOCUMENT_3',\n",
       " 'FLAG_DOCUMENT_4',\n",
       " 'FLAG_DOCUMENT_5',\n",
       " 'FLAG_DOCUMENT_6',\n",
       " 'FLAG_DOCUMENT_7',\n",
       " 'FLAG_DOCUMENT_8',\n",
       " 'FLAG_DOCUMENT_9',\n",
       " 'FLAG_DOCUMENT_10',\n",
       " 'FLAG_DOCUMENT_11',\n",
       " 'FLAG_DOCUMENT_12',\n",
       " 'FLAG_DOCUMENT_13',\n",
       " 'FLAG_DOCUMENT_14',\n",
       " 'FLAG_DOCUMENT_15',\n",
       " 'FLAG_DOCUMENT_16',\n",
       " 'FLAG_DOCUMENT_17',\n",
       " 'FLAG_DOCUMENT_18',\n",
       " 'FLAG_DOCUMENT_19',\n",
       " 'FLAG_DOCUMENT_20',\n",
       " 'FLAG_DOCUMENT_21',\n",
       " 'AMT_REQ_CREDIT_BUREAU_HOUR',\n",
       " 'AMT_REQ_CREDIT_BUREAU_DAY',\n",
       " 'AMT_REQ_CREDIT_BUREAU_WEEK',\n",
       " 'AMT_REQ_CREDIT_BUREAU_MON',\n",
       " 'AMT_REQ_CREDIT_BUREAU_QRT',\n",
       " 'AMT_REQ_CREDIT_BUREAU_YEAR']"
      ]
     },
     "execution_count": 114,
     "metadata": {},
     "output_type": "execute_result"
    }
   ],
   "source": [
    "numerical_column_APP"
   ]
  },
  {
   "cell_type": "markdown",
   "id": "8c3dfdca-d8b7-4ecb-bab1-3ef5701ebe8f",
   "metadata": {},
   "source": [
    "### Identifying Outliers - we take list of 8 numerical columns"
   ]
  },
  {
   "cell_type": "code",
   "execution_count": 115,
   "id": "8ac1e933-981d-4806-bb5d-8121cfed832a",
   "metadata": {},
   "outputs": [],
   "source": [
    "numerical_columns = ['AMT_INCOME_TOTAL','AMT_CREDIT','AMT_ANNUITY','AMT_GOODS_PRICE','AGE','WORK_EXPERIENCE','CNT_FAM_MEMBERS','CNT_CHILDREN']"
   ]
  },
  {
   "cell_type": "code",
   "execution_count": 116,
   "id": "cf301dc0-b1a5-4daa-88db-80b89d79f3f3",
   "metadata": {},
   "outputs": [
    {
     "name": "stdout",
     "output_type": "stream",
     "text": [
      "AMT_INCOME_TOTAL\n"
     ]
    },
    {
     "data": {
      "image/png": "[encoded data removed]",
      "text/plain": [
       "<Figure size 720x360 with 1 Axes>"
      ]
     },
     "metadata": {
      "needs_background": "light"
     },
     "output_type": "display_data"
    },
    {
     "name": "stdout",
     "output_type": "stream",
     "text": [
      "AMT_CREDIT\n"
     ]
    },
    {
     "data": {
      "image/png": "[encoded data removed]",
      "text/plain": [
       "<Figure size 720x360 with 1 Axes>"
      ]
     },
     "metadata": {
      "needs_background": "light"
     },
     "output_type": "display_data"
    },
    {
     "name": "stdout",
     "output_type": "stream",
     "text": [
      "AMT_ANNUITY\n"
     ]
    },
    {
     "data": {
      "image/png": "[encoded data removed]",
      "text/plain": [
       "<Figure size 720x360 with 1 Axes>"
      ]
     },
     "metadata": {
      "needs_background": "light"
     },
     "output_type": "display_data"
    },
    {
     "name": "stdout",
     "output_type": "stream",
     "text": [
      "AMT_GOODS_PRICE\n"
     ]
    },
    {
     "data": {
      "image/png": "[encoded data removed]",
      "text/plain": [
       "<Figure size 720x360 with 1 Axes>"
      ]
     },
     "metadata": {
      "needs_background": "light"
     },
     "output_type": "display_data"
    },
    {
     "name": "stdout",
     "output_type": "stream",
     "text": [
      "AGE\n"
     ]
    },
    {
     "data": {
      "image/png": "[encoded data removed]",
      "text/plain": [
       "<Figure size 720x360 with 1 Axes>"
      ]
     },
     "metadata": {
      "needs_background": "light"
     },
     "output_type": "display_data"
    },
    {
     "name": "stdout",
     "output_type": "stream",
     "text": [
      "WORK_EXPERIENCE\n"
     ]
    },
    {
     "data": {
      "image/png": "[encoded data removed]",
      "text/plain": [
       "<Figure size 720x360 with 1 Axes>"
      ]
     },
     "metadata": {
      "needs_background": "light"
     },
     "output_type": "display_data"
    },
    {
     "name": "stdout",
     "output_type": "stream",
     "text": [
      "CNT_FAM_MEMBERS\n"
     ]
    },
    {
     "data": {
      "image/png": "[encoded data removed]",
      "text/plain": [
       "<Figure size 720x360 with 1 Axes>"
      ]
     },
     "metadata": {
      "needs_background": "light"
     },
     "output_type": "display_data"
    },
    {
     "name": "stdout",
     "output_type": "stream",
     "text": [
      "CNT_CHILDREN\n"
     ]
    },
    {
     "data": {
      "image/png": "[encoded data removed]",
      "text/plain": [
       "<Figure size 720x360 with 1 Axes>"
      ]
     },
     "metadata": {
      "needs_background": "light"
     },
     "output_type": "display_data"
    }
   ],
   "source": [
    "for x in numerical_columns:\n",
    "    print(x)\n",
    "    plt.figure(figsize = [10,5])\n",
    "    sns.boxplot(AD[x])\n",
    "    plt.show()"
   ]
  },
  {
   "cell_type": "markdown",
   "id": "3b114322-9c0b-48c5-846e-bd5d82eea512",
   "metadata": {},
   "source": [
    "## Univariate Analysis"
   ]
  },
  {
   "cell_type": "markdown",
   "id": "6b254d8f-e17c-4a31-ba0e-d43617bc1871",
   "metadata": {},
   "source": [
    "### AGE Column"
   ]
  },
  {
   "cell_type": "code",
   "execution_count": 117,
   "id": "3dd0b763-a559-4adb-ae9c-f9ecf13bdc8c",
   "metadata": {},
   "outputs": [
    {
     "data": {
      "image/png": "[encoded data removed]",
      "text/plain": [
       "<Figure size 432x288 with 1 Axes>"
      ]
     },
     "metadata": {
      "needs_background": "light"
     },
     "output_type": "display_data"
    }
   ],
   "source": [
    "plt.hist(AD.AGE)\n",
    "plt.show()"
   ]
  },
  {
   "cell_type": "code",
   "execution_count": 118,
   "id": "22a85759-11be-46e8-83b6-909c08bd9a13",
   "metadata": {},
   "outputs": [
    {
     "data": {
      "image/png": "[encoded data removed]",
      "text/plain": [
       "<Figure size 432x288 with 1 Axes>"
      ]
     },
     "metadata": {
      "needs_background": "light"
     },
     "output_type": "display_data"
    }
   ],
   "source": [
    "#plot the boxplot of age variable.\n",
    "plt.boxplot(AD.AGE)\n",
    "plt.show()"
   ]
  },
  {
   "cell_type": "markdown",
   "id": "153448c0-722a-4f28-a86e-a74b42fbb7c9",
   "metadata": {},
   "source": [
    "## Segmented Univariate Analysis - Outliers if present we can group them and keep it in our data set\n",
    "### Binning of AGE_GROUP"
   ]
  },
  {
   "cell_type": "code",
   "execution_count": 119,
   "id": "b369c9c6-3c14-4d23-9674-844b45a43ea7",
   "metadata": {},
   "outputs": [],
   "source": [
    "AD['AGE_GROUP'] = pd.cut(AD.AGE, bins = [0,20,30,40,50,60,9999],labels = ['<20','20-30','30-40','40-50','50-60','60+'])"
   ]
  },
  {
   "cell_type": "code",
   "execution_count": 123,
   "id": "78dd4d09-af4f-4033-a2b4-143e77e127d5",
   "metadata": {},
   "outputs": [
    {
     "data": {
      "text/plain": [
       "30-40    0.270598\n",
       "40-50    0.241770\n",
       "50-60    0.220688\n",
       "20-30    0.172231\n",
       "60+      0.094709\n",
       "<20      0.000003\n",
       "Name: AGE_GROUP, dtype: float64"
      ]
     },
     "execution_count": 123,
     "metadata": {},
     "output_type": "execute_result"
    }
   ],
   "source": [
    "#plot the percentage of each buckets and average values of response_flag in each buckets. plot in subplots.\n",
    "AD.AGE_GROUP.value_counts(normalize = True)"
   ]
  },
  {
   "cell_type": "code",
   "execution_count": 124,
   "id": "73c6e8d3-bf78-4bc1-b37c-7b50abb31dcb",
   "metadata": {},
   "outputs": [
    {
     "data": {
      "image/png": "[encoded data removed]",
      "text/plain": [
       "<Figure size 720x288 with 1 Axes>"
      ]
     },
     "metadata": {
      "needs_background": "light"
     },
     "output_type": "display_data"
    }
   ],
   "source": [
    "plt.figure(figsize = [10,4])\n",
    "plt.subplot(1,2,1)\n",
    "AD.AGE_GROUP.value_counts().plot.bar()\n",
    "plt.show()\n"
   ]
  },
  {
   "cell_type": "markdown",
   "id": "5992c64c-3dbd-446b-9c93-4e97cb16537b",
   "metadata": {},
   "source": [
    "### Binning Income Group"
   ]
  },
  {
   "cell_type": "code",
   "execution_count": 125,
   "id": "259286fa-d315-4930-8591-6d711a92898c",
   "metadata": {},
   "outputs": [],
   "source": [
    "AD['INCOME_GROUP'] = pd.cut(AD.AMT_INCOME_TOTAL, bins = [0,100000,200000,300000,400000,500000,600000, 9999999999],labels = ['<100000','100000-200000','200000-300000','300000-400000','400000-500000','500000-600000','600000+'])"
   ]
  },
  {
   "cell_type": "code",
   "execution_count": 126,
   "id": "357074e7-f50e-4704-9adf-adf77e7e802e",
   "metadata": {},
   "outputs": [
    {
     "data": {
      "text/plain": [
       "100000-200000    0.506967\n",
       "200000-300000    0.211947\n",
       "<100000          0.207141\n",
       "300000-400000    0.047725\n",
       "400000-500000    0.017434\n",
       "600000+          0.005226\n",
       "500000-600000    0.003561\n",
       "Name: INCOME_GROUP, dtype: float64"
      ]
     },
     "execution_count": 126,
     "metadata": {},
     "output_type": "execute_result"
    }
   ],
   "source": [
    "AD.INCOME_GROUP.value_counts(normalize = True)"
   ]
  },
  {
   "cell_type": "code",
   "execution_count": 127,
   "id": "314fb368-d560-4a5f-85ff-dccdb20c083a",
   "metadata": {},
   "outputs": [
    {
     "data": {
      "image/png": "[encoded data removed]",
      "text/plain": [
       "<Figure size 720x288 with 1 Axes>"
      ]
     },
     "metadata": {
      "needs_background": "light"
     },
     "output_type": "display_data"
    }
   ],
   "source": [
    "plt.figure(figsize = [10,4])\n",
    "plt.subplot(1,2,1)\n",
    "AD.INCOME_GROUP.value_counts().plot.bar()\n",
    "plt.show()"
   ]
  },
  {
   "cell_type": "markdown",
   "id": "a18e7bc9-4be1-43bb-b9f6-c6ec59855f34",
   "metadata": {},
   "source": [
    "### Splitting APPLICATION DATA with TARGET ==1 and APPLICATION DATA with TARGET ==0"
   ]
  },
  {
   "cell_type": "code",
   "execution_count": 128,
   "id": "c044e2ee-0a4d-4865-98d7-3039328ce6a1",
   "metadata": {},
   "outputs": [],
   "source": [
    "AD_1 = AD[AD.TARGET==1]"
   ]
  },
  {
   "cell_type": "code",
   "execution_count": 129,
   "id": "d0782ea7-cc03-4c4f-b95d-6ab564b0beb4",
   "metadata": {},
   "outputs": [],
   "source": [
    "AD_0 = AD[AD.TARGET==0]"
   ]
  },
  {
   "cell_type": "markdown",
   "id": "519559ca-21cb-4c94-a8f7-96d69efa2658",
   "metadata": {},
   "source": [
    "### Finding if there is DATA Imbalance in TARGET Column"
   ]
  },
  {
   "cell_type": "code",
   "execution_count": 130,
   "id": "eb78806f-4e66-453c-a669-8a60cb2c916f",
   "metadata": {},
   "outputs": [
    {
     "data": {
      "text/plain": [
       "0    0.919271\n",
       "1    0.080729\n",
       "Name: TARGET, dtype: float64"
      ]
     },
     "execution_count": 130,
     "metadata": {},
     "output_type": "execute_result"
    }
   ],
   "source": [
    "# Data imbalance in percentage of TARGET Column\n",
    "AD.TARGET.value_counts(normalize = True)"
   ]
  },
  {
   "cell_type": "code",
   "execution_count": 131,
   "id": "61a78f8b-c98f-4220-bb4e-bd994c249e61",
   "metadata": {},
   "outputs": [
    {
     "data": {
      "image/png": "[encoded data removed]",
      "text/plain": [
       "<Figure size 432x288 with 1 Axes>"
      ]
     },
     "metadata": {},
     "output_type": "display_data"
    }
   ],
   "source": [
    "# Data imbalance - visualization of TARGET Column\n",
    "AD.TARGET.value_counts(normalize = True).plot.pie()\n",
    "plt.show()"
   ]
  },
  {
   "cell_type": "markdown",
   "id": "e011f4c4-0269-4a50-b1b9-47ff1887b2af",
   "metadata": {},
   "source": [
    "## Ratio of Data Imbalance"
   ]
  },
  {
   "cell_type": "code",
   "execution_count": 132,
   "id": "f9ad5928-3dab-4f9e-a630-43ffc6e94b1c",
   "metadata": {},
   "outputs": [
    {
     "data": {
      "text/plain": [
       "11.387150050352467"
      ]
     },
     "execution_count": 132,
     "metadata": {},
     "output_type": "execute_result"
    }
   ],
   "source": [
    "AD_0.shape[0]/AD_1.shape[0]"
   ]
  },
  {
   "cell_type": "markdown",
   "id": "575922cc-5562-4ae6-b684-7f0b5d8802c6",
   "metadata": {},
   "source": [
    "#### Analysis Result : There is 1 applicant with payment difficulties for every 11 applicants"
   ]
  },
  {
   "cell_type": "markdown",
   "id": "59352b97-c8e3-42b5-af60-f84a109e53e4",
   "metadata": {},
   "source": [
    "### Univariate Analysis - Categorical Columns for TARGET = 0 and TARGET =1\n"
   ]
  },
  {
   "cell_type": "markdown",
   "id": "55aac874-d139-4b2c-889f-d87554c14415",
   "metadata": {},
   "source": [
    "### 1. CODE_GENDER"
   ]
  },
  {
   "cell_type": "code",
   "execution_count": 133,
   "id": "89e144d0-b835-4379-8a6f-f9b9054a86bd",
   "metadata": {},
   "outputs": [
    {
     "data": {
      "image/png": "[encoded data removed]",
      "text/plain": [
       "<Figure size 720x360 with 2 Axes>"
      ]
     },
     "metadata": {},
     "output_type": "display_data"
    }
   ],
   "source": [
    "plt.figure(figsize = [10,5])\n",
    "plt.subplot(1,2,1)\n",
    "AD_0['CODE_GENDER'].value_counts(normalize = True).plot.pie()\n",
    "plt.subplot(1,2,2)\n",
    "AD_1['CODE_GENDER'].value_counts(normalize = True).plot.pie()\n",
    "plt.show()"
   ]
  },
  {
   "cell_type": "code",
   "execution_count": 134,
   "id": "9c087405-1481-4d1e-91eb-0962932051a7",
   "metadata": {},
   "outputs": [
    {
     "data": {
      "text/plain": [
       "F    0.658357\n",
       "M    0.341643\n",
       "Name: CODE_GENDER, dtype: float64"
      ]
     },
     "execution_count": 134,
     "metadata": {},
     "output_type": "execute_result"
    }
   ],
   "source": [
    "AD.CODE_GENDER.value_counts(normalize = True)"
   ]
  },
  {
   "cell_type": "markdown",
   "id": "d1eb82c0-5027-40c1-a63d-43069c156bfd",
   "metadata": {},
   "source": [
    "### 2. NAME_EDUCATION_TYPE"
   ]
  },
  {
   "cell_type": "code",
   "execution_count": 135,
   "id": "45245f3a-24ef-4170-a5f2-eeb4039c7f7c",
   "metadata": {},
   "outputs": [
    {
     "data": {
      "image/png": "[encoded data removed]",
      "text/plain": [
       "<Figure size 1224x360 with 2 Axes>"
      ]
     },
     "metadata": {
      "needs_background": "light"
     },
     "output_type": "display_data"
    }
   ],
   "source": [
    "plt.figure(figsize = [17,5])\n",
    "plt.subplot(1,2,1)\n",
    "AD_0['NAME_EDUCATION_TYPE'].value_counts(normalize = True).plot.bar()\n",
    "plt.subplot(1,2,2)\n",
    "AD_1['NAME_EDUCATION_TYPE'].value_counts(normalize = True).plot.bar()\n",
    "plt.show()\n"
   ]
  },
  {
   "cell_type": "code",
   "execution_count": 136,
   "id": "6db2fbb1-1d56-43f4-86ed-6a99d252b93c",
   "metadata": {},
   "outputs": [
    {
     "data": {
      "text/plain": [
       "Secondary / secondary special    0.710189\n",
       "Higher education                 0.243448\n",
       "Incomplete higher                0.033420\n",
       "Lower secondary                  0.012409\n",
       "Academic degree                  0.000533\n",
       "Name: NAME_EDUCATION_TYPE, dtype: float64"
      ]
     },
     "execution_count": 136,
     "metadata": {},
     "output_type": "execute_result"
    }
   ],
   "source": [
    "AD.NAME_EDUCATION_TYPE.value_counts(normalize = True)"
   ]
  },
  {
   "cell_type": "markdown",
   "id": "4a187eb2-34d0-4a12-a3ef-8515fe53e68d",
   "metadata": {},
   "source": [
    "### 3. NAME_FAMILY_STATUS "
   ]
  },
  {
   "cell_type": "code",
   "execution_count": 137,
   "id": "bebc7309-518f-40b2-b104-a9ec27834b75",
   "metadata": {},
   "outputs": [
    {
     "data": {
      "image/png": "[encoded data removed]",
      "text/plain": [
       "<Figure size 1224x360 with 2 Axes>"
      ]
     },
     "metadata": {},
     "output_type": "display_data"
    }
   ],
   "source": [
    "plt.figure(figsize = [17,5])\n",
    "plt.subplot(1,2,1)\n",
    "AD_0['NAME_FAMILY_STATUS'].value_counts(normalize = True).plot.pie()\n",
    "plt.subplot(1,2,2)\n",
    "AD_1['NAME_FAMILY_STATUS'].value_counts(normalize = True).plot.pie()\n",
    "plt.show()\n"
   ]
  },
  {
   "cell_type": "code",
   "execution_count": 138,
   "id": "6284a738-47d2-448c-a0eb-7e22eece8c96",
   "metadata": {},
   "outputs": [
    {
     "data": {
      "text/plain": [
       "Married                 0.638780\n",
       "Single / not married    0.147780\n",
       "Civil marriage          0.096826\n",
       "Separated               0.064290\n",
       "Widow                   0.052317\n",
       "Unknown                 0.000007\n",
       "Name: NAME_FAMILY_STATUS, dtype: float64"
      ]
     },
     "execution_count": 138,
     "metadata": {},
     "output_type": "execute_result"
    }
   ],
   "source": [
    "AD.NAME_FAMILY_STATUS.value_counts(normalize = True)"
   ]
  },
  {
   "cell_type": "markdown",
   "id": "5d3a6293-1682-4d14-93fc-e93e908f9a07",
   "metadata": {},
   "source": [
    "### 4. NAME_HOUSING_TYPE"
   ]
  },
  {
   "cell_type": "code",
   "execution_count": 139,
   "id": "fa91bcd2-c2a2-40b4-a20d-3d96938ed0b8",
   "metadata": {},
   "outputs": [
    {
     "data": {
      "image/png": "[encoded data removed]",
      "text/plain": [
       "<Figure size 1224x360 with 2 Axes>"
      ]
     },
     "metadata": {
      "needs_background": "light"
     },
     "output_type": "display_data"
    }
   ],
   "source": [
    "plt.figure(figsize = [17,5])\n",
    "plt.subplot(1,2,1)\n",
    "AD_0['NAME_HOUSING_TYPE'].value_counts(normalize = True).plot.bar()\n",
    "plt.subplot(1,2,2)\n",
    "AD_1['NAME_HOUSING_TYPE'].value_counts(normalize = True).plot.bar()\n",
    "plt.show()"
   ]
  },
  {
   "cell_type": "code",
   "execution_count": 140,
   "id": "a9ecfdae-0cc2-41f2-892b-ba461b60ad74",
   "metadata": {},
   "outputs": [
    {
     "data": {
      "text/plain": [
       "House / apartment      0.887344\n",
       "With parents           0.048258\n",
       "Municipal apartment    0.036366\n",
       "Rented apartment       0.015873\n",
       "Office apartment       0.008510\n",
       "Co-op apartment        0.003649\n",
       "Name: NAME_HOUSING_TYPE, dtype: float64"
      ]
     },
     "execution_count": 140,
     "metadata": {},
     "output_type": "execute_result"
    }
   ],
   "source": [
    "AD.NAME_HOUSING_TYPE.value_counts(normalize = True)"
   ]
  },
  {
   "cell_type": "markdown",
   "id": "ddf60b00-96f6-4170-8764-8cbb9e3fc927",
   "metadata": {},
   "source": [
    "### 5. OCCUPATION_TYPE"
   ]
  },
  {
   "cell_type": "code",
   "execution_count": 141,
   "id": "378b004f-9a3e-4d1d-84b5-158de6927962",
   "metadata": {},
   "outputs": [
    {
     "data": {
      "image/png": "[encoded data removed]",
      "text/plain": [
       "<Figure size 1224x360 with 2 Axes>"
      ]
     },
     "metadata": {
      "needs_background": "light"
     },
     "output_type": "display_data"
    }
   ],
   "source": [
    "plt.figure(figsize = [17,5])\n",
    "plt.subplot(1,2,1)\n",
    "AD_0['OCCUPATION_TYPE'].value_counts(normalize = True).plot.bar()\n",
    "plt.subplot(1,2,2)\n",
    "AD_1['OCCUPATION_TYPE'].value_counts(normalize = True).plot.bar()\n",
    "plt.show()"
   ]
  },
  {
   "cell_type": "markdown",
   "id": "0fa2d6e3-8003-4bf5-8969-009bc96de630",
   "metadata": {},
   "source": [
    "### Univariate analysis - Numerical Columns for TARGET = 0 and TARGET = 1"
   ]
  },
  {
   "cell_type": "code",
   "execution_count": 142,
   "id": "1ec1ff7a-7758-4651-af28-83ebd4042d94",
   "metadata": {},
   "outputs": [
    {
     "name": "stdout",
     "output_type": "stream",
     "text": [
      "0.25      112500.0\n",
      "0.50      148500.0\n",
      "0.75      202500.0\n",
      "0.80      225000.0\n",
      "0.90      270000.0\n",
      "0.95      337500.0\n",
      "0.99      486000.0\n",
      "1.00    18000090.0\n",
      "Name: AMT_INCOME_TOTAL, dtype: float64\n",
      "0.25     270000.0\n",
      "0.50     517788.0\n",
      "0.75     810000.0\n",
      "0.80     900000.0\n",
      "0.90    1157670.0\n",
      "0.95    1350000.0\n",
      "0.99    1886850.0\n",
      "1.00    4050000.0\n",
      "Name: AMT_CREDIT, dtype: float64\n",
      "0.25     16456.5\n",
      "0.50     24876.0\n",
      "0.75     34749.0\n",
      "0.80     37702.8\n",
      "0.90     46134.0\n",
      "0.95     53455.5\n",
      "0.99     70713.0\n",
      "1.00    258025.5\n",
      "Name: AMT_ANNUITY, dtype: float64\n",
      "0.25     238500.0\n",
      "0.50     450000.0\n",
      "0.75     688500.0\n",
      "0.80     855000.0\n",
      "0.90    1125000.0\n",
      "0.95    1345500.0\n",
      "0.99    1800000.0\n",
      "1.00    4050000.0\n",
      "Name: AMT_GOODS_PRICE, dtype: float64\n",
      "0.25    34.0\n",
      "0.50    43.0\n",
      "0.75    54.0\n",
      "0.80    56.0\n",
      "0.90    60.0\n",
      "0.95    63.0\n",
      "0.99    66.0\n",
      "1.00    69.0\n",
      "Name: AGE, dtype: float64\n",
      "0.25      2.0\n",
      "0.50      6.0\n",
      "0.75     16.0\n",
      "0.80     27.0\n",
      "0.90    999.0\n",
      "0.95    999.0\n",
      "0.99    999.0\n",
      "1.00    999.0\n",
      "Name: WORK_EXPERIENCE, dtype: float64\n",
      "0.25     2.0\n",
      "0.50     2.0\n",
      "0.75     3.0\n",
      "0.80     3.0\n",
      "0.90     3.0\n",
      "0.95     4.0\n",
      "0.99     5.0\n",
      "1.00    20.0\n",
      "Name: CNT_FAM_MEMBERS, dtype: float64\n",
      "0.25     0.0\n",
      "0.50     0.0\n",
      "0.75     1.0\n",
      "0.80     1.0\n",
      "0.90     1.0\n",
      "0.95     2.0\n",
      "0.99     3.0\n",
      "1.00    19.0\n",
      "Name: CNT_CHILDREN, dtype: float64\n"
     ]
    }
   ],
   "source": [
    "# numerical columns with TARGET = 0 and data distribution in quantile\n",
    "for x in numerical_columns:\n",
    "    print(AD_0[x].quantile([0.25,0.5,0.75,0.8,0.9,0.95,0.99,1]))"
   ]
  },
  {
   "cell_type": "code",
   "execution_count": 143,
   "id": "a8fd40d7-be20-41d8-a12e-05daa4bf40c8",
   "metadata": {},
   "outputs": [
    {
     "name": "stdout",
     "output_type": "stream",
     "text": [
      "0.25       112500.0\n",
      "0.50       135000.0\n",
      "0.75       202500.0\n",
      "0.80       202500.0\n",
      "0.90       256500.0\n",
      "0.95       315000.0\n",
      "0.99       450000.0\n",
      "1.00    117000000.0\n",
      "Name: AMT_INCOME_TOTAL, dtype: float64\n",
      "0.25     284400.00\n",
      "0.50     497520.00\n",
      "0.75     733315.50\n",
      "0.80     808650.00\n",
      "0.90    1042560.00\n",
      "0.95    1256400.00\n",
      "0.99    1711340.64\n",
      "1.00    4027680.00\n",
      "Name: AMT_CREDIT, dtype: float64\n",
      "0.25     17361.0\n",
      "0.50     25263.0\n",
      "0.75     32976.0\n",
      "0.80     35685.0\n",
      "0.90     42642.0\n",
      "0.95     49866.3\n",
      "0.99     62568.0\n",
      "1.00    149211.0\n",
      "Name: AMT_ANNUITY, dtype: float64\n",
      "0.25     238500.0\n",
      "0.50     450000.0\n",
      "0.75     675000.0\n",
      "0.80     675000.0\n",
      "0.90     900000.0\n",
      "0.95    1125000.0\n",
      "0.99    1575000.0\n",
      "1.00    3600000.0\n",
      "Name: AMT_GOODS_PRICE, dtype: float64\n",
      "0.25    31.0\n",
      "0.50    39.0\n",
      "0.75    49.0\n",
      "0.80    52.0\n",
      "0.90    57.0\n",
      "0.95    61.0\n",
      "0.99    65.0\n",
      "1.00    68.0\n",
      "Name: AGE, dtype: float64\n",
      "0.25      1.0\n",
      "0.50      3.0\n",
      "0.75      8.0\n",
      "0.80     11.0\n",
      "0.90    999.0\n",
      "0.95    999.0\n",
      "0.99    999.0\n",
      "1.00    999.0\n",
      "Name: WORK_EXPERIENCE, dtype: float64\n",
      "0.25     2.0\n",
      "0.50     2.0\n",
      "0.75     3.0\n",
      "0.80     3.0\n",
      "0.90     4.0\n",
      "0.95     4.0\n",
      "0.99     5.0\n",
      "1.00    13.0\n",
      "Name: CNT_FAM_MEMBERS, dtype: float64\n",
      "0.25     0.0\n",
      "0.50     0.0\n",
      "0.75     1.0\n",
      "0.80     1.0\n",
      "0.90     2.0\n",
      "0.95     2.0\n",
      "0.99     3.0\n",
      "1.00    11.0\n",
      "Name: CNT_CHILDREN, dtype: float64\n"
     ]
    }
   ],
   "source": [
    "# numerical columns with TARGET = 1 and data distribution in quantile\n",
    "for x in numerical_columns:\n",
    "    print(AD_1[x].quantile([0.25,0.5,0.75,0.8,0.9,0.95,0.99,1]))"
   ]
  },
  {
   "cell_type": "code",
   "execution_count": 144,
   "id": "96a8f01c-8f0e-4f90-a5f9-8a5a7e0c96ea",
   "metadata": {},
   "outputs": [
    {
     "data": {
      "text/plain": [
       "0.25       112500.0\n",
       "0.50       147150.0\n",
       "0.75       202500.0\n",
       "0.80       225000.0\n",
       "0.90       270000.0\n",
       "0.95       337500.0\n",
       "0.99       472500.0\n",
       "1.00    117000000.0\n",
       "Name: AMT_INCOME_TOTAL, dtype: float64"
      ]
     },
     "execution_count": 144,
     "metadata": {},
     "output_type": "execute_result"
    }
   ],
   "source": [
    "AD.AMT_INCOME_TOTAL.quantile([0.25,0.5,0.75,0.8,0.9,0.95,0.99,1])"
   ]
  },
  {
   "cell_type": "code",
   "execution_count": 145,
   "id": "47be4be8-d440-4c9a-b28b-39cd9442d522",
   "metadata": {},
   "outputs": [
    {
     "data": {
      "text/plain": [
       "0.25     270000.0\n",
       "0.50     513531.0\n",
       "0.75     808650.0\n",
       "0.80     900000.0\n",
       "0.90    1133748.0\n",
       "0.95    1350000.0\n",
       "0.99    1854000.0\n",
       "1.00    4050000.0\n",
       "Name: AMT_CREDIT, dtype: float64"
      ]
     },
     "execution_count": 145,
     "metadata": {},
     "output_type": "execute_result"
    }
   ],
   "source": [
    "AD.AMT_CREDIT.quantile([0.25,0.5,0.75,0.8,0.9,0.95,0.99,1])"
   ]
  },
  {
   "cell_type": "code",
   "execution_count": 146,
   "id": "e97a2632-8a32-4208-b195-073f546090d0",
   "metadata": {},
   "outputs": [
    {
     "data": {
      "text/plain": [
       "0.25      2.0\n",
       "0.50      6.0\n",
       "0.75     15.0\n",
       "0.80     25.0\n",
       "0.90    999.0\n",
       "0.95    999.0\n",
       "0.99    999.0\n",
       "1.00    999.0\n",
       "Name: WORK_EXPERIENCE, dtype: float64"
      ]
     },
     "execution_count": 146,
     "metadata": {},
     "output_type": "execute_result"
    }
   ],
   "source": [
    "AD.WORK_EXPERIENCE.quantile([0.25,0.5,0.75,0.8,0.9,0.95,0.99,1])"
   ]
  },
  {
   "cell_type": "markdown",
   "id": "958fdf95-d24a-488b-9dae-18ee6a7d566f",
   "metadata": {},
   "source": [
    "## CORRELATION between Numerical Columns"
   ]
  },
  {
   "cell_type": "code",
   "execution_count": 147,
   "id": "013d1061-1fe2-4222-a05f-06d6f554c925",
   "metadata": {},
   "outputs": [
    {
     "data": {
      "text/plain": [
       "0.08072881945686496"
      ]
     },
     "execution_count": 147,
     "metadata": {},
     "output_type": "execute_result"
    }
   ],
   "source": [
    "AD.TARGET.mean()"
   ]
  },
  {
   "cell_type": "code",
   "execution_count": 148,
   "id": "f8491760-39de-4e52-9110-83aaac76b97b",
   "metadata": {},
   "outputs": [
    {
     "data": {
      "text/html": [
       "<div>\n",
       "<style scoped>\n",
       "    .dataframe tbody tr th:only-of-type {\n",
       "        vertical-align: middle;\n",
       "    }\n",
       "\n",
       "    .dataframe tbody tr th {\n",
       "        vertical-align: top;\n",
       "    }\n",
       "\n",
       "    .dataframe thead th {\n",
       "        text-align: right;\n",
       "    }\n",
       "</style>\n",
       "<table border=\"1\" class=\"dataframe\">\n",
       "  <thead>\n",
       "    <tr style=\"text-align: right;\">\n",
       "      <th></th>\n",
       "      <th>AMT_INCOME_TOTAL</th>\n",
       "      <th>AMT_CREDIT</th>\n",
       "      <th>AMT_ANNUITY</th>\n",
       "      <th>AMT_GOODS_PRICE</th>\n",
       "      <th>AGE</th>\n",
       "      <th>WORK_EXPERIENCE</th>\n",
       "      <th>CNT_FAM_MEMBERS</th>\n",
       "      <th>CNT_CHILDREN</th>\n",
       "    </tr>\n",
       "  </thead>\n",
       "  <tbody>\n",
       "    <tr>\n",
       "      <th>AMT_INCOME_TOTAL</th>\n",
       "      <td>1.000000</td>\n",
       "      <td>0.156870</td>\n",
       "      <td>0.191657</td>\n",
       "      <td>0.159610</td>\n",
       "      <td>0.027270</td>\n",
       "      <td>0.063836</td>\n",
       "      <td>0.016342</td>\n",
       "      <td>0.012882</td>\n",
       "    </tr>\n",
       "    <tr>\n",
       "      <th>AMT_CREDIT</th>\n",
       "      <td>0.156870</td>\n",
       "      <td>1.000000</td>\n",
       "      <td>0.770138</td>\n",
       "      <td>0.986968</td>\n",
       "      <td>0.055462</td>\n",
       "      <td>0.064318</td>\n",
       "      <td>0.063160</td>\n",
       "      <td>0.002145</td>\n",
       "    </tr>\n",
       "    <tr>\n",
       "      <th>AMT_ANNUITY</th>\n",
       "      <td>0.191657</td>\n",
       "      <td>0.770138</td>\n",
       "      <td>1.000000</td>\n",
       "      <td>0.775109</td>\n",
       "      <td>0.009450</td>\n",
       "      <td>0.102856</td>\n",
       "      <td>0.075539</td>\n",
       "      <td>0.021374</td>\n",
       "    </tr>\n",
       "    <tr>\n",
       "      <th>AMT_GOODS_PRICE</th>\n",
       "      <td>0.159610</td>\n",
       "      <td>0.986968</td>\n",
       "      <td>0.775109</td>\n",
       "      <td>1.000000</td>\n",
       "      <td>0.053465</td>\n",
       "      <td>0.062264</td>\n",
       "      <td>0.061185</td>\n",
       "      <td>0.001827</td>\n",
       "    </tr>\n",
       "    <tr>\n",
       "      <th>AGE</th>\n",
       "      <td>0.027270</td>\n",
       "      <td>0.055462</td>\n",
       "      <td>0.009450</td>\n",
       "      <td>0.053465</td>\n",
       "      <td>1.000000</td>\n",
       "      <td>0.623900</td>\n",
       "      <td>0.278860</td>\n",
       "      <td>0.330876</td>\n",
       "    </tr>\n",
       "    <tr>\n",
       "      <th>WORK_EXPERIENCE</th>\n",
       "      <td>0.063836</td>\n",
       "      <td>0.064318</td>\n",
       "      <td>0.102856</td>\n",
       "      <td>0.062264</td>\n",
       "      <td>0.623900</td>\n",
       "      <td>1.000000</td>\n",
       "      <td>0.234365</td>\n",
       "      <td>0.241583</td>\n",
       "    </tr>\n",
       "    <tr>\n",
       "      <th>CNT_FAM_MEMBERS</th>\n",
       "      <td>0.016342</td>\n",
       "      <td>0.063160</td>\n",
       "      <td>0.075539</td>\n",
       "      <td>0.061185</td>\n",
       "      <td>0.278860</td>\n",
       "      <td>0.234365</td>\n",
       "      <td>1.000000</td>\n",
       "      <td>0.879161</td>\n",
       "    </tr>\n",
       "    <tr>\n",
       "      <th>CNT_CHILDREN</th>\n",
       "      <td>0.012882</td>\n",
       "      <td>0.002145</td>\n",
       "      <td>0.021374</td>\n",
       "      <td>0.001827</td>\n",
       "      <td>0.330876</td>\n",
       "      <td>0.241583</td>\n",
       "      <td>0.879161</td>\n",
       "      <td>1.000000</td>\n",
       "    </tr>\n",
       "  </tbody>\n",
       "</table>\n",
       "</div>"
      ],
      "text/plain": [
       "                  AMT_INCOME_TOTAL  AMT_CREDIT  AMT_ANNUITY  AMT_GOODS_PRICE  \\\n",
       "AMT_INCOME_TOTAL          1.000000    0.156870     0.191657         0.159610   \n",
       "AMT_CREDIT                0.156870    1.000000     0.770138         0.986968   \n",
       "AMT_ANNUITY               0.191657    0.770138     1.000000         0.775109   \n",
       "AMT_GOODS_PRICE           0.159610    0.986968     0.775109         1.000000   \n",
       "AGE                       0.027270    0.055462     0.009450         0.053465   \n",
       "WORK_EXPERIENCE           0.063836    0.064318     0.102856         0.062264   \n",
       "CNT_FAM_MEMBERS           0.016342    0.063160     0.075539         0.061185   \n",
       "CNT_CHILDREN              0.012882    0.002145     0.021374         0.001827   \n",
       "\n",
       "                       AGE  WORK_EXPERIENCE  CNT_FAM_MEMBERS  CNT_CHILDREN  \n",
       "AMT_INCOME_TOTAL  0.027270         0.063836         0.016342      0.012882  \n",
       "AMT_CREDIT        0.055462         0.064318         0.063160      0.002145  \n",
       "AMT_ANNUITY       0.009450         0.102856         0.075539      0.021374  \n",
       "AMT_GOODS_PRICE   0.053465         0.062264         0.061185      0.001827  \n",
       "AGE               1.000000         0.623900         0.278860      0.330876  \n",
       "WORK_EXPERIENCE   0.623900         1.000000         0.234365      0.241583  \n",
       "CNT_FAM_MEMBERS   0.278860         0.234365         1.000000      0.879161  \n",
       "CNT_CHILDREN      0.330876         0.241583         0.879161      1.000000  "
      ]
     },
     "execution_count": 148,
     "metadata": {},
     "output_type": "execute_result"
    }
   ],
   "source": [
    "AD_CORR = AD[numerical_columns].corr().abs()\n",
    "AD_CORR"
   ]
  },
  {
   "cell_type": "code",
   "execution_count": 149,
   "id": "7b75310a-7a70-432d-a659-0a29ca9abdde",
   "metadata": {},
   "outputs": [
    {
     "data": {
      "image/png": "[encoded data removed]",
      "text/plain": [
       "<Figure size 432x288 with 2 Axes>"
      ]
     },
     "metadata": {
      "needs_background": "light"
     },
     "output_type": "display_data"
    }
   ],
   "source": [
    "sns.heatmap(AD_CORR,annot = True,cmap='RdYlGn',center = 0.080729)\n",
    "plt.show()"
   ]
  },
  {
   "cell_type": "markdown",
   "id": "7ff7a766-b735-4412-9cf0-299f3b35b685",
   "metadata": {},
   "source": [
    "## Bivariate Analysis"
   ]
  },
  {
   "cell_type": "code",
   "execution_count": 150,
   "id": "59a2c389-db5d-49d6-a519-b80459be9d08",
   "metadata": {},
   "outputs": [
    {
     "data": {
      "image/png": "[encoded data removed]",
      "text/plain": [
       "<Figure size 432x288 with 1 Axes>"
      ]
     },
     "metadata": {
      "needs_background": "light"
     },
     "output_type": "display_data"
    }
   ],
   "source": [
    "#plot the scatter plot of AMT_GOODS_PRICE and AMT_CREDIT in APPLICATION_DATA\n",
    "plt.title(\"AMT_GOODS_PRICE vs AMT_CREDIT\\n\", fontdict={'fontsize': 10, 'fontweight' : 5, 'color' : 'Green'})\n",
    "plt.scatter(AD.AMT_GOODS_PRICE,AD.AMT_CREDIT)\n",
    "plt.show()"
   ]
  },
  {
   "cell_type": "code",
   "execution_count": 151,
   "id": "786d559b-57a0-4d08-840e-d8fb59e99541",
   "metadata": {},
   "outputs": [
    {
     "data": {
      "image/png": "[encoded data removed]",
      "text/plain": [
       "<Figure size 432x288 with 1 Axes>"
      ]
     },
     "metadata": {
      "needs_background": "light"
     },
     "output_type": "display_data"
    }
   ],
   "source": [
    "plt.title(\"AMT_GOODS_PRICE vs AMT_ANNUITY\\n\", fontdict={'fontsize': 10, 'fontweight' : 5, 'color' : 'Green'})\n",
    "plt.scatter(AD.AMT_GOODS_PRICE,AD.AMT_ANNUITY)\n",
    "plt.show()"
   ]
  },
  {
   "cell_type": "code",
   "execution_count": 152,
   "id": "f1e07c14-7f83-46aa-b0a8-36b62d1de834",
   "metadata": {},
   "outputs": [
    {
     "data": {
      "image/png": "[encoded data removed]",
      "text/plain": [
       "<Figure size 432x288 with 1 Axes>"
      ]
     },
     "metadata": {
      "needs_background": "light"
     },
     "output_type": "display_data"
    }
   ],
   "source": [
    "plt.title(\"CNT_CHILDREN vs CNT_FAM_MEMBERS\\n\", fontdict={'fontsize': 10, 'fontweight' : 5, 'color' : 'Green'})\n",
    "plt.scatter(AD.CNT_CHILDREN,AD.CNT_FAM_MEMBERS)\n",
    "plt.show()"
   ]
  },
  {
   "cell_type": "code",
   "execution_count": 153,
   "id": "b0480cea-b973-4142-90ae-3a5377b96a7f",
   "metadata": {},
   "outputs": [
    {
     "data": {
      "image/png": "[encoded data removed]",
      "text/plain": [
       "<Figure size 432x288 with 1 Axes>"
      ]
     },
     "metadata": {
      "needs_background": "light"
     },
     "output_type": "display_data"
    }
   ],
   "source": [
    "plt.title(\"AMT_ANNUITY vs AMT_CREDIT\\n\", fontdict={'fontsize': 10, 'fontweight' : 5, 'color' : 'Green'})\n",
    "plt.scatter(AD.AMT_ANNUITY,AD.AMT_CREDIT)\n",
    "plt.show()"
   ]
  },
  {
   "cell_type": "code",
   "execution_count": 154,
   "id": "dd033217-60a8-42d1-84ac-2f0ca427bc99",
   "metadata": {},
   "outputs": [
    {
     "data": {
      "text/plain": [
       "array([1, 0], dtype=int64)"
      ]
     },
     "execution_count": 154,
     "metadata": {},
     "output_type": "execute_result"
    }
   ],
   "source": [
    "AD.TARGET.unique()"
   ]
  },
  {
   "cell_type": "code",
   "execution_count": 155,
   "id": "bebb59af-079e-4abd-9df2-99f2ee878d6f",
   "metadata": {},
   "outputs": [
    {
     "data": {
      "text/plain": [
       "['NAME_CONTRACT_TYPE',\n",
       " 'CODE_GENDER',\n",
       " 'FLAG_OWN_CAR',\n",
       " 'FLAG_OWN_REALTY',\n",
       " 'NAME_TYPE_SUITE',\n",
       " 'NAME_INCOME_TYPE',\n",
       " 'NAME_EDUCATION_TYPE',\n",
       " 'NAME_FAMILY_STATUS',\n",
       " 'NAME_HOUSING_TYPE',\n",
       " 'OCCUPATION_TYPE',\n",
       " 'WEEKDAY_APPR_PROCESS_START',\n",
       " 'ORGANIZATION_TYPE']"
      ]
     },
     "execution_count": 155,
     "metadata": {},
     "output_type": "execute_result"
    }
   ],
   "source": [
    "categorical_column_APP"
   ]
  },
  {
   "cell_type": "markdown",
   "id": "f4f7e7e9-5ba8-46cc-ace3-17b674c12467",
   "metadata": {},
   "source": [
    "### Categorical columns(ALL) vs Categorical(TARGET column)\n",
    "    "
   ]
  },
  {
   "cell_type": "code",
   "execution_count": 156,
   "id": "c8e71f49-2e81-44c1-8823-4bbbcc602438",
   "metadata": {},
   "outputs": [
    {
     "name": "stdout",
     "output_type": "stream",
     "text": [
      "NAME_CONTRACT_TYPE\n"
     ]
    },
    {
     "data": {
      "image/png": "[encoded data removed]",
      "text/plain": [
       "<Figure size 1080x360 with 1 Axes>"
      ]
     },
     "metadata": {
      "needs_background": "light"
     },
     "output_type": "display_data"
    },
    {
     "name": "stdout",
     "output_type": "stream",
     "text": [
      "CODE_GENDER\n"
     ]
    },
    {
     "data": {
      "image/png": "[encoded data removed]",
      "text/plain": [
       "<Figure size 1080x360 with 1 Axes>"
      ]
     },
     "metadata": {
      "needs_background": "light"
     },
     "output_type": "display_data"
    },
    {
     "name": "stdout",
     "output_type": "stream",
     "text": [
      "FLAG_OWN_CAR\n"
     ]
    },
    {
     "data": {
      "image/png": "[encoded data removed]",
      "text/plain": [
       "<Figure size 1080x360 with 1 Axes>"
      ]
     },
     "metadata": {
      "needs_background": "light"
     },
     "output_type": "display_data"
    },
    {
     "name": "stdout",
     "output_type": "stream",
     "text": [
      "FLAG_OWN_REALTY\n"
     ]
    },
    {
     "data": {
      "image/png": "[encoded data removed]",
      "text/plain": [
       "<Figure size 1080x360 with 1 Axes>"
      ]
     },
     "metadata": {
      "needs_background": "light"
     },
     "output_type": "display_data"
    },
    {
     "name": "stdout",
     "output_type": "stream",
     "text": [
      "NAME_TYPE_SUITE\n"
     ]
    },
    {
     "data": {
      "image/png": "[encoded data removed]",
      "text/plain": [
       "<Figure size 1080x360 with 1 Axes>"
      ]
     },
     "metadata": {
      "needs_background": "light"
     },
     "output_type": "display_data"
    },
    {
     "name": "stdout",
     "output_type": "stream",
     "text": [
      "NAME_INCOME_TYPE\n"
     ]
    },
    {
     "data": {
      "image/png": "[encoded data removed]",
      "text/plain": [
       "<Figure size 1080x360 with 1 Axes>"
      ]
     },
     "metadata": {
      "needs_background": "light"
     },
     "output_type": "display_data"
    },
    {
     "name": "stdout",
     "output_type": "stream",
     "text": [
      "NAME_EDUCATION_TYPE\n"
     ]
    },
    {
     "data": {
      "image/png": "[encoded data removed]",
      "text/plain": [
       "<Figure size 1080x360 with 1 Axes>"
      ]
     },
     "metadata": {
      "needs_background": "light"
     },
     "output_type": "display_data"
    },
    {
     "name": "stdout",
     "output_type": "stream",
     "text": [
      "NAME_FAMILY_STATUS\n"
     ]
    },
    {
     "data": {
      "image/png": "[encoded data removed]",
      "text/plain": [
       "<Figure size 1080x360 with 1 Axes>"
      ]
     },
     "metadata": {
      "needs_background": "light"
     },
     "output_type": "display_data"
    },
    {
     "name": "stdout",
     "output_type": "stream",
     "text": [
      "NAME_HOUSING_TYPE\n"
     ]
    },
    {
     "data": {
      "image/png": "[encoded data removed]",
      "text/plain": [
       "<Figure size 1080x360 with 1 Axes>"
      ]
     },
     "metadata": {
      "needs_background": "light"
     },
     "output_type": "display_data"
    },
    {
     "name": "stdout",
     "output_type": "stream",
     "text": [
      "OCCUPATION_TYPE\n"
     ]
    },
    {
     "data": {
      "image/png": "[encoded data removed]",
      "text/plain": [
       "<Figure size 1080x360 with 1 Axes>"
      ]
     },
     "metadata": {
      "needs_background": "light"
     },
     "output_type": "display_data"
    },
    {
     "name": "stdout",
     "output_type": "stream",
     "text": [
      "WEEKDAY_APPR_PROCESS_START\n"
     ]
    },
    {
     "data": {
      "image/png": "[encoded data removed]",
      "text/plain": [
       "<Figure size 1080x360 with 1 Axes>"
      ]
     },
     "metadata": {
      "needs_background": "light"
     },
     "output_type": "display_data"
    },
    {
     "name": "stdout",
     "output_type": "stream",
     "text": [
      "ORGANIZATION_TYPE\n"
     ]
    },
    {
     "data": {
      "image/png": "[encoded data removed]",
      "text/plain": [
       "<Figure size 1080x360 with 1 Axes>"
      ]
     },
     "metadata": {
      "needs_background": "light"
     },
     "output_type": "display_data"
    }
   ],
   "source": [
    "for x in categorical_column_APP:\n",
    "    print(x)\n",
    "    plt.figure(figsize = [15,5])\n",
    "    AD.groupby(x)['TARGET'].mean().plot.bar()\n",
    "    plt.show()"
   ]
  },
  {
   "cell_type": "markdown",
   "id": "06f07c77-f58e-4959-b32d-3807b9e42d61",
   "metadata": {},
   "source": [
    "### Multivariate_Analysis"
   ]
  },
  {
   "cell_type": "markdown",
   "id": "c30a18c0-10cb-4e94-b660-6e8baf139f27",
   "metadata": {},
   "source": [
    "### NAME_INCOME_TYPE vs NAME_EDUCATION_TYPE vs TARGET"
   ]
  },
  {
   "cell_type": "code",
   "execution_count": 157,
   "id": "db4040f7-ba6f-45df-95b0-a6d3f46233f3",
   "metadata": {},
   "outputs": [
    {
     "data": {
      "text/html": [
       "<div>\n",
       "<style scoped>\n",
       "    .dataframe tbody tr th:only-of-type {\n",
       "        vertical-align: middle;\n",
       "    }\n",
       "\n",
       "    .dataframe tbody tr th {\n",
       "        vertical-align: top;\n",
       "    }\n",
       "\n",
       "    .dataframe thead th {\n",
       "        text-align: right;\n",
       "    }\n",
       "</style>\n",
       "<table border=\"1\" class=\"dataframe\">\n",
       "  <thead>\n",
       "    <tr style=\"text-align: right;\">\n",
       "      <th>NAME_EDUCATION_TYPE</th>\n",
       "      <th>Academic degree</th>\n",
       "      <th>Higher education</th>\n",
       "      <th>Incomplete higher</th>\n",
       "      <th>Lower secondary</th>\n",
       "      <th>Secondary / secondary special</th>\n",
       "    </tr>\n",
       "    <tr>\n",
       "      <th>NAME_INCOME_TYPE</th>\n",
       "      <th></th>\n",
       "      <th></th>\n",
       "      <th></th>\n",
       "      <th></th>\n",
       "      <th></th>\n",
       "    </tr>\n",
       "  </thead>\n",
       "  <tbody>\n",
       "    <tr>\n",
       "      <th>Businessman</th>\n",
       "      <td>NaN</td>\n",
       "      <td>0.000000</td>\n",
       "      <td>NaN</td>\n",
       "      <td>NaN</td>\n",
       "      <td>NaN</td>\n",
       "    </tr>\n",
       "    <tr>\n",
       "      <th>Commercial associate</th>\n",
       "      <td>0.023256</td>\n",
       "      <td>0.051738</td>\n",
       "      <td>0.082059</td>\n",
       "      <td>0.121739</td>\n",
       "      <td>0.086544</td>\n",
       "    </tr>\n",
       "    <tr>\n",
       "      <th>Maternity leave</th>\n",
       "      <td>NaN</td>\n",
       "      <td>0.000000</td>\n",
       "      <td>NaN</td>\n",
       "      <td>NaN</td>\n",
       "      <td>1.000000</td>\n",
       "    </tr>\n",
       "    <tr>\n",
       "      <th>Pensioner</th>\n",
       "      <td>0.000000</td>\n",
       "      <td>0.041524</td>\n",
       "      <td>0.044402</td>\n",
       "      <td>0.066710</td>\n",
       "      <td>0.055808</td>\n",
       "    </tr>\n",
       "    <tr>\n",
       "      <th>State servant</th>\n",
       "      <td>0.000000</td>\n",
       "      <td>0.038813</td>\n",
       "      <td>0.067532</td>\n",
       "      <td>0.078431</td>\n",
       "      <td>0.070741</td>\n",
       "    </tr>\n",
       "    <tr>\n",
       "      <th>Student</th>\n",
       "      <td>NaN</td>\n",
       "      <td>0.000000</td>\n",
       "      <td>0.000000</td>\n",
       "      <td>NaN</td>\n",
       "      <td>0.000000</td>\n",
       "    </tr>\n",
       "    <tr>\n",
       "      <th>Unemployed</th>\n",
       "      <td>NaN</td>\n",
       "      <td>0.000000</td>\n",
       "      <td>0.333333</td>\n",
       "      <td>NaN</td>\n",
       "      <td>0.538462</td>\n",
       "    </tr>\n",
       "    <tr>\n",
       "      <th>Working</th>\n",
       "      <td>0.027778</td>\n",
       "      <td>0.061667</td>\n",
       "      <td>0.092569</td>\n",
       "      <td>0.145507</td>\n",
       "      <td>0.105177</td>\n",
       "    </tr>\n",
       "  </tbody>\n",
       "</table>\n",
       "</div>"
      ],
      "text/plain": [
       "NAME_EDUCATION_TYPE   Academic degree  Higher education  Incomplete higher  \\\n",
       "NAME_INCOME_TYPE                                                             \n",
       "Businessman                       NaN          0.000000                NaN   \n",
       "Commercial associate         0.023256          0.051738           0.082059   \n",
       "Maternity leave                   NaN          0.000000                NaN   \n",
       "Pensioner                    0.000000          0.041524           0.044402   \n",
       "State servant                0.000000          0.038813           0.067532   \n",
       "Student                           NaN          0.000000           0.000000   \n",
       "Unemployed                        NaN          0.000000           0.333333   \n",
       "Working                      0.027778          0.061667           0.092569   \n",
       "\n",
       "NAME_EDUCATION_TYPE   Lower secondary  Secondary / secondary special  \n",
       "NAME_INCOME_TYPE                                                      \n",
       "Businessman                       NaN                            NaN  \n",
       "Commercial associate         0.121739                       0.086544  \n",
       "Maternity leave                   NaN                       1.000000  \n",
       "Pensioner                    0.066710                       0.055808  \n",
       "State servant                0.078431                       0.070741  \n",
       "Student                           NaN                       0.000000  \n",
       "Unemployed                        NaN                       0.538462  \n",
       "Working                      0.145507                       0.105177  "
      ]
     },
     "execution_count": 157,
     "metadata": {},
     "output_type": "execute_result"
    }
   ],
   "source": [
    "MV_res1 = pd.pivot_table(data = AD,index = 'NAME_INCOME_TYPE', columns = 'NAME_EDUCATION_TYPE',values = 'TARGET')\n",
    "MV_res1"
   ]
  },
  {
   "cell_type": "code",
   "execution_count": 158,
   "id": "9bcf4cd4-2e7b-4ffd-8196-d2440f73be7e",
   "metadata": {},
   "outputs": [
    {
     "data": {
      "image/png": "[encoded data removed]",
      "text/plain": [
       "<Figure size 1152x360 with 2 Axes>"
      ]
     },
     "metadata": {
      "needs_background": "light"
     },
     "output_type": "display_data"
    }
   ],
   "source": [
    "plt.figure(figsize = [16,5])\n",
    "plt.title(\"NAME_INCOME_TYPE vs NAME_EDUCATION_TYPE vs TARGET\\n\", fontdict={'fontsize': 10, 'fontweight' : 5, 'color' : 'Green'})\n",
    "sns.heatmap(MV_res1,annot = True,cmap = 'RdYlGn',center = 0.080729)\n",
    "plt.show()"
   ]
  },
  {
   "cell_type": "markdown",
   "id": "b9397ddd-7833-4f14-918c-e435f03548a9",
   "metadata": {},
   "source": [
    "### NAME_HOUSING_TYPE vs NAME_EDUCATION_TYPE Vs TARGET"
   ]
  },
  {
   "cell_type": "code",
   "execution_count": 159,
   "id": "0c4309fe-3575-48d7-98bc-cbd8e79d4688",
   "metadata": {},
   "outputs": [
    {
     "data": {
      "text/html": [
       "<div>\n",
       "<style scoped>\n",
       "    .dataframe tbody tr th:only-of-type {\n",
       "        vertical-align: middle;\n",
       "    }\n",
       "\n",
       "    .dataframe tbody tr th {\n",
       "        vertical-align: top;\n",
       "    }\n",
       "\n",
       "    .dataframe thead th {\n",
       "        text-align: right;\n",
       "    }\n",
       "</style>\n",
       "<table border=\"1\" class=\"dataframe\">\n",
       "  <thead>\n",
       "    <tr style=\"text-align: right;\">\n",
       "      <th>NAME_EDUCATION_TYPE</th>\n",
       "      <th>Academic degree</th>\n",
       "      <th>Higher education</th>\n",
       "      <th>Incomplete higher</th>\n",
       "      <th>Lower secondary</th>\n",
       "      <th>Secondary / secondary special</th>\n",
       "    </tr>\n",
       "    <tr>\n",
       "      <th>NAME_HOUSING_TYPE</th>\n",
       "      <th></th>\n",
       "      <th></th>\n",
       "      <th></th>\n",
       "      <th></th>\n",
       "      <th></th>\n",
       "    </tr>\n",
       "  </thead>\n",
       "  <tbody>\n",
       "    <tr>\n",
       "      <th>Co-op apartment</th>\n",
       "      <td>0.000000</td>\n",
       "      <td>0.081800</td>\n",
       "      <td>0.050000</td>\n",
       "      <td>0.000000</td>\n",
       "      <td>0.081996</td>\n",
       "    </tr>\n",
       "    <tr>\n",
       "      <th>House / apartment</th>\n",
       "      <td>0.020408</td>\n",
       "      <td>0.052062</td>\n",
       "      <td>0.081281</td>\n",
       "      <td>0.105115</td>\n",
       "      <td>0.086323</td>\n",
       "    </tr>\n",
       "    <tr>\n",
       "      <th>Municipal apartment</th>\n",
       "      <td>0.000000</td>\n",
       "      <td>0.057464</td>\n",
       "      <td>0.081433</td>\n",
       "      <td>0.122744</td>\n",
       "      <td>0.089675</td>\n",
       "    </tr>\n",
       "    <tr>\n",
       "      <th>Office apartment</th>\n",
       "      <td>0.000000</td>\n",
       "      <td>0.041199</td>\n",
       "      <td>0.030928</td>\n",
       "      <td>0.121951</td>\n",
       "      <td>0.078209</td>\n",
       "    </tr>\n",
       "    <tr>\n",
       "      <th>Rented apartment</th>\n",
       "      <td>0.000000</td>\n",
       "      <td>0.063970</td>\n",
       "      <td>0.115385</td>\n",
       "      <td>0.126582</td>\n",
       "      <td>0.142356</td>\n",
       "    </tr>\n",
       "    <tr>\n",
       "      <th>With parents</th>\n",
       "      <td>0.000000</td>\n",
       "      <td>0.073232</td>\n",
       "      <td>0.110132</td>\n",
       "      <td>0.148649</td>\n",
       "      <td>0.135323</td>\n",
       "    </tr>\n",
       "  </tbody>\n",
       "</table>\n",
       "</div>"
      ],
      "text/plain": [
       "NAME_EDUCATION_TYPE  Academic degree  Higher education  Incomplete higher  \\\n",
       "NAME_HOUSING_TYPE                                                           \n",
       "Co-op apartment             0.000000          0.081800           0.050000   \n",
       "House / apartment           0.020408          0.052062           0.081281   \n",
       "Municipal apartment         0.000000          0.057464           0.081433   \n",
       "Office apartment            0.000000          0.041199           0.030928   \n",
       "Rented apartment            0.000000          0.063970           0.115385   \n",
       "With parents                0.000000          0.073232           0.110132   \n",
       "\n",
       "NAME_EDUCATION_TYPE  Lower secondary  Secondary / secondary special  \n",
       "NAME_HOUSING_TYPE                                                    \n",
       "Co-op apartment             0.000000                       0.081996  \n",
       "House / apartment           0.105115                       0.086323  \n",
       "Municipal apartment         0.122744                       0.089675  \n",
       "Office apartment            0.121951                       0.078209  \n",
       "Rented apartment            0.126582                       0.142356  \n",
       "With parents                0.148649                       0.135323  "
      ]
     },
     "execution_count": 159,
     "metadata": {},
     "output_type": "execute_result"
    }
   ],
   "source": [
    "MV_res2 = pd.pivot_table(data = AD,index = 'NAME_HOUSING_TYPE', columns = 'NAME_EDUCATION_TYPE',values = 'TARGET')\n",
    "MV_res2"
   ]
  },
  {
   "cell_type": "code",
   "execution_count": 160,
   "id": "fa827140-eeb1-4522-86ef-8ed18e349217",
   "metadata": {},
   "outputs": [
    {
     "data": {
      "image/png": "[encoded data removed]",
      "text/plain": [
       "<Figure size 1152x360 with 2 Axes>"
      ]
     },
     "metadata": {
      "needs_background": "light"
     },
     "output_type": "display_data"
    }
   ],
   "source": [
    "plt.figure(figsize = [16,5])\n",
    "plt.title(\"NAME_HOUSING_TYPE vs NAME_EDUCATION_TYPE Vs TARGET\\n\", fontdict={'fontsize': 10, 'fontweight' : 5, 'color' : 'Green'})\n",
    "sns.heatmap(MV_res2,annot = True,cmap = 'RdYlGn',center = 0.080729)\n",
    "plt.show()"
   ]
  },
  {
   "cell_type": "code",
   "execution_count": null,
   "id": "eeda641f-eeea-4fe3-87b3-eef44b794b7c",
   "metadata": {},
   "outputs": [],
   "source": []
  }
 ],
 "metadata": {
  "kernelspec": {
   "display_name": "Python 3 (ipykernel)",
   "language": "python",
   "name": "python3"
  },
  "language_info": {
   "codemirror_mode": {
    "name": "ipython",
    "version": 3
   },
   "file_extension": ".py",
   "mimetype": "text/x-python",
   "name": "python",
   "nbconvert_exporter": "python",
   "pygments_lexer": "ipython3",
   "version": "3.8.12"
  }
 },
 "nbformat": 4,
 "nbformat_minor": 5
}
