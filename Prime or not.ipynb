{
 "cells": [
  {
   "cell_type": "code",
   "execution_count": 1,
   "id": "8654dd89-dc2d-4245-bcd3-45b5415e1649",
   "metadata": {},
   "outputs": [
    {
     "name": "stdin",
     "output_type": "stream",
     "text": [
      "enter any number :  50\n"
     ]
    },
    {
     "name": "stdout",
     "output_type": "stream",
     "text": [
      "factors are:  [[1], [2], [5], [10], [25], [50]]\n",
      "number is not a prime number\n"
     ]
    }
   ],
   "source": [
    "# Write a program to check if a number is prime or not?\n",
    "\n",
    "num = int(input(\"enter any number : \"))\n",
    "count = 0\n",
    "primelist = []\n",
    "for i in range(num):\n",
    "    if (num%(i+1)==0):\n",
    "        count+=1\n",
    "        primelist.append([i+1])\n",
    "        \n",
    "\n",
    "print(\"factors are: \", primelist)        \n",
    "if (count<=2):\n",
    "    print(\"number entered is a prime number\")\n",
    "    \n",
    "    \n",
    "else:\n",
    "    print(\"number is not a prime number\")"
   ]
  },
  {
   "cell_type": "code",
   "execution_count": null,
   "id": "8d936539-3cea-4373-8b43-ace82cf1be2c",
   "metadata": {},
   "outputs": [],
   "source": []
  }
 ],
 "metadata": {
  "kernelspec": {
   "display_name": "Python 3 (ipykernel)",
   "language": "python",
   "name": "python3"
  },
  "language_info": {
   "codemirror_mode": {
    "name": "ipython",
    "version": 3
   },
   "file_extension": ".py",
   "mimetype": "text/x-python",
   "name": "python",
   "nbconvert_exporter": "python",
   "pygments_lexer": "ipython3",
   "version": "3.8.12"
  }
 },
 "nbformat": 4,
 "nbformat_minor": 5
}
