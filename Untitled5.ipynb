{
 "cells": [
  {
   "cell_type": "code",
   "execution_count": 21,
   "id": "545c3073-38e5-4d61-b57d-a6705b02dc27",
   "metadata": {},
   "outputs": [
    {
     "data": {
      "text/plain": [
       "array([9, 4, 5])"
      ]
     },
     "execution_count": 21,
     "metadata": {},
     "output_type": "execute_result"
    }
   ],
   "source": [
    "import numpy as np\n",
    "a = np.array([[9, 3, 2],[4, 0, 1],[5, 8, 6]])\n",
    "a[:,0]\n",
    "#for x in np.argsort(  "
   ]
  },
  {
   "cell_type": "code",
   "execution_count": 23,
   "id": "2bfd1ab9-e919-471a-9538-f501e1e43a66",
   "metadata": {},
   "outputs": [
    {
     "name": "stdout",
     "output_type": "stream",
     "text": [
      "[4 0 1]\n",
      "[5 8 6]\n",
      "[9 3 2]\n"
     ]
    }
   ],
   "source": [
    "for x in np.argsort(a[:,0]):\n",
    "    print(a[x])"
   ]
  },
  {
   "cell_type": "code",
   "execution_count": 76,
   "id": "07c0df17-a20a-4b51-9598-84a58dd8e908",
   "metadata": {},
   "outputs": [
    {
     "name": "stdout",
     "output_type": "stream",
     "text": [
      "[4 0 1]\n",
      "[9 3 2]\n",
      "[9 8 6]\n"
     ]
    }
   ],
   "source": [
    "import numpy as np\n",
    "a = np.array([[9, 3, 2],[4, 0, 1], [9, 8, 6]])\n",
    "for x in np.argsort(a[:,0]):\n",
    "    print(a[x])"
   ]
  },
  {
   "cell_type": "code",
   "execution_count": 75,
   "id": "fbb2ce39-804e-424e-a28d-2dcdbab43eb4",
   "metadata": {},
   "outputs": [
    {
     "name": "stdout",
     "output_type": "stream",
     "text": [
      "[[ 4  0  1]\n",
      " [ 9 10  2]\n",
      " [ 9  8  6]]\n"
     ]
    }
   ],
   "source": [
    "import numpy as np\n",
    "a = np.array([[9, 10, 2],[4, 0, 1], [9, 8, 6]])\n",
    "list_1=[]\n",
    "for x in np.argsort(a[:,0]):\n",
    "    list_1.append(a[x])\n",
    "b = np.array(list_1)\n",
    "print(b)"
   ]
  },
  {
   "cell_type": "code",
   "execution_count": null,
   "id": "be8b0339-0341-4c26-9ff6-7495be93ec2d",
   "metadata": {},
   "outputs": [],
   "source": [
    "481\n",
    "992\n",
    "996"
   ]
  },
  {
   "cell_type": "code",
   "execution_count": 18,
   "id": "c6763d03-996f-4020-a9e0-b8fa6d94ee5d",
   "metadata": {},
   "outputs": [
    {
     "data": {
      "text/plain": [
       "{(1, 3), (6, 14), 1, 1.5, 2, 3, 4, 5, 'harry'}"
      ]
     },
     "execution_count": 18,
     "metadata": {},
     "output_type": "execute_result"
    }
   ],
   "source": [
    "l = set([1,3,2,4,5,5,\"harry\",(1,3),1.5,tuple([6,14])])\n",
    "l\n"
   ]
  },
  {
   "cell_type": "code",
   "execution_count": 36,
   "id": "9b0731bc-60e4-4e44-b972-629bdf5a36af",
   "metadata": {},
   "outputs": [
    {
     "data": {
      "text/plain": [
       "140717741055872"
      ]
     },
     "execution_count": 36,
     "metadata": {},
     "output_type": "execute_result"
    }
   ],
   "source": [
    "id(5)"
   ]
  },
  {
   "cell_type": "code",
   "execution_count": 37,
   "id": "6c83ab7f-0d09-4ec9-885f-308fd7f874de",
   "metadata": {},
   "outputs": [
    {
     "data": {
      "text/plain": [
       "140717741055872"
      ]
     },
     "execution_count": 37,
     "metadata": {},
     "output_type": "execute_result"
    }
   ],
   "source": [
    "id(5)"
   ]
  },
  {
   "cell_type": "code",
   "execution_count": 38,
   "id": "c921d009-00bc-47bd-bd93-f7af1251bbf8",
   "metadata": {},
   "outputs": [
    {
     "data": {
      "text/plain": [
       "1771140635008"
      ]
     },
     "execution_count": 38,
     "metadata": {},
     "output_type": "execute_result"
    }
   ],
   "source": [
    "id([6,14])"
   ]
  },
  {
   "cell_type": "code",
   "execution_count": 39,
   "id": "34d48ed9-4aed-4cc3-9f71-4bec58498669",
   "metadata": {},
   "outputs": [
    {
     "data": {
      "text/plain": [
       "1771139944192"
      ]
     },
     "execution_count": 39,
     "metadata": {},
     "output_type": "execute_result"
    }
   ],
   "source": [
    "id([6,14])"
   ]
  },
  {
   "cell_type": "code",
   "execution_count": 32,
   "id": "93c8b1b9-838a-44f8-bd5b-c2ba8dc9a549",
   "metadata": {},
   "outputs": [
    {
     "data": {
      "text/plain": [
       "1771139800512"
      ]
     },
     "execution_count": 32,
     "metadata": {},
     "output_type": "execute_result"
    }
   ],
   "source": [
    "id((6,14))"
   ]
  },
  {
   "cell_type": "code",
   "execution_count": 35,
   "id": "f66133b2-ee9d-434d-ad71-1b5d12a635b4",
   "metadata": {},
   "outputs": [
    {
     "data": {
      "text/plain": [
       "1771068841536"
      ]
     },
     "execution_count": 35,
     "metadata": {},
     "output_type": "execute_result"
    }
   ],
   "source": [
    "id((6,14))"
   ]
  },
  {
   "cell_type": "code",
   "execution_count": null,
   "id": "1a4a81b9-1e7d-4a2d-96e3-07d71b407fc6",
   "metadata": {},
   "outputs": [
    {
     "data": {
      "text/plain": [
       "1771068841536"
      ]
     },
     "execution_count": 40,
     "metadata": {},
     "output_type": "execute_result"
    }
   ],
   "source": [
    "id(tuple([6,14]))"
   ]
  },
  {
   "cell_type": "code",
   "execution_count": null,
   "id": "f3556ee3-ceba-4436-943b-7c2f3a500237",
   "metadata": {},
   "outputs": [
    {
     "data": {
      "text/plain": [
       "1771139800512"
      ]
     },
     "execution_count": 43,
     "metadata": {},
     "output_type": "execute_result"
    }
   ],
   "source": [
    "id(tuple([6,14]))"
   ]
  },
  {
   "cell_type": "code",
   "execution_count": null,
   "id": "96239254-1de6-40e0-b594-727d9d55041e",
   "metadata": {},
   "outputs": [
    {
     "data": {
      "text/plain": [
       "{6, 14}"
      ]
     },
     "execution_count": 69,
     "metadata": {},
     "output_type": "execute_result"
    }
   ],
   "source": [
    "set([6,14])"
   ]
  },
  {
   "cell_type": "code",
   "execution_count": null,
   "id": "ad76e884-305e-4c0a-a13e-26b1fb08bd2c",
   "metadata": {},
   "outputs": [
    {
     "data": {
      "text/plain": [
       "1771141468224"
      ]
     },
     "execution_count": 68,
     "metadata": {},
     "output_type": "execute_result"
    }
   ],
   "source": [
    "id(set(tuple([6,14])))"
   ]
  },
  {
   "cell_type": "code",
   "execution_count": null,
   "id": "30c6499a-6d95-437f-ad32-f25d529e0731",
   "metadata": {},
   "outputs": [
    {
     "data": {
      "text/plain": [
       "(6, 14)"
      ]
     },
     "execution_count": 55,
     "metadata": {},
     "output_type": "execute_result"
    }
   ],
   "source": [
    "a"
   ]
  },
  {
   "cell_type": "code",
   "execution_count": null,
   "id": "1a656e6c-4b0b-46ff-83d7-97a192f3e709",
   "metadata": {},
   "outputs": [
    {
     "data": {
      "text/plain": [
       "1771141497072"
      ]
     },
     "execution_count": 65,
     "metadata": {},
     "output_type": "execute_result"
    }
   ],
   "source": [
    "id((\"harry\"))"
   ]
  },
  {
   "cell_type": "code",
   "execution_count": null,
   "id": "02d08a20-6719-422c-8152-d7402e0503d5",
   "metadata": {},
   "outputs": [
    {
     "data": {
      "text/plain": [
       "1771140565552"
      ]
     },
     "execution_count": 64,
     "metadata": {},
     "output_type": "execute_result"
    }
   ],
   "source": [
    "id((\"harry\"))"
   ]
  },
  {
   "cell_type": "code",
   "execution_count": null,
   "id": "ed0d4e36-b5de-47da-bdf9-541312a1b590",
   "metadata": {},
   "outputs": [
    {
     "data": {
      "text/plain": [
       "140717741055872"
      ]
     },
     "execution_count": 54,
     "metadata": {},
     "output_type": "execute_result"
    }
   ],
   "source": [
    "id(5)"
   ]
  },
  {
   "cell_type": "code",
   "execution_count": null,
   "id": "4f3be791-6be5-48af-825f-cfa21a1e9161",
   "metadata": {},
   "outputs": [
    {
     "data": {
      "text/plain": [
       "{(1, 3), (6, 14), 1, 1.5, 2, 3, 4, 5, 'harry'}"
      ]
     },
     "execution_count": 176,
     "metadata": {},
     "output_type": "execute_result"
    }
   ],
   "source": []
  },
  {
   "cell_type": "code",
   "execution_count": null,
   "id": "c63921cc-19c9-49e7-b3fa-c93e70021c0f",
   "metadata": {
    "tags": []
   },
   "outputs": [
    {
     "data": {
      "text/plain": [
       "140717741055872"
      ]
     },
     "execution_count": 182,
     "metadata": {},
     "output_type": "execute_result"
    }
   ],
   "source": [
    "id(5)\n",
    "k"
   ]
  },
  {
   "cell_type": "code",
   "execution_count": null,
   "id": "277b81cd-22c5-4769-ab29-5c64790fb9f4",
   "metadata": {},
   "outputs": [
    {
     "data": {
      "text/plain": [
       "140717741055872"
      ]
     },
     "execution_count": 183,
     "metadata": {},
     "output_type": "execute_result"
    }
   ],
   "source": [
    "id(5)"
   ]
  },
  {
   "cell_type": "code",
   "execution_count": null,
   "id": "2fa8d1b3-7820-41f8-ab7f-266fc05daa71",
   "metadata": {},
   "outputs": [],
   "source": [
    "a = tuple([6,14])"
   ]
  },
  {
   "cell_type": "code",
   "execution_count": null,
   "id": "414f9219-9a24-41f3-b289-4106a8a1e99b",
   "metadata": {},
   "outputs": [
    {
     "data": {
      "text/plain": [
       "1771139768640"
      ]
     },
     "execution_count": 180,
     "metadata": {},
     "output_type": "execute_result"
    }
   ],
   "source": [
    "id(a)"
   ]
  },
  {
   "cell_type": "code",
   "execution_count": null,
   "id": "5f118df5-ba61-4b50-bb43-ada1e7d6613b",
   "metadata": {},
   "outputs": [
    {
     "data": {
      "text/plain": [
       "1771139899008"
      ]
     },
     "execution_count": 168,
     "metadata": {},
     "output_type": "execute_result"
    }
   ],
   "source": [
    "id(a)"
   ]
  },
  {
   "cell_type": "code",
   "execution_count": null,
   "id": "254c918e-a753-4487-b5d9-fe85274ef267",
   "metadata": {},
   "outputs": [
    {
     "data": {
      "text/plain": [
       "(6, 14)"
      ]
     },
     "execution_count": 169,
     "metadata": {},
     "output_type": "execute_result"
    }
   ],
   "source": [
    "a = tuple([6,14])\n",
    "a"
   ]
  },
  {
   "cell_type": "code",
   "execution_count": null,
   "id": "30ed086c-08ff-49f3-8979-dd5cf80dc8f0",
   "metadata": {},
   "outputs": [],
   "source": [
    "k = 5"
   ]
  },
  {
   "cell_type": "code",
   "execution_count": null,
   "id": "eae46836-a561-4c3b-bda0-6c4bc661fe52",
   "metadata": {},
   "outputs": [
    {
     "data": {
      "text/plain": [
       "140717741055872"
      ]
     },
     "execution_count": 171,
     "metadata": {},
     "output_type": "execute_result"
    }
   ],
   "source": [
    "id(k)"
   ]
  },
  {
   "cell_type": "code",
   "execution_count": null,
   "id": "3852553c-9bde-4cd7-a0e6-91662531d2e6",
   "metadata": {},
   "outputs": [],
   "source": [
    "b = [6,14]"
   ]
  },
  {
   "cell_type": "code",
   "execution_count": null,
   "id": "6067018c-4606-4939-9a95-d5033e225f9f",
   "metadata": {},
   "outputs": [
    {
     "data": {
      "text/plain": [
       "1771141557248"
      ]
     },
     "execution_count": 175,
     "metadata": {},
     "output_type": "execute_result"
    }
   ],
   "source": [
    "id(b)"
   ]
  },
  {
   "cell_type": "code",
   "execution_count": null,
   "id": "67c4359e-f678-4442-a151-fcb143262a4d",
   "metadata": {},
   "outputs": [
    {
     "data": {
      "text/plain": [
       "1771141536576"
      ]
     },
     "execution_count": 141,
     "metadata": {},
     "output_type": "execute_result"
    }
   ],
   "source": [
    "id(b)"
   ]
  },
  {
   "cell_type": "code",
   "execution_count": null,
   "id": "e66a8a16-bf76-46b3-aed8-7a10cfb2d86a",
   "metadata": {},
   "outputs": [],
   "source": []
  },
  {
   "cell_type": "code",
   "execution_count": null,
   "id": "459606af-3e80-4199-a27e-43ff20b8f3a1",
   "metadata": {},
   "outputs": [],
   "source": [
    "b = [6,14]"
   ]
  },
  {
   "cell_type": "code",
   "execution_count": null,
   "id": "e23fe09b-09ad-4541-8a23-577267300efd",
   "metadata": {},
   "outputs": [
    {
     "data": {
      "text/plain": [
       "1771141529216"
      ]
     },
     "execution_count": 143,
     "metadata": {},
     "output_type": "execute_result"
    }
   ],
   "source": [
    "id(b)"
   ]
  },
  {
   "cell_type": "code",
   "execution_count": null,
   "id": "a40bf466-75d5-4373-aa14-eda2bcf07dcc",
   "metadata": {},
   "outputs": [
    {
     "data": {
      "text/plain": [
       "1771141529216"
      ]
     },
     "execution_count": 144,
     "metadata": {},
     "output_type": "execute_result"
    }
   ],
   "source": [
    "id(b)"
   ]
  },
  {
   "cell_type": "code",
   "execution_count": null,
   "id": "3675cc5c-361c-4179-a38e-348225cba21c",
   "metadata": {},
   "outputs": [],
   "source": [
    "c = 5"
   ]
  },
  {
   "cell_type": "code",
   "execution_count": null,
   "id": "c07e7c83-c9df-4896-93ca-5555a30f2c8f",
   "metadata": {},
   "outputs": [
    {
     "data": {
      "text/plain": [
       "140717741055872"
      ]
     },
     "execution_count": 146,
     "metadata": {},
     "output_type": "execute_result"
    }
   ],
   "source": [
    "id(c)"
   ]
  },
  {
   "cell_type": "code",
   "execution_count": null,
   "id": "eb5c2167-6c3a-43d4-960e-7dd3b8284031",
   "metadata": {},
   "outputs": [
    {
     "name": "stdout",
     "output_type": "stream",
     "text": [
      "[3, 4, 5]\n"
     ]
    }
   ],
   "source": [
    "inp = [1, 2, 3, 4, 5, 6, 7, 8, 9 ]\n",
    "\n",
    "out = [x for x in inp if x>2 and x<6 ] \n",
    "\n",
    "print(out) \n",
    "\n",
    "#can anyone help me where i can create mistake??"
   ]
  },
  {
   "cell_type": "code",
   "execution_count": null,
   "id": "0b6b1025-f09e-4fe5-a17e-cb391c042564",
   "metadata": {},
   "outputs": [],
   "source": []
  }
 ],
 "metadata": {
  "kernelspec": {
   "display_name": "Python 3 (ipykernel)",
   "language": "python",
   "name": "python3"
  },
  "language_info": {
   "codemirror_mode": {
    "name": "ipython",
    "version": 3
   },
   "file_extension": ".py",
   "mimetype": "text/x-python",
   "name": "python",
   "nbconvert_exporter": "python",
   "pygments_lexer": "ipython3",
   "version": "3.8.12"
  }
 },
 "nbformat": 4,
 "nbformat_minor": 5
}
