{
 "cells": [
  {
   "cell_type": "code",
   "execution_count": 3,
   "id": "fd1362dc-89e1-4be3-b569-34d7b00103a1",
   "metadata": {},
   "outputs": [
    {
     "data": {
      "text/plain": [
       "2.5"
      ]
     },
     "execution_count": 3,
     "metadata": {},
     "output_type": "execute_result"
    }
   ],
   "source": [
    "# Square root of number using functions\n",
    "\n",
    "def square_root(number):\n",
    "    \"\"\"Calculate the Square root of a given number\"\"\"\n",
    "    return number**0.5\n",
    "\n",
    "square_root(6.25)\n",
    "    "
   ]
  },
  {
   "cell_type": "code",
   "execution_count": 7,
   "id": "da003de2-03c9-43f3-847b-6ab39cf9d0bd",
   "metadata": {},
   "outputs": [
    {
     "data": {
      "text/plain": [
       "\u001b[1;31mSignature:\u001b[0m \u001b[0msquare_root\u001b[0m\u001b[1;33m(\u001b[0m\u001b[0mnumber\u001b[0m\u001b[1;33m)\u001b[0m\u001b[1;33m\u001b[0m\u001b[1;33m\u001b[0m\u001b[0m\n",
       "\u001b[1;31mSource:\u001b[0m   \n",
       "\u001b[1;32mdef\u001b[0m \u001b[0msquare_root\u001b[0m\u001b[1;33m(\u001b[0m\u001b[0mnumber\u001b[0m\u001b[1;33m)\u001b[0m\u001b[1;33m:\u001b[0m\u001b[1;33m\n",
       "\u001b[0m    \u001b[1;34m\"\"\"Calculate the Square root of a given number\"\"\"\u001b[0m\u001b[1;33m\n",
       "\u001b[0m    \u001b[1;32mreturn\u001b[0m \u001b[0mnumber\u001b[0m\u001b[1;33m**\u001b[0m\u001b[1;36m0.5\u001b[0m\u001b[1;33m\u001b[0m\u001b[1;33m\u001b[0m\u001b[0m\n",
       "\u001b[1;31mFile:\u001b[0m      c:\\users\\dukav\\appdata\\local\\temp\\ipykernel_6860\\566520874.py\n",
       "\u001b[1;31mType:\u001b[0m      function\n"
      ]
     },
     "metadata": {},
     "output_type": "display_data"
    }
   ],
   "source": [
    "square_root??"
   ]
  },
  {
   "cell_type": "code",
   "execution_count": 12,
   "id": "805533ac-884a-4790-9084-da89395a74ce",
   "metadata": {},
   "outputs": [
    {
     "data": {
      "text/plain": [
       "11"
      ]
     },
     "execution_count": 12,
     "metadata": {},
     "output_type": "execute_result"
    }
   ],
   "source": [
    "# return the maximum of three values\n",
    "\n",
    "def maximum_3(value1,value2,value3):\n",
    "    \"\"\"Returns the maximum of three values\"\"\"\n",
    "    max_value = value1\n",
    "    if value2>value1:\n",
    "        max_value = value2\n",
    "    if value3>value2:\n",
    "        max_value = value3\n",
    "    return max_value\n",
    "\n",
    "maximum_3(10,11,10)"
   ]
  },
  {
   "cell_type": "code",
   "execution_count": 65,
   "id": "91a98da0-2e60-4570-a401-8acc7ddfe331",
   "metadata": {},
   "outputs": [
    {
     "data": {
      "text/plain": [
       "\u001b[1;31mSignature:\u001b[0m \u001b[0mmaximum_3\u001b[0m\u001b[1;33m(\u001b[0m\u001b[0mvalue1\u001b[0m\u001b[1;33m,\u001b[0m \u001b[0mvalue2\u001b[0m\u001b[1;33m,\u001b[0m \u001b[0mvalue3\u001b[0m\u001b[1;33m)\u001b[0m\u001b[1;33m\u001b[0m\u001b[1;33m\u001b[0m\u001b[0m\n",
       "\u001b[1;31mSource:\u001b[0m   \n",
       "\u001b[1;32mdef\u001b[0m \u001b[0mmaximum_3\u001b[0m\u001b[1;33m(\u001b[0m\u001b[0mvalue1\u001b[0m\u001b[1;33m,\u001b[0m\u001b[0mvalue2\u001b[0m\u001b[1;33m,\u001b[0m\u001b[0mvalue3\u001b[0m\u001b[1;33m)\u001b[0m\u001b[1;33m:\u001b[0m\u001b[1;33m\n",
       "\u001b[0m    \u001b[1;34m\"\"\"Returns the maximum of three values\"\"\"\u001b[0m\u001b[1;33m\n",
       "\u001b[0m    \u001b[0mmax_value\u001b[0m \u001b[1;33m=\u001b[0m \u001b[0mvalue1\u001b[0m\u001b[1;33m\n",
       "\u001b[0m    \u001b[1;32mif\u001b[0m \u001b[0mvalue2\u001b[0m\u001b[1;33m>\u001b[0m\u001b[0mvalue1\u001b[0m\u001b[1;33m:\u001b[0m\u001b[1;33m\n",
       "\u001b[0m        \u001b[0mmax_value\u001b[0m \u001b[1;33m=\u001b[0m \u001b[0mvalue2\u001b[0m\u001b[1;33m\n",
       "\u001b[0m    \u001b[1;32mif\u001b[0m \u001b[0mvalue3\u001b[0m\u001b[1;33m>\u001b[0m\u001b[0mvalue2\u001b[0m\u001b[1;33m:\u001b[0m\u001b[1;33m\n",
       "\u001b[0m        \u001b[0mmax_value\u001b[0m \u001b[1;33m=\u001b[0m \u001b[0mvalue3\u001b[0m\u001b[1;33m\n",
       "\u001b[0m    \u001b[1;32mreturn\u001b[0m \u001b[0mmax_value\u001b[0m\u001b[1;33m\u001b[0m\u001b[1;33m\u001b[0m\u001b[0m\n",
       "\u001b[1;31mFile:\u001b[0m      c:\\users\\dukav\\appdata\\local\\temp\\ipykernel_6860\\977245114.py\n",
       "\u001b[1;31mType:\u001b[0m      function\n"
      ]
     },
     "metadata": {},
     "output_type": "display_data"
    }
   ],
   "source": [
    "maximum_3??"
   ]
  },
  {
   "cell_type": "code",
   "execution_count": null,
   "id": "29dbc22f-fbe6-4d48-b20c-1afa9b586f0d",
   "metadata": {},
   "outputs": [],
   "source": []
  },
  {
   "cell_type": "code",
   "execution_count": null,
   "id": "d26d85a7-f083-4168-90eb-986186ac3508",
   "metadata": {},
   "outputs": [],
   "source": []
  }
 ],
 "metadata": {
  "kernelspec": {
   "display_name": "Python 3 (ipykernel)",
   "language": "python",
   "name": "python3"
  },
  "language_info": {
   "codemirror_mode": {
    "name": "ipython",
    "version": 3
   },
   "file_extension": ".py",
   "mimetype": "text/x-python",
   "name": "python",
   "nbconvert_exporter": "python",
   "pygments_lexer": "ipython3",
   "version": "3.8.12"
  }
 },
 "nbformat": 4,
 "nbformat_minor": 5
}
