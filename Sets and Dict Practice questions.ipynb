{
 "cells": [
  {
   "cell_type": "code",
   "execution_count": 4,
   "id": "09a00f5b-4553-41ba-b3d3-e5346a7b25a2",
   "metadata": {},
   "outputs": [
    {
     "name": "stdout",
     "output_type": "stream",
     "text": [
      "{'A': 123, 'B': 431, 'C': 56}\n"
     ]
    }
   ],
   "source": [
    "dict_1 = {\"A\": 123,\"B\": 431,\"C\":56}\n",
    "print(dict_1)"
   ]
  },
  {
   "cell_type": "code",
   "execution_count": 29,
   "id": "7e74a31e-5cb2-4dc8-95de-84e716b3612a",
   "metadata": {},
   "outputs": [
    {
     "ename": "SyntaxError",
     "evalue": "invalid syntax (Temp/ipykernel_16468/682404276.py, line 6)",
     "output_type": "error",
     "traceback": [
      "\u001b[1;36m  File \u001b[1;32m\"C:\\Users\\dukav\\AppData\\Local\\Temp/ipykernel_16468/682404276.py\"\u001b[1;36m, line \u001b[1;32m6\u001b[0m\n\u001b[1;33m    del.dict_2[k]\u001b[0m\n\u001b[1;37m       ^\u001b[0m\n\u001b[1;31mSyntaxError\u001b[0m\u001b[1;31m:\u001b[0m invalid syntax\n"
     ]
    }
   ],
   "source": [
    "dict_1 = {\"A\": 123,\"B\": 431,\"C\":56}\n",
    "dict_2 = dict_1.copy()\n",
    "\n",
    "for k,v in dict_2:\n",
    "    if v%2 ==0:\n",
    "        del.dict_2[k]\n",
    "print(dict_1)\n",
    "print(dict_2)\n",
    "\n"
   ]
  },
  {
   "cell_type": "code",
   "execution_count": 32,
   "id": "a1f7879a-9169-4197-b964-3ef54f26bc85",
   "metadata": {},
   "outputs": [],
   "source": [
    "##With a given integral number n, write a program to generate a \n",
    "##dictionary that contains (i, i*i) such that is an integral \n",
    "##number between 1 and n (both included). and then the program should print the dictionary\n"
   ]
  },
  {
   "cell_type": "code",
   "execution_count": 1,
   "id": "934e9b3c-f04c-4e5e-9881-720aab9d7ced",
   "metadata": {},
   "outputs": [
    {
     "name": "stdin",
     "output_type": "stream",
     "text": [
      "enter the number :  4\n"
     ]
    },
    {
     "name": "stdout",
     "output_type": "stream",
     "text": [
      "{1: 1, 2: 4, 3: 9, 4: 16}\n"
     ]
    }
   ],
   "source": [
    "n=int(input(\"enter the number : \"))\n",
    "dict_1 = {}\n",
    "for i in range(1,n+1):\n",
    "    dict_1.update({i:i*i})\n",
    "print(dict_1)\n"
   ]
  },
  {
   "cell_type": "code",
   "execution_count": null,
   "id": "3899d877-8da1-40b2-8f61-5ac69b1801fc",
   "metadata": {},
   "outputs": [],
   "source": [
    "#Find all such numbers which are divisible by 7 but are not a multiple of 5, \n",
    "# between 2000 and 2100 (both included).\n",
    "#Find all such numbers which are divisible by 9 but are not a multiple of 5, \n",
    "#between 2000 and 2100 (both included).\n",
    "#Store these list of number in a dictionary in following way:"
   ]
  },
  {
   "cell_type": "code",
   "execution_count": 18,
   "id": "440c52d2-a163-4eb3-8734-8096229098b7",
   "metadata": {},
   "outputs": [
    {
     "name": "stdout",
     "output_type": "stream",
     "text": [
      "{}\n"
     ]
    }
   ],
   "source": [
    "range(2000,2101)\n",
    "dict_1 = {}\n",
    "dict_2 = {}\n",
    "list_1 = []\n",
    "list_2 = []\n",
    "for x in range(2000,2101):\n",
    "    if (x/7==0) and (x%5!=0):\n",
    "        dict_1.update({'x : list_1.append(x)'})\n",
    "        print(dict_1)\n",
    "    if (x/9==0) and (x%5!=0):\n",
    "        dict_2.update({x : list_2.append(x)})\n",
    "print(dict_1)\n",
    "\n"
   ]
  },
  {
   "cell_type": "code",
   "execution_count": 60,
   "id": "b76136a5-877b-403b-9872-7e521ed9c879",
   "metadata": {},
   "outputs": [
    {
     "data": {
      "text/plain": [
       "['square_of 1 is 1',\n",
       " 'square_of 2 is 4',\n",
       " 'square_of 3 is 9',\n",
       " 'square_of 4 is 16',\n",
       " 'square_of 5 is 25']"
      ]
     },
     "execution_count": 60,
     "metadata": {},
     "output_type": "execute_result"
    }
   ],
   "source": [
    "#Using List Comprehension, create a list which has square of value from 1 to 5\n",
    "#(both included) with the following string:\n",
    "\n",
    "#[sqaure_of 1_is_1, sqaure_of 2_is_4.....]\n",
    "\n",
    "[f\"square_of {x} is {x**2}\" for x in range(1,5+1)]"
   ]
  },
  {
   "cell_type": "code",
   "execution_count": 63,
   "id": "8c0bf8f5-ab1c-4473-9bc5-06fbeac04ad4",
   "metadata": {},
   "outputs": [
    {
     "data": {
      "text/plain": [
       "[49.5, 96.75, 85.5, 83.25, 94.5]"
      ]
     },
     "execution_count": 63,
     "metadata": {},
     "output_type": "execute_result"
    }
   ],
   "source": [
    "#Task: Weight of players in pounds\n",
    "\n",
    "nba_player = [110,215,190,185,210]\n",
    "\n",
    "[weight*0.45 for weight in nba_player]\n",
    "\n",
    "# Use comprehension expression to convert weight in pounds -> KG(s)"
   ]
  },
  {
   "cell_type": "code",
   "execution_count": 72,
   "id": "bac8399d-6d3a-407a-8ee3-6fb46bb4b9ae",
   "metadata": {},
   "outputs": [
    {
     "data": {
      "text/plain": [
       "{'bliss': 5, 'paradise': 8, 'prosperity': 10, 'euphoria': 8, 'delight': 7}"
      ]
     },
     "execution_count": 72,
     "metadata": {},
     "output_type": "execute_result"
    }
   ],
   "source": [
    "# Task:\n",
    "\n",
    "happiness = ['bliss','paradise','prosperity','euphoria','delight']\n",
    "\n",
    "{k:len(k) for k in happiness}"
   ]
  },
  {
   "cell_type": "code",
   "execution_count": 83,
   "id": "ab3a32f4-ead9-4c00-affe-32ee755213dc",
   "metadata": {},
   "outputs": [
    {
     "ename": "SyntaxError",
     "evalue": "invalid syntax (Temp/ipykernel_16468/3627543164.py, line 5)",
     "output_type": "error",
     "traceback": [
      "\u001b[1;36m  File \u001b[1;32m\"C:\\Users\\dukav\\AppData\\Local\\Temp/ipykernel_16468/3627543164.py\"\u001b[1;36m, line \u001b[1;32m5\u001b[0m\n\u001b[1;33m    lambda \"*\", word for word in giftbox\u001b[0m\n\u001b[1;37m           ^\u001b[0m\n\u001b[1;31mSyntaxError\u001b[0m\u001b[1;31m:\u001b[0m invalid syntax\n"
     ]
    }
   ],
   "source": [
    "giftbox = [\"iph*one\",\"car charger\",\"i*pad\",'ford','pencil','go*ld','paper']\n",
    "\n",
    "#Objective is to print only those elements containing '*\n",
    "\n",
    "lambda \"*\", word for word in giftbox \n",
    "   \n",
    "        \n",
    "    \n"
   ]
  },
  {
   "cell_type": "code",
   "execution_count": 87,
   "id": "180fe435-2d13-4392-baae-de1e306314f1",
   "metadata": {},
   "outputs": [
    {
     "ename": "SyntaxError",
     "evalue": "invalid syntax (Temp/ipykernel_16468/1956143027.py, line 3)",
     "output_type": "error",
     "traceback": [
      "\u001b[1;36m  File \u001b[1;32m\"C:\\Users\\dukav\\AppData\\Local\\Temp/ipykernel_16468/1956143027.py\"\u001b[1;36m, line \u001b[1;32m3\u001b[0m\n\u001b[1;33m    for hastag in tweet\u001b[0m\n\u001b[1;37m                       ^\u001b[0m\n\u001b[1;31mSyntaxError\u001b[0m\u001b[1;31m:\u001b[0m invalid syntax\n"
     ]
    }
   ],
   "source": [
    "tweet = \"I am not #hungry, but I am #bored, therefore I shall #eat\"\n",
    "\n",
    "for hastag in tweet.split(\" \"):\n",
    "    if hastag.startswith(#)\n",
    "        \n",
    "\n",
    "#Objective: To extract the hashtags\n",
    "#Expected Output:\n",
    "\n",
    "#hungry\n",
    "#bored\n",
    "#eat\n",
    "\n"
   ]
  },
  {
   "cell_type": "code",
   "execution_count": 123,
   "id": "6bcb3dfd-ea56-46ae-899b-5b6f42778938",
   "metadata": {},
   "outputs": [
    {
     "name": "stdout",
     "output_type": "stream",
     "text": [
      "[91, 85, 78]\n",
      "254\n"
     ]
    }
   ],
   "source": [
    "result = \"Math = 91 Science = 85 English = 78\"\n",
    "\n",
    "#Objective:\n",
    "\n",
    "#i. Find the total score i.e. = 91+85+78\n",
    "\n",
    "result.split(\" \")\n",
    "list_1=[]\n",
    "total = 0\n",
    "for x in result.split(\" \"):\n",
    "    if x.isdigit():\n",
    "        list_1.append(int(x))\n",
    "print(list_1)\n",
    "for y in list_1:\n",
    "    total = total+y\n",
    "print(total)\n",
    "    \n",
    "    \n",
    "\n",
    "\n",
    "\n"
   ]
  },
  {
   "cell_type": "code",
   "execution_count": 88,
   "id": "df92037f-6998-41ce-ae85-25f46cc6bc28",
   "metadata": {},
   "outputs": [
    {
     "ename": "NameError",
     "evalue": "name 'result' is not defined",
     "output_type": "error",
     "traceback": [
      "\u001b[1;31m---------------------------------------------------------------------------\u001b[0m",
      "\u001b[1;31mNameError\u001b[0m                                 Traceback (most recent call last)",
      "\u001b[1;32m~\\AppData\\Local\\Temp/ipykernel_16468/2580225280.py\u001b[0m in \u001b[0;36m<module>\u001b[1;34m\u001b[0m\n\u001b[1;32m----> 1\u001b[1;33m \u001b[0mresult\u001b[0m\u001b[1;33m.\u001b[0m\u001b[0msplit\u001b[0m\u001b[1;33m(\u001b[0m\u001b[1;34m\" \"\u001b[0m\u001b[1;33m)\u001b[0m\u001b[1;33m\u001b[0m\u001b[1;33m\u001b[0m\u001b[0m\n\u001b[0m",
      "\u001b[1;31mNameError\u001b[0m: name 'result' is not defined"
     ]
    }
   ],
   "source": []
  },
  {
   "cell_type": "code",
   "execution_count": 19,
   "id": "6317851e-2eb2-4ea4-ab38-673a66b6976b",
   "metadata": {},
   "outputs": [
    {
     "data": {
      "text/plain": [
       "{4}"
      ]
     },
     "execution_count": 19,
     "metadata": {},
     "output_type": "execute_result"
    }
   ],
   "source": [
    "A = {1,2,3,4,5,6,7,8}\n",
    "B = {2,4,5,6}\n",
    "C = {1, 4, 7}\n",
    "\n",
    "set.intersection(A,B, C)"
   ]
  },
  {
   "cell_type": "code",
   "execution_count": 20,
   "id": "27cc06fa-9015-4724-bdd6-f92acdf8d500",
   "metadata": {},
   "outputs": [],
   "source": [
    "d=dict(a=1, b=2)"
   ]
  },
  {
   "cell_type": "code",
   "execution_count": 21,
   "id": "dd7028a2-29f6-4969-9367-e79a87115b15",
   "metadata": {},
   "outputs": [
    {
     "data": {
      "text/plain": [
       "{'a': 1, 'b': 2}"
      ]
     },
     "execution_count": 21,
     "metadata": {},
     "output_type": "execute_result"
    }
   ],
   "source": [
    "d"
   ]
  },
  {
   "cell_type": "code",
   "execution_count": 22,
   "id": "b41d623c-29a6-4c56-ac1a-538844f4e070",
   "metadata": {},
   "outputs": [
    {
     "ename": "SyntaxError",
     "evalue": "invalid syntax (Temp/ipykernel_38924/3525648346.py, line 1)",
     "output_type": "error",
     "traceback": [
      "\u001b[1;36m  File \u001b[1;32m\"C:\\Users\\dukav\\AppData\\Local\\Temp/ipykernel_38924/3525648346.py\"\u001b[1;36m, line \u001b[1;32m1\u001b[0m\n\u001b[1;33m    d={'a'=1, 'b'=2}\u001b[0m\n\u001b[1;37m          ^\u001b[0m\n\u001b[1;31mSyntaxError\u001b[0m\u001b[1;31m:\u001b[0m invalid syntax\n"
     ]
    }
   ],
   "source": [
    "d={'a'=1, 'b'=2}"
   ]
  },
  {
   "cell_type": "code",
   "execution_count": 24,
   "id": "a0e85711-e5fa-4168-8b01-e01bc5d4e2ed",
   "metadata": {},
   "outputs": [],
   "source": [
    "d = {'a':1, 'b':2}"
   ]
  },
  {
   "cell_type": "code",
   "execution_count": 25,
   "id": "16db9fdf-35ad-4e5c-8186-8d37a6495c1f",
   "metadata": {},
   "outputs": [
    {
     "data": {
      "text/plain": [
       "{'a': 1, 'b': 2}"
      ]
     },
     "execution_count": 25,
     "metadata": {},
     "output_type": "execute_result"
    }
   ],
   "source": [
    "d"
   ]
  },
  {
   "cell_type": "code",
   "execution_count": 12,
   "id": "59288a44-a0fa-46ca-ab7c-542cbeb880b4",
   "metadata": {},
   "outputs": [],
   "source": [
    "\n",
    "d = {}"
   ]
  },
  {
   "cell_type": "code",
   "execution_count": 14,
   "id": "2af881c7-bbaa-42bb-9fd7-fdb02fcc2f0d",
   "metadata": {},
   "outputs": [
    {
     "data": {
      "text/plain": [
       "dict"
      ]
     },
     "execution_count": 14,
     "metadata": {},
     "output_type": "execute_result"
    }
   ],
   "source": [
    "type(d)"
   ]
  },
  {
   "cell_type": "code",
   "execution_count": 15,
   "id": "252ed1b3-94de-4989-82f0-eb1c6cb1f175",
   "metadata": {},
   "outputs": [
    {
     "ename": "KeyError",
     "evalue": "'e'",
     "output_type": "error",
     "traceback": [
      "\u001b[1;31m---------------------------------------------------------------------------\u001b[0m",
      "\u001b[1;31mKeyError\u001b[0m                                  Traceback (most recent call last)",
      "\u001b[1;32m~\\AppData\\Local\\Temp/ipykernel_19936/738869560.py\u001b[0m in \u001b[0;36m<module>\u001b[1;34m\u001b[0m\n\u001b[0;32m      1\u001b[0m \u001b[0md\u001b[0m\u001b[1;33m=\u001b[0m\u001b[1;33m{\u001b[0m\u001b[1;34m'a'\u001b[0m\u001b[1;33m:\u001b[0m\u001b[1;36m64\u001b[0m\u001b[1;33m,\u001b[0m \u001b[1;34m'b'\u001b[0m\u001b[1;33m:\u001b[0m\u001b[1;36m65\u001b[0m\u001b[1;33m,\u001b[0m \u001b[1;34m'c'\u001b[0m\u001b[1;33m:\u001b[0m\u001b[1;36m66\u001b[0m\u001b[1;33m,\u001b[0m \u001b[1;34m'd'\u001b[0m\u001b[1;33m:\u001b[0m\u001b[1;36m67\u001b[0m\u001b[1;33m}\u001b[0m\u001b[1;33m\u001b[0m\u001b[1;33m\u001b[0m\u001b[0m\n\u001b[1;32m----> 2\u001b[1;33m \u001b[0mprint\u001b[0m\u001b[1;33m(\u001b[0m\u001b[0md\u001b[0m\u001b[1;33m[\u001b[0m\u001b[1;34m'e'\u001b[0m\u001b[1;33m]\u001b[0m\u001b[1;33m)\u001b[0m\u001b[1;33m\u001b[0m\u001b[1;33m\u001b[0m\u001b[0m\n\u001b[0m",
      "\u001b[1;31mKeyError\u001b[0m: 'e'"
     ]
    }
   ],
   "source": [
    "d={'a':64, 'b':65, 'c':66, 'd':67}\n",
    "print(d['e'])"
   ]
  },
  {
   "cell_type": "code",
   "execution_count": 16,
   "id": "193d769a-b18f-445c-bebc-6e799a97c198",
   "metadata": {},
   "outputs": [
    {
     "name": "stdout",
     "output_type": "stream",
     "text": [
      "dict_keys(['a', 'b', 'c', 'd'])\n"
     ]
    }
   ],
   "source": [
    "d={'a':64, 'b':65, 'c':66, 'd':67}\n",
    "print(d.keys())"
   ]
  },
  {
   "cell_type": "code",
   "execution_count": 37,
   "id": "cfe0b5d4-9e2c-4558-ae63-def5c4b50a9a",
   "metadata": {},
   "outputs": [
    {
     "data": {
      "text/plain": [
       "{'Python': 40}"
      ]
     },
     "execution_count": 37,
     "metadata": {},
     "output_type": "execute_result"
    }
   ],
   "source": [
    "dict_1 = {'Python':40, 'R':45}\n",
    "del dict_1['R']\n",
    "dict_1"
   ]
  },
  {
   "cell_type": "code",
   "execution_count": 25,
   "id": "f17fed56-a1f3-438f-9d0f-71c3564bb18a",
   "metadata": {},
   "outputs": [
    {
     "ename": "SyntaxError",
     "evalue": "invalid syntax (Temp/ipykernel_19936/512617723.py, line 1)",
     "output_type": "error",
     "traceback": [
      "\u001b[1;36m  File \u001b[1;32m\"C:\\Users\\dukav\\AppData\\Local\\Temp/ipykernel_19936/512617723.py\"\u001b[1;36m, line \u001b[1;32m1\u001b[0m\n\u001b[1;33m    dict_1.delete('R':45)\u001b[0m\n\u001b[1;37m                     ^\u001b[0m\n\u001b[1;31mSyntaxError\u001b[0m\u001b[1;31m:\u001b[0m invalid syntax\n"
     ]
    }
   ],
   "source": [
    "dict_1.delete('R':45)"
   ]
  },
  {
   "cell_type": "code",
   "execution_count": 52,
   "id": "39de76e6-053d-4712-b529-f92251695f08",
   "metadata": {},
   "outputs": [
    {
     "name": "stdout",
     "output_type": "stream",
     "text": [
      "[8, 9, 2, 3, 4, 5]\n"
     ]
    }
   ],
   "source": [
    "l = [8, 9, 2, 2, 3, 4, 5, 2]\n",
    "l2 = []\n",
    "for x in l:\n",
    "    if x not in l2:\n",
    "        l2.append(x)\n",
    "print(l2)        "
   ]
  },
  {
   "cell_type": "code",
   "execution_count": 62,
   "id": "c65c48c2-dd1b-4cad-85ca-c72f03f19904",
   "metadata": {},
   "outputs": [
    {
     "name": "stdout",
     "output_type": "stream",
     "text": [
      "['Mobile_Redmi', 'Mobile_Samsung', 'Mobile_Realme', 'Laptop_Dell', 'Laptop_HP', 'TV_Videocon', 'TV_Sony']\n"
     ]
    }
   ],
   "source": [
    "# Dictionary and List\n",
    "\n",
    "dict_1 = {'Mobile': ['Redmi', 'Samsung', 'Realme'], 'Laptop': ['Dell', 'HP'],\n",
    "'TV': ['Videocon', 'Sony'] }\n",
    "l2=[]\n",
    "for k in dict_1:\n",
    "    i = len(dict_1[k])\n",
    "    for j in range(i):\n",
    "        l2.append(k+'_'+dict_1[k][j])\n",
    "print(l2)\n",
    "    \n",
    "\n"
   ]
  },
  {
   "cell_type": "code",
   "execution_count": 79,
   "id": "693a77f6-7b57-43de-afc9-e19f312fcfde",
   "metadata": {},
   "outputs": [
    {
     "name": "stdout",
     "output_type": "stream",
     "text": [
      "True\n"
     ]
    }
   ],
   "source": [
    "# Upgrad String\n",
    "\n",
    "#   $yrr$ssrsr\n",
    "\n",
    "dict_1 = {}\n",
    "string1 = 'ab#ab#ab6a'\n",
    "for x in string1:\n",
    "    dict_1[x] = string1.count(x)\n",
    "l = sorted(dict_1.values())\n",
    "\n",
    "def upgradstr(l):\n",
    "    k = len(l)\n",
    "    sum1 = (k*(k+1))/2\n",
    "    if sum1 == sum(l):\n",
    "        return True\n",
    "    else:\n",
    "        return False\n",
    "\n",
    "print(upgradstr(l))"
   ]
  },
  {
   "cell_type": "code",
   "execution_count": 91,
   "id": "aa171fed-9890-4e0e-90e6-89555d64dfa6",
   "metadata": {},
   "outputs": [
    {
     "name": "stdout",
     "output_type": "stream",
     "text": [
      "[1, 1, 2, 2, 2, 4]\n",
      "[1, 2, 2]\n",
      "[1, 2, 4]\n",
      "No\n"
     ]
    }
   ],
   "source": [
    "# Balanced Brackets\n",
    "\n",
    "string1 = '){[[]]}())()'\n",
    "dict_1 = {}\n",
    "for x in string1:\n",
    "    if x not in dict_1:\n",
    "        dict_1[x] = 1\n",
    "    else:\n",
    "        dict_1[x] = dict_1[x]+1\n",
    "l2 = sorted(dict_1.values())\n",
    "k = len(l2) \n",
    "if l2[0::2] == l2[1::2]:\n",
    "    print('Yes')\n",
    "else:\n",
    "    print('No')"
   ]
  },
  {
   "cell_type": "code",
   "execution_count": null,
   "id": "99fc4afe-4754-450f-8702-357acf5c7f3a",
   "metadata": {},
   "outputs": [],
   "source": []
  }
 ],
 "metadata": {
  "kernelspec": {
   "display_name": "Python 3 (ipykernel)",
   "language": "python",
   "name": "python3"
  },
  "language_info": {
   "codemirror_mode": {
    "name": "ipython",
    "version": 3
   },
   "file_extension": ".py",
   "mimetype": "text/x-python",
   "name": "python",
   "nbconvert_exporter": "python",
   "pygments_lexer": "ipython3",
   "version": "3.8.12"
  }
 },
 "nbformat": 4,
 "nbformat_minor": 5
}
