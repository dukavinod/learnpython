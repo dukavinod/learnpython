{
 "cells": [
  {
   "cell_type": "code",
   "execution_count": 6,
   "id": "952e2ea2-f647-4b0f-8789-9d9cf2776635",
   "metadata": {},
   "outputs": [
    {
     "name": "stdout",
     "output_type": "stream",
     "text": [
      "['ad', 'ae', 'af', 'bd', 'be', 'bf', 'cd', 'ce', 'cf']\n"
     ]
    }
   ],
   "source": [
    "print([i+j for i in \"abc\" for j in \"def\"])"
   ]
  },
  {
   "cell_type": "code",
   "execution_count": 15,
   "id": "0ce3dc44-6ac0-4d67-9efd-621dbbcac41d",
   "metadata": {},
   "outputs": [
    {
     "name": "stdout",
     "output_type": "stream",
     "text": [
      "['Santa Cruz', 'Santa fe']\n"
     ]
    }
   ],
   "source": [
    "input_list = ['Santa Cruz','Santa fe','Mumbai','Delhi']\n",
    "\n",
    "l1 = list(filter(lambda x : x.startswith('S'),input_list))\n"
   ]
  },
  {
   "cell_type": "code",
   "execution_count": 19,
   "id": "893a883d-7aa6-4077-bac1-b2e1d64ff91f",
   "metadata": {},
   "outputs": [
    {
     "name": "stdout",
     "output_type": "stream",
     "text": [
      "[('Ankur', 'Narang'), ('Avik', 'Sarkar'), ('Kiran', 'R'), ('Nitin', 'Sareen')]\n",
      "Ankur Narang\n",
      "Avik Sarkar\n",
      "Kiran R\n",
      "Nitin Sareen\n"
     ]
    }
   ],
   "source": [
    "input_list = [ ['Ankur', 'Avik', 'Kiran', 'Nitin'], ['Narang', 'Sarkar', 'R', 'Sareen']]\n",
    "first_name = input_list[0]\n",
    "last_name = input_list[1]\n",
    "l1 = list(zip(first_name,last_name))\n",
    "print(l1)\n",
    "\n",
    "for x,y in zip(first_name,last_name):\n",
    "    print(x,y)"
   ]
  },
  {
   "cell_type": "code",
   "execution_count": 7,
   "id": "39b71419-f22f-4336-98b7-a10c7037b6f6",
   "metadata": {},
   "outputs": [
    {
     "name": "stdout",
     "output_type": "stream",
     "text": [
      "{'A': 'aaa', 'C': 'ccc', 'B': 'bbb', 'D': 'ddd'}\n"
     ]
    }
   ],
   "source": [
    "d = {x.upper(): x*3 for x in 'acbd'}\n",
    "print(d)"
   ]
  },
  {
   "cell_type": "code",
   "execution_count": 23,
   "id": "28f04765-fd0c-46e7-9597-b4db9bcb6a24",
   "metadata": {},
   "outputs": [
    {
     "name": "stdout",
     "output_type": "stream",
     "text": [
      "['Ankur Narang', 'Avik Sarkar', 'Kiran R', 'Nitin Sareen']\n"
     ]
    }
   ],
   "source": [
    "input_list = [ ['Ankur', 'Avik', 'Kiran', 'Nitin'], ['Narang', 'Sarkar', 'R', 'Sareen']]\n",
    "first_name = input_list[0]\n",
    "last_name = input_list[1]\n",
    "name = list(map(lambda x : x[0]+' '+ x[1], zip(first_name,last_name)))\n",
    "print(name)"
   ]
  },
  {
   "cell_type": "code",
   "execution_count": 12,
   "id": "35ad5428-a428-4f40-9e69-73d878b6a1d5",
   "metadata": {},
   "outputs": [
    {
     "data": {
      "text/plain": [
       "[5, 12, 15, 24, 25, 36, 35, 48, 45, 60]"
      ]
     },
     "execution_count": 12,
     "metadata": {},
     "output_type": "execute_result"
    }
   ],
   "source": [
    "[n*6 if n%2==0 else n*5 for n in range(1,11)]"
   ]
  },
  {
   "cell_type": "code",
   "execution_count": 24,
   "id": "7a0aba6c-1c7f-46e9-a5a8-768155c21252",
   "metadata": {},
   "outputs": [
    {
     "data": {
      "text/plain": [
       "[5, 6, 7, 10, 6, 7, 8, 11, 7, 8, 9, 12, 11, 12, 13, 16]"
      ]
     },
     "execution_count": 24,
     "metadata": {},
     "output_type": "execute_result"
    }
   ],
   "source": [
    "l1=[1,2,3,7]\n",
    "l2=[4,5,6,9]\n",
    "[x+y for x in l1 for y in l2]"
   ]
  },
  {
   "cell_type": "code",
   "execution_count": 1,
   "id": "44f8a756-55d7-4abe-920e-96ad116d35cf",
   "metadata": {},
   "outputs": [],
   "source": [
    "list1= [i*j for i in range(1,4) for j in range(1,11) ]"
   ]
  },
  {
   "cell_type": "code",
   "execution_count": 25,
   "id": "3f806010-0e4c-4af8-b3e6-212099126e24",
   "metadata": {},
   "outputs": [
    {
     "name": "stdout",
     "output_type": "stream",
     "text": [
      "None\n"
     ]
    }
   ],
   "source": [
    "def function(n):\n",
    "  n=n+1\n",
    " \n",
    "n=2\n",
    "print(function(2))"
   ]
  },
  {
   "cell_type": "code",
   "execution_count": 2,
   "id": "21f91b0a-668d-4a4d-a61a-cb9254d26744",
   "metadata": {},
   "outputs": [],
   "source": [
    "tuple1 = (1,2,3,[1,2,3,4])"
   ]
  },
  {
   "cell_type": "code",
   "execution_count": 26,
   "id": "2e98b44d-c609-43f5-95c0-79f9e0c2e220",
   "metadata": {},
   "outputs": [
    {
     "name": "stdout",
     "output_type": "stream",
     "text": [
      "pythonpythonpythonpython\n",
      "programprogramprogram\n"
     ]
    }
   ],
   "source": [
    "def samplefunc(msg,i=3):\n",
    "  print(msg*i)\n",
    " \n",
    "samplefunc('python',4)\n",
    "samplefunc('program')"
   ]
  },
  {
   "cell_type": "code",
   "execution_count": 5,
   "id": "273785dd-388e-4ad6-b232-4f4238eebf9b",
   "metadata": {},
   "outputs": [],
   "source": [
    "tuple1[3].extend([3,4])"
   ]
  },
  {
   "cell_type": "code",
   "execution_count": 33,
   "id": "0ab4aa5d-b91c-4193-bc7e-3fe51a69e046",
   "metadata": {},
   "outputs": [
    {
     "data": {
      "text/plain": [
       "0"
      ]
     },
     "execution_count": 33,
     "metadata": {},
     "output_type": "execute_result"
    }
   ],
   "source": [
    "True*False"
   ]
  },
  {
   "cell_type": "code",
   "execution_count": 34,
   "id": "ea9c316e-7c47-4885-b57a-29feb6026b79",
   "metadata": {},
   "outputs": [
    {
     "name": "stdout",
     "output_type": "stream",
     "text": [
      "<map object at 0x000001B3096EF0D0>\n"
     ]
    }
   ],
   "source": [
    "sample=[-4,2,5,-3]\n",
    "ans=map(lambda x: x*2, sample)\n",
    "print(ans)"
   ]
  },
  {
   "cell_type": "code",
   "execution_count": 6,
   "id": "4fbd62b6-6f1f-4e0e-b7c3-9195d77f3df3",
   "metadata": {},
   "outputs": [
    {
     "data": {
      "text/plain": [
       "(1, 2, 3, [1, 2, 3, 4, 3, 4])"
      ]
     },
     "execution_count": 6,
     "metadata": {},
     "output_type": "execute_result"
    }
   ],
   "source": [
    "tuple1"
   ]
  },
  {
   "cell_type": "code",
   "execution_count": 38,
   "id": "105a1bf2-51aa-47e9-b841-db07439418db",
   "metadata": {},
   "outputs": [
    {
     "name": "stdout",
     "output_type": "stream",
     "text": [
      "95\n"
     ]
    }
   ],
   "source": [
    "from functools import reduce\n",
    "list1 = reduce(lambda x,y:x+y,range(5,15))\n",
    "print(list1)"
   ]
  },
  {
   "cell_type": "code",
   "execution_count": 14,
   "id": "346a5cd5-b8db-46b7-9344-b81f748229c8",
   "metadata": {},
   "outputs": [],
   "source": [
    "tuple1 = tuple1 + tuple('Hello',)"
   ]
  },
  {
   "cell_type": "code",
   "execution_count": 48,
   "id": "d68f8b6a-3dc0-4aa3-a7d1-f5e833c8cf56",
   "metadata": {},
   "outputs": [
    {
     "name": "stdout",
     "output_type": "stream",
     "text": [
      "['dx', 'ix', 'ax', 'sx']\n"
     ]
    }
   ],
   "source": [
    "letters = ('d','i','a','s')\n",
    "ans = list(map(lambda word: f\"{word}x\", letters))\n",
    "print(ans)"
   ]
  },
  {
   "cell_type": "code",
   "execution_count": 47,
   "id": "c7826449-a7ae-4c6a-932f-d1d8f7b415a3",
   "metadata": {},
   "outputs": [
    {
     "name": "stdout",
     "output_type": "stream",
     "text": [
      "[0, 1, 2, 3]\n"
     ]
    }
   ],
   "source": [
    "print(list(range(4)))"
   ]
  },
  {
   "cell_type": "code",
   "execution_count": 56,
   "id": "1f125981-6d52-466a-9730-f8ce842eb47b",
   "metadata": {},
   "outputs": [
    {
     "data": {
      "text/plain": [
       "False"
      ]
     },
     "execution_count": 56,
     "metadata": {},
     "output_type": "execute_result"
    }
   ],
   "source": [
    "False and True "
   ]
  },
  {
   "cell_type": "code",
   "execution_count": 2,
   "id": "2c07beef-391e-450c-ad1b-15755cf4b6b3",
   "metadata": {},
   "outputs": [],
   "source": [
    "numbers = [x for x in range(1,16)]"
   ]
  },
  {
   "cell_type": "code",
   "execution_count": 62,
   "id": "98cc02dc-35d9-4759-b166-05390a7ae28d",
   "metadata": {},
   "outputs": [
    {
     "name": "stdout",
     "output_type": "stream",
     "text": [
      "['ABHAY', 'ARAVIND', 'DESILVA', 'DARPAN']\n",
      "['YAHBA', 'DNIVARA', 'AVLISED', 'NAPRAD']\n"
     ]
    }
   ],
   "source": [
    "input_list = ['Abhay', 'Aravind', 'Desilva', 'Darpan']\n",
    "upper_list = list(map(lambda x : x.upper(),input_list))\n",
    "print(upper_list)\n",
    "capitalreverse = list(map(lambda y: y[::-1], upper_list))\n",
    "print(capitalreverse)"
   ]
  },
  {
   "cell_type": "code",
   "execution_count": 129,
   "id": "bd487413-349a-48fb-bae5-28427e19fee0",
   "metadata": {},
   "outputs": [
    {
     "name": "stdout",
     "output_type": "stream",
     "text": [
      "Arpit\n",
      "Manjeet\n",
      "Aravind\n"
     ]
    }
   ],
   "source": [
    "sample_input = [{ \"name\" : \"Arpit\", \"rank\" : 20}, { \"name\" : \"Manjeet\", \"rank\" : 20 },{ \"name\" : \"Aravind\" , \"rank\" : 19 }]\n",
    "\n",
    "for x in sample_input:\n",
    "    print(x['name'])\n",
    "\n",
    "    \n"
   ]
  },
  {
   "cell_type": "code",
   "execution_count": 3,
   "id": "dadd1c27-6ef7-46da-a882-36a1c8c0746e",
   "metadata": {},
   "outputs": [],
   "source": [
    "filterednumbers = list(filter(lambda x : x%2==0,numbers))"
   ]
  },
  {
   "cell_type": "code",
   "execution_count": 4,
   "id": "c90d385e-ad97-4003-b2c8-4e30eea73969",
   "metadata": {},
   "outputs": [
    {
     "data": {
      "text/plain": [
       "[2, 4, 6, 8, 10, 12, 14]"
      ]
     },
     "execution_count": 4,
     "metadata": {},
     "output_type": "execute_result"
    }
   ],
   "source": [
    "filterednumbers"
   ]
  },
  {
   "cell_type": "code",
   "execution_count": 6,
   "id": "ce53910d-f690-4c95-b55f-8f49a3177ad2",
   "metadata": {},
   "outputs": [],
   "source": [
    "squareofnumbers = list(map(lambda x: x**2,numbers))"
   ]
  },
  {
   "cell_type": "code",
   "execution_count": 7,
   "id": "ab4b123c-aa99-4b4d-88fc-e88c3c837944",
   "metadata": {},
   "outputs": [
    {
     "data": {
      "text/plain": [
       "[1, 4, 9, 16, 25, 36, 49, 64, 81, 100, 121, 144, 169, 196, 225]"
      ]
     },
     "execution_count": 7,
     "metadata": {},
     "output_type": "execute_result"
    }
   ],
   "source": [
    "squareofnumbers"
   ]
  },
  {
   "cell_type": "code",
   "execution_count": 10,
   "id": "a4891593-0ed6-4da1-ba3d-1bf07c0b0201",
   "metadata": {},
   "outputs": [],
   "source": [
    "squareofevennumbers = list(map(lambda x: x**2,filter(lambda x : x%2==0,numbers)))"
   ]
  },
  {
   "cell_type": "code",
   "execution_count": 11,
   "id": "f960bd20-5adf-40ac-8063-59ed3cd2dc4a",
   "metadata": {},
   "outputs": [
    {
     "data": {
      "text/plain": [
       "[4, 16, 36, 64, 100, 144, 196]"
      ]
     },
     "execution_count": 11,
     "metadata": {},
     "output_type": "execute_result"
    }
   ],
   "source": [
    "squareofevennumbers"
   ]
  },
  {
   "cell_type": "code",
   "execution_count": 17,
   "id": "e3487518-d6cf-4011-a713-c3538351ba0c",
   "metadata": {},
   "outputs": [
    {
     "ename": "TypeError",
     "evalue": "func() missing 1 required positional argument: 'y'",
     "output_type": "error",
     "traceback": [
      "\u001b[1;31m---------------------------------------------------------------------------\u001b[0m",
      "\u001b[1;31mTypeError\u001b[0m                                 Traceback (most recent call last)",
      "\u001b[1;32m~\\AppData\\Local\\Temp/ipykernel_4036/1890104494.py\u001b[0m in \u001b[0;36m<module>\u001b[1;34m\u001b[0m\n\u001b[0;32m      2\u001b[0m     \u001b[0mz\u001b[0m \u001b[1;33m=\u001b[0m \u001b[0mx\u001b[0m \u001b[1;33m*\u001b[0m \u001b[0my\u001b[0m \u001b[1;33m+\u001b[0m \u001b[0mx\u001b[0m \u001b[1;33m+\u001b[0m \u001b[0my\u001b[0m\u001b[1;33m\u001b[0m\u001b[1;33m\u001b[0m\u001b[0m\n\u001b[0;32m      3\u001b[0m \u001b[1;33m\u001b[0m\u001b[0m\n\u001b[1;32m----> 4\u001b[1;33m \u001b[0mfunc\u001b[0m\u001b[1;33m(\u001b[0m\u001b[1;36m2\u001b[0m\u001b[1;33m)\u001b[0m\u001b[1;33m\u001b[0m\u001b[1;33m\u001b[0m\u001b[0m\n\u001b[0m",
      "\u001b[1;31mTypeError\u001b[0m: func() missing 1 required positional argument: 'y'"
     ]
    }
   ],
   "source": [
    "def func(x, y):\n",
    "    z = x * y + x + y\n",
    "\n",
    "func(2)\n"
   ]
  },
  {
   "cell_type": "code",
   "execution_count": null,
   "id": "5dd453d3-91dc-4f7d-9a70-95d4a563142c",
   "metadata": {},
   "outputs": [],
   "source": [
    "input_list = ast.literal_eval(input_str)\n",
    "x = int(input_list[0])\n",
    "y = int(input_list[1])\n",
    "def squared(x,y):\n",
    "    return x**y\n",
    "#Write your code here\n",
    "\n",
    "print(squared(x,y))"
   ]
  }
 ],
 "metadata": {
  "kernelspec": {
   "display_name": "Python 3 (ipykernel)",
   "language": "python",
   "name": "python3"
  },
  "language_info": {
   "codemirror_mode": {
    "name": "ipython",
    "version": 3
   },
   "file_extension": ".py",
   "mimetype": "text/x-python",
   "name": "python",
   "nbconvert_exporter": "python",
   "pygments_lexer": "ipython3",
   "version": "3.8.12"
  }
 },
 "nbformat": 4,
 "nbformat_minor": 5
}
