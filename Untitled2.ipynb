{
 "cells": [
  {
   "cell_type": "code",
   "execution_count": 5,
   "id": "e061aa33-6861-449a-9fda-84a87791d297",
   "metadata": {},
   "outputs": [
    {
     "ename": "SyntaxError",
     "evalue": "cannot assign to literal (Temp/ipykernel_19036/3818943706.py, line 2)",
     "output_type": "error",
     "traceback": [
      "\u001b[1;36m  File \u001b[1;32m\"C:\\Users\\dukav\\AppData\\Local\\Temp/ipykernel_19036/3818943706.py\"\u001b[1;36m, line \u001b[1;32m2\u001b[0m\n\u001b[1;33m    89=90\u001b[0m\n\u001b[1;37m    ^\u001b[0m\n\u001b[1;31mSyntaxError\u001b[0m\u001b[1;31m:\u001b[0m cannot assign to literal\n"
     ]
    }
   ],
   "source": [
    "name=\"HELLO\"\n",
    "age=90\n",
    "height=6.7\n",
    "isINDIAN= FAT"
   ]
  },
  {
   "cell_type": "code",
   "execution_count": 36,
   "id": "0362ad6d-58cb-4cd1-81e1-cb76dfa16088",
   "metadata": {},
   "outputs": [
    {
     "name": "stdout",
     "output_type": "stream",
     "text": [
      "prgramming\n"
     ]
    }
   ],
   "source": [
    "def remove_vowel(string):\n",
    "    #new_string=''  \n",
    "    vowels = 'aeiouAEIOU'   \n",
    "    for x in string:  \n",
    "        if x in vowels:\n",
    "            new_string=''\n",
    "            new_string=string.replace(x,'')\n",
    "            break\n",
    "    return new_string\n",
    "string = 'programming'\n",
    "print(remove_vowel(string))"
   ]
  },
  {
   "cell_type": "code",
   "execution_count": 33,
   "id": "0e5c4ccc-8623-42f6-9e27-8109648e3edb",
   "metadata": {},
   "outputs": [
    {
     "name": "stdout",
     "output_type": "stream",
     "text": [
      "prgrmmng\n"
     ]
    }
   ],
   "source": [
    "def remove_vowel(c):\n",
    "    \n",
    "    new_string = ''\n",
    "    vowels = 'aeiouAEIOU' \n",
    "    for x in sentence:\n",
    "        if x in vowels:\n",
    "            new_string = c.replace(x,'')\n",
    "            c = new_string\n",
    "    return c\n",
    "        \n",
    "sentence = c = 'programming'       \n",
    "print(remove_vowel(c))\n",
    "\n",
    "       \n",
    "       \n"
   ]
  },
  {
   "cell_type": "code",
   "execution_count": 1,
   "id": "497d5483-995a-4376-9692-8e69f7ad3497",
   "metadata": {},
   "outputs": [
    {
     "name": "stdin",
     "output_type": "stream",
     "text": [
      " the\n"
     ]
    },
    {
     "name": "stdout",
     "output_type": "stream",
     "text": [
      "th\n"
     ]
    }
   ],
   "source": [
    "s=input()\n",
    "\n",
    "s=  str(s)\n",
    "remove = [\"a\",'e','i','o','u','A','E','I', 'O', 'U']\n",
    "\n",
    "for character in remove :\n",
    "    s = s.replace(character,\"\")\n",
    "print(s)   "
   ]
  },
  {
   "cell_type": "code",
   "execution_count": 30,
   "id": "aebb044c-d7dc-462d-8dc0-a77b795ecef4",
   "metadata": {},
   "outputs": [
    {
     "name": "stdin",
     "output_type": "stream",
     "text": [
      " programming\n"
     ]
    },
    {
     "name": "stdout",
     "output_type": "stream",
     "text": [
      "prgrmmng\n"
     ]
    }
   ],
   "source": [
    "s=input()\n",
    "\n",
    "s=  str(s)\n",
    "remove = [\"a\",'e','i','o','u','A','E','I', 'O', 'U']\n",
    "\n",
    "for character in remove :\n",
    "    s = s.replace(character,\"\")\n",
    "print(s)  "
   ]
  },
  {
   "cell_type": "code",
   "execution_count": 24,
   "id": "2c197ea8-24db-418d-b3a6-a08fb3c216f3",
   "metadata": {},
   "outputs": [
    {
     "name": "stdin",
     "output_type": "stream",
     "text": [
      " hello world\n"
     ]
    },
    {
     "data": {
      "text/plain": [
       "'HelloWorld'"
      ]
     },
     "execution_count": 24,
     "metadata": {},
     "output_type": "execute_result"
    }
   ],
   "source": [
    "list_1 = []\n",
    "def sentence(c):\n",
    "    string = ''\n",
    "    z = ''\n",
    "    splitted_sentence = c.split()\n",
    "    for x in splitted_sentence:\n",
    "        new_word = x.capitalize()\n",
    "        z += new_word\n",
    "    return z\n",
    "sentence(input())\n",
    "\n"
   ]
  },
  {
   "cell_type": "code",
   "execution_count": 3,
   "id": "136b825a-52e9-4bf0-90db-d0ee5a7048f6",
   "metadata": {},
   "outputs": [
    {
     "name": "stdin",
     "output_type": "stream",
     "text": [
      " hello hyderabad\n"
     ]
    },
    {
     "name": "stdout",
     "output_type": "stream",
     "text": [
      "Hello hyderabad\n"
     ]
    }
   ],
   "source": [
    "\n",
    "def solve(s):\n",
    "    s = s.capitalize()\n",
    "    return s\n",
    "\n",
    "print(solve(input()))\n"
   ]
  },
  {
   "cell_type": "code",
   "execution_count": 2,
   "id": "0cb8ebae-c499-41f4-82c1-d349ca274798",
   "metadata": {},
   "outputs": [
    {
     "name": "stdin",
     "output_type": "stream",
     "text": [
      " hello hyderbad\n"
     ]
    },
    {
     "name": "stdout",
     "output_type": "stream",
     "text": [
      "Hello Hyderbad\n"
     ]
    }
   ],
   "source": [
    "def solve(s):\n",
    "    s = s.title()\n",
    "    return s\n",
    "\n",
    "print(solve(input()))"
   ]
  },
  {
   "cell_type": "code",
   "execution_count": 63,
   "id": "0e40907b-ef40-4f3b-a2e5-ca9c387d8fdf",
   "metadata": {},
   "outputs": [
    {
     "data": {
      "text/plain": [
       "[]"
      ]
     },
     "execution_count": 63,
     "metadata": {},
     "output_type": "execute_result"
    }
   ],
   "source": [
    "list_1 = ['orange','mango','grapes']\n",
    "list_1.\n",
    "list_1"
   ]
  },
  {
   "cell_type": "code",
   "execution_count": 38,
   "id": "f927523e-12ac-46ef-a53b-ceaa1a63fcc6",
   "metadata": {},
   "outputs": [
    {
     "name": "stdin",
     "output_type": "stream",
     "text": [
      " vinod kumar\n"
     ]
    },
    {
     "name": "stdout",
     "output_type": "stream",
     "text": [
      "V\n",
      "I\n",
      "N\n",
      "O\n",
      "D\n",
      " \n",
      "K\n",
      "U\n",
      "M\n",
      "A\n",
      "R\n"
     ]
    },
    {
     "data": {
      "text/plain": [
       "'VINOD KUMAR'"
      ]
     },
     "execution_count": 38,
     "metadata": {},
     "output_type": "execute_result"
    }
   ],
   "source": [
    "\n",
    "def solve(k):\n",
    "    z = ''\n",
    "    for x in k:\n",
    "        y = x.capitalize()\n",
    "        print(y)\n",
    "        z = z+y\n",
    "    return z.rstrip('')\n",
    "\n",
    "\n",
    "solve(input())\n",
    "        \n",
    "    \n",
    "    "
   ]
  },
  {
   "cell_type": "code",
   "execution_count": null,
   "id": "58c8fe7f-ca47-47be-aec6-ac92dd3cb535",
   "metadata": {},
   "outputs": [],
   "source": [
    "append\n",
    "add\n",
    "count\n",
    "clear\n",
    "copy\n",
    "del\n",
    "extend\n",
    "index\n",
    "insert\n",
    "pop\n",
    "remove\n",
    "sorted\n",
    "sort\n",
    "\n",
    "##manipulations:\n",
    "    \n",
    "slicing\n",
    "membership\n",
    "concatenation\n",
    "replace\n",
    "\n",
    "\n"
   ]
  },
  {
   "cell_type": "code",
   "execution_count": 64,
   "id": "64f25e37-4ee4-474f-8256-7899d3d768a3",
   "metadata": {},
   "outputs": [
    {
     "data": {
      "text/plain": [
       "'s'"
      ]
     },
     "execution_count": 64,
     "metadata": {},
     "output_type": "execute_result"
    }
   ],
   "source": [
    "t = (\"disco\", 12, 4.5)\n",
    "t[0][2]"
   ]
  },
  {
   "cell_type": "code",
   "execution_count": 86,
   "id": "a784ea24-5612-48f3-b3f1-e2f82b02c047",
   "metadata": {},
   "outputs": [
    {
     "name": "stdout",
     "output_type": "stream",
     "text": [
      "(2,)\n"
     ]
    }
   ],
   "source": [
    "t = (1, 2, 4, 3)\n",
    "print(t[1:-2])"
   ]
  },
  {
   "cell_type": "code",
   "execution_count": 89,
   "id": "1c047e19-5021-4a7c-a30d-e8d4ab92d895",
   "metadata": {},
   "outputs": [
    {
     "data": {
      "text/plain": [
       "tuple"
      ]
     },
     "execution_count": 89,
     "metadata": {},
     "output_type": "execute_result"
    }
   ],
   "source": [
    "x = ('2',)\n",
    "type(x)"
   ]
  },
  {
   "cell_type": "code",
   "execution_count": 91,
   "id": "512d78d0-8aaa-4928-b723-d66d8da70a8c",
   "metadata": {},
   "outputs": [
    {
     "data": {
      "text/plain": [
       "tuple"
      ]
     },
     "execution_count": 91,
     "metadata": {},
     "output_type": "execute_result"
    }
   ],
   "source": [
    "x = 1,2,\n",
    "type(x)"
   ]
  },
  {
   "cell_type": "code",
   "execution_count": 93,
   "id": "a4e49f68-5c88-4fd6-a035-ea26f7fd5bcd",
   "metadata": {},
   "outputs": [
    {
     "data": {
      "text/plain": [
       "tuple"
      ]
     },
     "execution_count": 93,
     "metadata": {},
     "output_type": "execute_result"
    }
   ],
   "source": [
    "x = ((1,2,3), 4,5)\n",
    "type(x)"
   ]
  },
  {
   "cell_type": "code",
   "execution_count": 96,
   "id": "41ebd6d2-3e7d-4230-9592-60052f68957c",
   "metadata": {},
   "outputs": [
    {
     "data": {
      "text/plain": [
       "4"
      ]
     },
     "execution_count": 96,
     "metadata": {},
     "output_type": "execute_result"
    }
   ],
   "source": [
    "nums = set([1,1,2,3,3,3,4])\n",
    "len(nums)"
   ]
  },
  {
   "cell_type": "code",
   "execution_count": null,
   "id": "dc728fbd-b069-4563-bdd2-fa7b4aa69cf2",
   "metadata": {},
   "outputs": [],
   "source": []
  }
 ],
 "metadata": {
  "kernelspec": {
   "display_name": "Python 3 (ipykernel)",
   "language": "python",
   "name": "python3"
  },
  "language_info": {
   "codemirror_mode": {
    "name": "ipython",
    "version": 3
   },
   "file_extension": ".py",
   "mimetype": "text/x-python",
   "name": "python",
   "nbconvert_exporter": "python",
   "pygments_lexer": "ipython3",
   "version": "3.8.12"
  }
 },
 "nbformat": 4,
 "nbformat_minor": 5
}
