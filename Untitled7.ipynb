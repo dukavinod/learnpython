{
 "cells": [
  {
   "cell_type": "code",
   "execution_count": 96,
   "id": "e924a778-b414-412a-9be5-f3675b28814c",
   "metadata": {},
   "outputs": [
    {
     "data": {
      "text/plain": [
       "{(1, 3), (6, 14), 1, 1.5, 2, 3, 4, 5, 'harry'}"
      ]
     },
     "execution_count": 96,
     "metadata": {},
     "output_type": "execute_result"
    }
   ],
   "source": [
    "l = set([1,3,2,4,5,5,\"harry\",(1,3),1.5,tuple([6,14])])\n",
    "l"
   ]
  },
  {
   "cell_type": "code",
   "execution_count": 142,
   "id": "faa32cf0-2eea-4064-a613-47df293098f1",
   "metadata": {},
   "outputs": [
    {
     "data": {
      "text/plain": [
       "140717741055776"
      ]
     },
     "execution_count": 142,
     "metadata": {},
     "output_type": "execute_result"
    }
   ],
   "source": [
    "id((2))"
   ]
  },
  {
   "cell_type": "code",
   "execution_count": 139,
   "id": "299b6f4f-7bd5-4de5-bad8-b7b333391c44",
   "metadata": {},
   "outputs": [
    {
     "data": {
      "text/plain": [
       "1635619656192"
      ]
     },
     "execution_count": 139,
     "metadata": {},
     "output_type": "execute_result"
    }
   ],
   "source": [
    "id([6,14])"
   ]
  },
  {
   "cell_type": "code",
   "execution_count": 138,
   "id": "22485ffa-7704-41e0-9862-857f587a56da",
   "metadata": {},
   "outputs": [
    {
     "data": {
      "text/plain": [
       "1635617994624"
      ]
     },
     "execution_count": 138,
     "metadata": {},
     "output_type": "execute_result"
    }
   ],
   "source": [
    "id((6,14))"
   ]
  },
  {
   "cell_type": "code",
   "execution_count": 92,
   "id": "340e6f99-9704-4354-9912-c6282fbdf360",
   "metadata": {},
   "outputs": [],
   "source": [
    "a = [6,14]"
   ]
  },
  {
   "cell_type": "code",
   "execution_count": 93,
   "id": "f0a8552c-caae-4f8b-a2ac-bb44ea04dc4a",
   "metadata": {},
   "outputs": [
    {
     "data": {
      "text/plain": [
       "1635618818176"
      ]
     },
     "execution_count": 93,
     "metadata": {},
     "output_type": "execute_result"
    }
   ],
   "source": [
    "id(a)"
   ]
  },
  {
   "cell_type": "code",
   "execution_count": 94,
   "id": "33a259e2-02cc-483c-825a-28a1fd5f27d5",
   "metadata": {},
   "outputs": [
    {
     "data": {
      "text/plain": [
       "1635617917568"
      ]
     },
     "execution_count": 94,
     "metadata": {},
     "output_type": "execute_result"
    }
   ],
   "source": [
    "id("
   ]
  },
  {
   "cell_type": "code",
   "execution_count": 95,
   "id": "6082a044-789b-4910-9ca5-52fc52482bee",
   "metadata": {},
   "outputs": [
    {
     "ename": "SyntaxError",
     "evalue": "invalid syntax (Temp/ipykernel_3380/823487876.py, line 1)",
     "output_type": "error",
     "traceback": [
      "\u001b[1;36m  File \u001b[1;32m\"C:\\Users\\dukav\\AppData\\Local\\Temp/ipykernel_3380/823487876.py\"\u001b[1;36m, line \u001b[1;32m1\u001b[0m\n\u001b[1;33m    inp = [1 2 3 4 5 6 7 8 9]\u001b[0m\n\u001b[1;37m             ^\u001b[0m\n\u001b[1;31mSyntaxError\u001b[0m\u001b[1;31m:\u001b[0m invalid syntax\n"
     ]
    }
   ],
   "source": [
    "inp = [1 2 3 4 5 6 7 8 9]"
   ]
  },
  {
   "cell_type": "code",
   "execution_count": null,
   "id": "6b44f15b-9611-44e5-af45-1ca4ac4a4cd2",
   "metadata": {},
   "outputs": [],
   "source": []
  }
 ],
 "metadata": {
  "kernelspec": {
   "display_name": "Python 3 (ipykernel)",
   "language": "python",
   "name": "python3"
  },
  "language_info": {
   "codemirror_mode": {
    "name": "ipython",
    "version": 3
   },
   "file_extension": ".py",
   "mimetype": "text/x-python",
   "name": "python",
   "nbconvert_exporter": "python",
   "pygments_lexer": "ipython3",
   "version": "3.8.12"
  }
 },
 "nbformat": 4,
 "nbformat_minor": 5
}
