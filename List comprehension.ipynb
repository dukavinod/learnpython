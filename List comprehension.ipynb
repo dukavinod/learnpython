{
 "cells": [
  {
   "cell_type": "code",
   "execution_count": 39,
   "id": "dabb89ac-a4f8-4d41-887f-8177c47ccb79",
   "metadata": {},
   "outputs": [
    {
     "name": "stdout",
     "output_type": "stream",
     "text": [
      "2\n"
     ]
    }
   ],
   "source": [
    "input_list = ['Santa Cruz','Santa fe','Mumbai','Delhi']\n",
    "new_list = list(map(lambda x : x[0:].startswith('S'),input_list))\n",
    "count=0\n",
    "for word in new_list:\n",
    "    if word == True:\n",
    "        count+=1\n",
    "print(count)\n",
    "\n",
    "\n",
    "\n"
   ]
  },
  {
   "cell_type": "code",
   "execution_count": 91,
   "id": "35a9d78b-2b57-4f7d-8be4-4b9f1e1af65a",
   "metadata": {},
   "outputs": [
    {
     "name": "stdout",
     "output_type": "stream",
     "text": [
      "['Ankur Narang', 'Avik Sarkar', 'Kiran R', 'Nitin Sareen']\n"
     ]
    }
   ],
   "source": [
    "input_list = [ ['Ankur', 'Avik', 'Kiran', 'Nitin'], ['Narang', 'Sarkar', 'R', 'Sareen']]\n",
    "first_name = input_list[0]\n",
    "last_name = input_list[1]\n",
    "name= list(map((lambda i,j : i+' '+j),first_name,last_name))\n",
    "print(name)\n",
    "\n"
   ]
  },
  {
   "cell_type": "code",
   "execution_count": 111,
   "id": "3822b8fe-805c-4f4d-99ae-53285e4d42d6",
   "metadata": {},
   "outputs": [],
   "source": [
    "input_list = [1, 2, 3, 4, 5, 6, 7, 8, 9, 10, 11, 12, 13, 14, 15, 16, 17, 18, 19, 20, 21, 22, 23, 24, 25, 26, 27, 28, 29, 30, 31, 32, 33, 34, 35, 36, 37, 38, 39, 40, 41, 42, 43, 44, 45, 46, 47, 48, 49, 50]"
   ]
  },
  {
   "cell_type": "code",
   "execution_count": 123,
   "id": "05a0360a-b5f5-42fa-87f1-a282d6d0570a",
   "metadata": {},
   "outputs": [
    {
     "data": {
      "text/plain": [
       "[5, 10, 15, 20, 25, 30, 35, 40, 45, 50]"
      ]
     },
     "execution_count": 123,
     "metadata": {},
     "output_type": "execute_result"
    }
   ],
   "source": [
    "list(filter((lambda x: x%5 == 0),input_list))\n"
   ]
  },
  {
   "cell_type": "code",
   "execution_count": 130,
   "id": "65e8da87-9e0b-47fd-934f-d9c646dceba3",
   "metadata": {},
   "outputs": [
    {
     "name": "stdout",
     "output_type": "stream",
     "text": [
      "['soap', 'sharp', 'ship', 'sheep']\n"
     ]
    }
   ],
   "source": [
    "input_list = ['soap','sharp','shy','silent','ship','summer','sheep']\n",
    "s = list(filter((lambda x : x.startswith('s')),input_list))\n",
    "p = list(filter((lambda y : y.endswith('p')),s))\n",
    "print(p)"
   ]
  },
  {
   "cell_type": "code",
   "execution_count": 191,
   "id": "a4aee73e-728a-4342-a8fa-511a501a3d7a",
   "metadata": {},
   "outputs": [
    {
     "ename": "SyntaxError",
     "evalue": "invalid syntax (Temp/ipykernel_18300/2697338697.py, line 3)",
     "output_type": "error",
     "traceback": [
      "\u001b[1;36m  File \u001b[1;32m\"C:\\Users\\dukav\\AppData\\Local\\Temp/ipykernel_18300/2697338697.py\"\u001b[1;36m, line \u001b[1;32m3\u001b[0m\n\u001b[1;33m    a= reduce((lambda x: x.end = ' '),input_list)\u001b[0m\n\u001b[1;37m                               ^\u001b[0m\n\u001b[1;31mSyntaxError\u001b[0m\u001b[1;31m:\u001b[0m invalid syntax\n"
     ]
    }
   ],
   "source": [
    "input_list = ['All','you','have','to','fear','is','fear','itself']\n",
    "from functools import reduce\n",
    "a= reduce((lambda x: x end = ' '),input_list)\n",
    "print(a)"
   ]
  },
  {
   "cell_type": "code",
   "execution_count": 186,
   "id": "b1eadd7b-c8c6-4df2-92dc-c4eea40761da",
   "metadata": {},
   "outputs": [
    {
     "name": "stdout",
     "output_type": "stream",
     "text": [
      "All you have to fear is fear itself "
     ]
    }
   ],
   "source": [
    "for word in input_list:\n",
    "    print(word, end = ' ')"
   ]
  },
  {
   "cell_type": "code",
   "execution_count": 192,
   "id": "4440a36f-6f92-4f8e-b20d-cea00532a481",
   "metadata": {},
   "outputs": [
    {
     "data": {
      "text/plain": [
       "'Allyouhavetofearisfearitself'"
      ]
     },
     "execution_count": 192,
     "metadata": {},
     "output_type": "execute_result"
    }
   ],
   "source": [
    "from functools import reduce\n",
    "input_list = ['All','you','have','to','fear','is','fear','itself']\n",
    "reduce(lambda x,y: x + y,input_list)"
   ]
  },
  {
   "cell_type": "code",
   "execution_count": 199,
   "id": "8bc2f930-1d29-482d-b255-b74b61e5c01e",
   "metadata": {},
   "outputs": [
    {
     "name": "stdout",
     "output_type": "stream",
     "text": [
      "I Love Python\n"
     ]
    }
   ],
   "source": [
    "from functools import reduce\n",
    "input_list = ['I','Love','Python']\n",
    "a=reduce((lambda x,y :x+\" \" +y),input_list)\n",
    "print(str(a))"
   ]
  },
  {
   "cell_type": "code",
   "execution_count": 198,
   "id": "3f67f1c7-5dba-4d77-9564-153f51d484c3",
   "metadata": {},
   "outputs": [
    {
     "name": "stdout",
     "output_type": "stream",
     "text": [
      "All you have to fear is fear itself\n"
     ]
    }
   ],
   "source": [
    "from functools import reduce\n",
    "\n",
    "a=reduce((lambda x,y :x+\" \" +y),input_list)\n",
    "print(str(a))"
   ]
  },
  {
   "cell_type": "code",
   "execution_count": 200,
   "id": "724235fa-1033-4e81-ba4c-371d616e6eb9",
   "metadata": {},
   "outputs": [],
   "source": [
    "input_list = [31, 63, 76, 89]"
   ]
  },
  {
   "cell_type": "code",
   "execution_count": 232,
   "id": "5e5dd748-94ba-4751-84a5-978a92457565",
   "metadata": {},
   "outputs": [
    {
     "ename": "TypeError",
     "evalue": "<lambda>() missing 1 required positional argument: 'y'",
     "output_type": "error",
     "traceback": [
      "\u001b[1;31m---------------------------------------------------------------------------\u001b[0m",
      "\u001b[1;31mTypeError\u001b[0m                                 Traceback (most recent call last)",
      "\u001b[1;32m~\\AppData\\Local\\Temp/ipykernel_18300/2093304622.py\u001b[0m in \u001b[0;36m<module>\u001b[1;34m\u001b[0m\n\u001b[0;32m      1\u001b[0m \u001b[0minput_list\u001b[0m \u001b[1;33m=\u001b[0m \u001b[1;33m[\u001b[0m\u001b[1;36m31\u001b[0m\u001b[1;33m,\u001b[0m \u001b[1;36m63\u001b[0m\u001b[1;33m,\u001b[0m \u001b[1;36m76\u001b[0m\u001b[1;33m,\u001b[0m \u001b[1;36m89\u001b[0m\u001b[1;33m]\u001b[0m\u001b[1;33m\u001b[0m\u001b[1;33m\u001b[0m\u001b[0m\n\u001b[1;32m----> 2\u001b[1;33m \u001b[0ma\u001b[0m\u001b[1;33m=\u001b[0m \u001b[0mlist\u001b[0m\u001b[1;33m(\u001b[0m\u001b[0mfilter\u001b[0m\u001b[1;33m(\u001b[0m\u001b[1;33m(\u001b[0m\u001b[1;32mlambda\u001b[0m \u001b[0mx\u001b[0m\u001b[1;33m,\u001b[0m\u001b[0my\u001b[0m\u001b[1;33m:\u001b[0m \u001b[0mx\u001b[0m\u001b[1;33m>\u001b[0m\u001b[0my\u001b[0m\u001b[1;33m)\u001b[0m\u001b[1;33m,\u001b[0m\u001b[0minput_list\u001b[0m\u001b[1;33m)\u001b[0m\u001b[1;33m)\u001b[0m\u001b[1;33m\u001b[0m\u001b[1;33m\u001b[0m\u001b[0m\n\u001b[0m\u001b[0;32m      3\u001b[0m \u001b[0mprint\u001b[0m\u001b[1;33m(\u001b[0m\u001b[0mlist\u001b[0m\u001b[1;33m(\u001b[0m\u001b[0ma\u001b[0m\u001b[1;33m)\u001b[0m\u001b[1;33m)\u001b[0m\u001b[1;33m\u001b[0m\u001b[1;33m\u001b[0m\u001b[0m\n\u001b[0;32m      4\u001b[0m \u001b[1;33m\u001b[0m\u001b[0m\n",
      "\u001b[1;31mTypeError\u001b[0m: <lambda>() missing 1 required positional argument: 'y'"
     ]
    }
   ],
   "source": [
    "input_list = [31, 63, 76, 89]\n",
    "list(filter((lambda x,y: x>y),input_list))\n",
    "print(list(a))\n",
    "\n"
   ]
  },
  {
   "cell_type": "code",
   "execution_count": null,
   "id": "9b122c3d-3f63-484b-8ab6-377379e5a674",
   "metadata": {},
   "outputs": [],
   "source": []
  }
 ],
 "metadata": {
  "kernelspec": {
   "display_name": "Python 3 (ipykernel)",
   "language": "python",
   "name": "python3"
  },
  "language_info": {
   "codemirror_mode": {
    "name": "ipython",
    "version": 3
   },
   "file_extension": ".py",
   "mimetype": "text/x-python",
   "name": "python",
   "nbconvert_exporter": "python",
   "pygments_lexer": "ipython3",
   "version": "3.8.12"
  }
 },
 "nbformat": 4,
 "nbformat_minor": 5
}
